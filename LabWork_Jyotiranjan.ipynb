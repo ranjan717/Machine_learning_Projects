{
  "nbformat": 4,
  "nbformat_minor": 0,
  "metadata": {
    "colab": {
      "provenance": [],
      "authorship_tag": "ABX9TyPOuCl+1eiZXLQN6toTwvV4",
      "include_colab_link": true
    },
    "kernelspec": {
      "name": "python3",
      "display_name": "Python 3"
    },
    "language_info": {
      "name": "python"
    }
  },
  "cells": [
    {
      "cell_type": "markdown",
      "metadata": {
        "id": "view-in-github",
        "colab_type": "text"
      },
      "source": [
        "<a href=\"https://colab.research.google.com/github/ranjan717/Machine_learning_Projects/blob/main/LabWork_Jyotiranjan.ipynb\" target=\"_parent\"><img src=\"https://colab.research.google.com/assets/colab-badge.svg\" alt=\"Open In Colab\"/></a>"
      ]
    },
    {
      "cell_type": "markdown",
      "source": [
        "Create a Basic feedforward neural network for binary classification(use generate input using NumPy random module)"
      ],
      "metadata": {
        "id": "3CHz4ltj_I-_"
      }
    },
    {
      "cell_type": "code",
      "execution_count": 2,
      "metadata": {
        "id": "k_B94jW3JsdA"
      },
      "outputs": [],
      "source": [
        "import numpy as np                     # For numerical operations and generating random data\n",
        "import tensorflow as tf                # For building and training the neural network\n",
        "from tensorflow.keras.models import Sequential  # Sequential model type for feedforward neural network\n",
        "from tensorflow.keras.layers import Dense       # Dense layer for fully connected neural network layers"
      ]
    },
    {
      "cell_type": "code",
      "source": [
        "# Generating synthetic input data\n",
        "np.random.seed(42)                     # Setting a random seed for reproducibility\n",
        "X = np.random.rand(1000, 20)           # 1000 samples with 20 features each, random values between 0 and 1\n",
        "y = np.random.randint(2, size=(1000, 1))  # 1000 binary labels (0 or 1) for the samples"
      ],
      "metadata": {
        "id": "UOYV4OU6-5uZ"
      },
      "execution_count": 3,
      "outputs": []
    },
    {
      "cell_type": "code",
      "source": [
        "# Defining the feedforward neural network model\n",
        "model = Sequential()                   # Initializing the Sequential model\n",
        "model.add(Dense(32, activation='relu', input_shape=(20,)))  # Adding a Dense layer with 32 neurons and ReLU activation function\n",
        "model.add(Dense(16, activation='relu')) # Adding another Dense layer with 16 neurons and ReLU activation function\n",
        "model.add(Dense(1, activation='sigmoid')) # Output layer with 1 neuron and sigmoid activation function for binary classification"
      ],
      "metadata": {
        "id": "Zxr3Jcbd_S5J"
      },
      "execution_count": 4,
      "outputs": []
    },
    {
      "cell_type": "code",
      "source": [
        "# Compiling the model\n",
        "model.compile(optimizer='adam',        # Using Adam optimizer for training\n",
        "              loss='binary_crossentropy',  # Using binary crossentropy loss function for binary classification\n",
        "              metrics=['accuracy'])    # Tracking accuracy as the performance metric"
      ],
      "metadata": {
        "id": "DW6zWIE3_tE8"
      },
      "execution_count": 5,
      "outputs": []
    },
    {
      "cell_type": "code",
      "source": [
        "# Training the model\n",
        "model.fit(X, y, epochs=10, batch_size=32, validation_split=0.2)  # Training the model for 10 epochs with a batch size of 32 and 20% validation split"
      ],
      "metadata": {
        "colab": {
          "base_uri": "https://localhost:8080/"
        },
        "id": "x3ZX0uUyAKAo",
        "outputId": "b7ec6c6d-24c9-46ef-d476-506c05d80b52"
      },
      "execution_count": 6,
      "outputs": [
        {
          "output_type": "stream",
          "name": "stdout",
          "text": [
            "Epoch 1/10\n",
            "25/25 [==============================] - 1s 13ms/step - loss: 0.7248 - accuracy: 0.4875 - val_loss: 0.7183 - val_accuracy: 0.4000\n",
            "Epoch 2/10\n",
            "25/25 [==============================] - 0s 4ms/step - loss: 0.6980 - accuracy: 0.4925 - val_loss: 0.6987 - val_accuracy: 0.4900\n",
            "Epoch 3/10\n",
            "25/25 [==============================] - 0s 4ms/step - loss: 0.6950 - accuracy: 0.5088 - val_loss: 0.6957 - val_accuracy: 0.4550\n",
            "Epoch 4/10\n",
            "25/25 [==============================] - 0s 3ms/step - loss: 0.6938 - accuracy: 0.5188 - val_loss: 0.6952 - val_accuracy: 0.4750\n",
            "Epoch 5/10\n",
            "25/25 [==============================] - 0s 3ms/step - loss: 0.6918 - accuracy: 0.5312 - val_loss: 0.6953 - val_accuracy: 0.4850\n",
            "Epoch 6/10\n",
            "25/25 [==============================] - 0s 3ms/step - loss: 0.6908 - accuracy: 0.5350 - val_loss: 0.6933 - val_accuracy: 0.4950\n",
            "Epoch 7/10\n",
            "25/25 [==============================] - 0s 4ms/step - loss: 0.6897 - accuracy: 0.5312 - val_loss: 0.6956 - val_accuracy: 0.4700\n",
            "Epoch 8/10\n",
            "25/25 [==============================] - 0s 4ms/step - loss: 0.6884 - accuracy: 0.5550 - val_loss: 0.6917 - val_accuracy: 0.5000\n",
            "Epoch 9/10\n",
            "25/25 [==============================] - 0s 4ms/step - loss: 0.6871 - accuracy: 0.5638 - val_loss: 0.6948 - val_accuracy: 0.4600\n",
            "Epoch 10/10\n",
            "25/25 [==============================] - 0s 4ms/step - loss: 0.6865 - accuracy: 0.5387 - val_loss: 0.6942 - val_accuracy: 0.4850\n"
          ]
        },
        {
          "output_type": "execute_result",
          "data": {
            "text/plain": [
              "<keras.src.callbacks.History at 0x7d1bba1be1d0>"
            ]
          },
          "metadata": {},
          "execution_count": 6
        }
      ]
    },
    {
      "cell_type": "code",
      "source": [
        "# Evaluating the model\n",
        "loss, accuracy = model.evaluate(X, y)  # Evaluating the model's performance on the training data\n",
        "print(f'Loss: {loss}, Accuracy: {accuracy}')  # Printing the loss and accuracy"
      ],
      "metadata": {
        "colab": {
          "base_uri": "https://localhost:8080/"
        },
        "id": "ogIFgbOrAdpu",
        "outputId": "d9e971ad-6e0c-424a-c402-d2eb71e45114"
      },
      "execution_count": 7,
      "outputs": [
        {
          "output_type": "stream",
          "name": "stdout",
          "text": [
            "32/32 [==============================] - 0s 2ms/step - loss: 0.6864 - accuracy: 0.5530\n",
            "Loss: 0.6864022016525269, Accuracy: 0.5529999732971191\n"
          ]
        }
      ]
    },
    {
      "cell_type": "markdown",
      "source": [
        "Create a Neural Network model by your own name with a random input function of shape 300*4 for Binary classification"
      ],
      "metadata": {
        "id": "utVmN40XBAYC"
      }
    },
    {
      "cell_type": "code",
      "source": [
        "# Generating synthetic input data\n",
        "np.random.seed(42)\n",
        "X = np.random.rand(300, 4)  # 300 samples with 4 features each, random values between 0 and 1\n",
        "y = np.random.randint(2, size=(300, 1))  # 300 binary labels (0 or 1) for the samples"
      ],
      "metadata": {
        "id": "0A83MKwpBCH4"
      },
      "execution_count": 8,
      "outputs": []
    },
    {
      "cell_type": "code",
      "source": [
        "# Define the neural network model\n",
        "class RanjanNeuralNetwork(tf.keras.Model):\n",
        "    def __init__(self):\n",
        "        super(RanjanNeuralNetwork, self).__init__()\n",
        "        self.dense1 = Dense(64, activation='relu', input_shape=(4,))\n",
        "        self.dense2 = Dense(32, activation='relu')\n",
        "        self.dense3 = Dense(1, activation='sigmoid')\n",
        "\n",
        "    def call(self, inputs):\n",
        "        x = self.dense1(inputs)\n",
        "        x = self.dense2(x)\n",
        "        return self.dense3(x)"
      ],
      "metadata": {
        "id": "28IFwRuuL3cX"
      },
      "execution_count": 13,
      "outputs": []
    },
    {
      "cell_type": "code",
      "source": [
        "# Create an instance of the model\n",
        "model = RanjanNeuralNetwork()"
      ],
      "metadata": {
        "id": "4LawYHB2MIgX"
      },
      "execution_count": 14,
      "outputs": []
    },
    {
      "cell_type": "code",
      "source": [
        "# Compile the model\n",
        "model.compile(optimizer='adam', loss='binary_crossentropy', metrics=['accuracy'])"
      ],
      "metadata": {
        "id": "tt8jBjkaMtzA"
      },
      "execution_count": 15,
      "outputs": []
    },
    {
      "cell_type": "code",
      "source": [
        "# Train the model\n",
        "model.fit(X, y, epochs=10, batch_size=32, validation_split=0.2)"
      ],
      "metadata": {
        "colab": {
          "base_uri": "https://localhost:8080/"
        },
        "id": "nn_5fCgZM1qe",
        "outputId": "aeeb51a4-7e25-4d39-a21e-9eac3b089cd8"
      },
      "execution_count": 16,
      "outputs": [
        {
          "output_type": "stream",
          "name": "stdout",
          "text": [
            "Epoch 1/10\n",
            "8/8 [==============================] - 1s 32ms/step - loss: 0.6964 - accuracy: 0.4708 - val_loss: 0.6965 - val_accuracy: 0.4667\n",
            "Epoch 2/10\n",
            "8/8 [==============================] - 0s 9ms/step - loss: 0.6928 - accuracy: 0.5292 - val_loss: 0.6969 - val_accuracy: 0.4333\n",
            "Epoch 3/10\n",
            "8/8 [==============================] - 0s 7ms/step - loss: 0.6911 - accuracy: 0.5208 - val_loss: 0.6970 - val_accuracy: 0.4500\n",
            "Epoch 4/10\n",
            "8/8 [==============================] - 0s 9ms/step - loss: 0.6906 - accuracy: 0.5250 - val_loss: 0.6977 - val_accuracy: 0.4167\n",
            "Epoch 5/10\n",
            "8/8 [==============================] - 0s 11ms/step - loss: 0.6895 - accuracy: 0.5333 - val_loss: 0.6977 - val_accuracy: 0.4500\n",
            "Epoch 6/10\n",
            "8/8 [==============================] - 0s 6ms/step - loss: 0.6888 - accuracy: 0.5333 - val_loss: 0.6974 - val_accuracy: 0.4500\n",
            "Epoch 7/10\n",
            "8/8 [==============================] - 0s 9ms/step - loss: 0.6880 - accuracy: 0.5292 - val_loss: 0.6967 - val_accuracy: 0.4167\n",
            "Epoch 8/10\n",
            "8/8 [==============================] - 0s 6ms/step - loss: 0.6878 - accuracy: 0.5458 - val_loss: 0.6970 - val_accuracy: 0.4333\n",
            "Epoch 9/10\n",
            "8/8 [==============================] - 0s 9ms/step - loss: 0.6871 - accuracy: 0.5417 - val_loss: 0.6956 - val_accuracy: 0.4500\n",
            "Epoch 10/10\n",
            "8/8 [==============================] - 0s 9ms/step - loss: 0.6863 - accuracy: 0.5625 - val_loss: 0.6960 - val_accuracy: 0.4167\n"
          ]
        },
        {
          "output_type": "execute_result",
          "data": {
            "text/plain": [
              "<keras.src.callbacks.History at 0x7d1bba08e500>"
            ]
          },
          "metadata": {},
          "execution_count": 16
        }
      ]
    },
    {
      "cell_type": "code",
      "source": [
        "# Evaluate the model\n",
        "loss, accuracy = model.evaluate(X, y)\n",
        "print(f'Loss: {loss}, Accuracy: {accuracy}')"
      ],
      "metadata": {
        "colab": {
          "base_uri": "https://localhost:8080/"
        },
        "id": "V-Bd6OEYM5nJ",
        "outputId": "624b127d-4b1e-42d6-dbb7-41aa6458157c"
      },
      "execution_count": 17,
      "outputs": [
        {
          "output_type": "stream",
          "name": "stdout",
          "text": [
            "10/10 [==============================] - 0s 3ms/step - loss: 0.6878 - accuracy: 0.5233\n",
            "Loss: 0.6877734661102295, Accuracy: 0.5233333110809326\n"
          ]
        }
      ]
    },
    {
      "cell_type": "markdown",
      "source": [
        "Write a Python code using Keras to perform linear regression on randomly generated data."
      ],
      "metadata": {
        "id": "0chqQXu6NJmL"
      }
    },
    {
      "cell_type": "code",
      "source": [
        "# Generating synthetic input data\n",
        "np.random.seed(42)\n",
        "X = np.random.rand(1000, 1)  # 1000 samples with 1 feature each, random values between 0 and 1\n",
        "y = 3 * X + 2 + np.random.randn(1000, 1) * 0.1  # Linear function with some noise"
      ],
      "metadata": {
        "id": "iOkpq9VMNOys"
      },
      "execution_count": 18,
      "outputs": []
    },
    {
      "cell_type": "code",
      "source": [
        "# Define the linear regression model\n",
        "model = Sequential()\n",
        "model.add(Dense(1, input_dim=1))  # Single neuron for linear regression\n",
        "model.compile(optimizer='adam', loss='mean_squared_error')  # Using mean squared error as the loss function\n"
      ],
      "metadata": {
        "id": "E2u37dVLNjMh"
      },
      "execution_count": 19,
      "outputs": []
    },
    {
      "cell_type": "code",
      "source": [
        "# Train the model\n",
        "model.fit(X, y, epochs=10, batch_size=32, validation_split=0.2)"
      ],
      "metadata": {
        "colab": {
          "base_uri": "https://localhost:8080/"
        },
        "id": "3i_-Pl4VNvqy",
        "outputId": "c0b9c5a6-ef5c-417d-975f-eadf153398aa"
      },
      "execution_count": 20,
      "outputs": [
        {
          "output_type": "stream",
          "name": "stdout",
          "text": [
            "Epoch 1/10\n",
            "25/25 [==============================] - 0s 8ms/step - loss: 9.6499 - val_loss: 9.1155\n",
            "Epoch 2/10\n",
            "25/25 [==============================] - 0s 4ms/step - loss: 9.4155 - val_loss: 8.8950\n",
            "Epoch 3/10\n",
            "25/25 [==============================] - 0s 5ms/step - loss: 9.1860 - val_loss: 8.6769\n",
            "Epoch 4/10\n",
            "25/25 [==============================] - 0s 5ms/step - loss: 8.9602 - val_loss: 8.4631\n",
            "Epoch 5/10\n",
            "25/25 [==============================] - 0s 5ms/step - loss: 8.7386 - val_loss: 8.2530\n",
            "Epoch 6/10\n",
            "25/25 [==============================] - 0s 5ms/step - loss: 8.5209 - val_loss: 8.0470\n",
            "Epoch 7/10\n",
            "25/25 [==============================] - 0s 5ms/step - loss: 8.3073 - val_loss: 7.8452\n",
            "Epoch 8/10\n",
            "25/25 [==============================] - 0s 5ms/step - loss: 8.0978 - val_loss: 7.6473\n",
            "Epoch 9/10\n",
            "25/25 [==============================] - 0s 5ms/step - loss: 7.8930 - val_loss: 7.4518\n",
            "Epoch 10/10\n",
            "25/25 [==============================] - 0s 5ms/step - loss: 7.6906 - val_loss: 7.2620\n"
          ]
        },
        {
          "output_type": "execute_result",
          "data": {
            "text/plain": [
              "<keras.src.callbacks.History at 0x7d1baab52170>"
            ]
          },
          "metadata": {},
          "execution_count": 20
        }
      ]
    },
    {
      "cell_type": "code",
      "source": [
        "# Evaluate the model\n",
        "loss = model.evaluate(X, y)\n",
        "print(f'Loss: {loss}')"
      ],
      "metadata": {
        "colab": {
          "base_uri": "https://localhost:8080/"
        },
        "id": "ZdetIJhJNzpc",
        "outputId": "85e7f9eb-ec97-49f0-b48b-af479bbe4624"
      },
      "execution_count": 21,
      "outputs": [
        {
          "output_type": "stream",
          "name": "stdout",
          "text": [
            "32/32 [==============================] - 0s 3ms/step - loss: 7.5229\n",
            "Loss: 7.522863388061523\n"
          ]
        }
      ]
    },
    {
      "cell_type": "code",
      "source": [
        "# Make predictions\n",
        "predictions = model.predict(X)"
      ],
      "metadata": {
        "colab": {
          "base_uri": "https://localhost:8080/"
        },
        "id": "xkkqnzmmN9K8",
        "outputId": "e496383a-458e-4227-a5c8-8eee5fc8a283"
      },
      "execution_count": 22,
      "outputs": [
        {
          "output_type": "stream",
          "name": "stdout",
          "text": [
            "32/32 [==============================] - 0s 1ms/step\n"
          ]
        }
      ]
    },
    {
      "cell_type": "code",
      "source": [
        "# Print the weights and bias learned by the model\n",
        "weights, bias = model.layers[0].get_weights()\n",
        "print(f'Weights: {weights}, Bias: {bias}')"
      ],
      "metadata": {
        "colab": {
          "base_uri": "https://localhost:8080/"
        },
        "id": "OLNAkLybN_4H",
        "outputId": "ecc064c7-2037-4a9d-8183-37c059cd197b"
      },
      "execution_count": 23,
      "outputs": [
        {
          "output_type": "stream",
          "name": "stdout",
          "text": [
            "Weights: [[1.1235043]], Bias: [0.24325222]\n"
          ]
        }
      ]
    },
    {
      "cell_type": "markdown",
      "source": [
        "Use Keras library to create and train a basic RNN for sequence prediction. Use a simple sequence (8, 9, 10,11,12,13) and tries to predict the next number in the sequence."
      ],
      "metadata": {
        "id": "V85_v_-TOWPH"
      }
    },
    {
      "cell_type": "code",
      "source": [
        "# Define the sequence data\n",
        "sequence = np.array([[8, 9, 10, 11, 12], [9, 10, 11, 12, 13]])\n"
      ],
      "metadata": {
        "id": "OEv7PDg6OhVc"
      },
      "execution_count": 24,
      "outputs": []
    },
    {
      "cell_type": "code",
      "source": [
        "# Split the sequence into input (X) and target (y)\n",
        "X = sequence[:, :-1].reshape(len(sequence), 4, 1)  # Input sequence\n",
        "y = sequence[:, 1:]                                # Target sequence"
      ],
      "metadata": {
        "id": "qxXN1gvMOlp5"
      },
      "execution_count": 25,
      "outputs": []
    },
    {
      "cell_type": "code",
      "source": [
        "# Define the RNN model\n",
        "from tensorflow.keras.layers import SimpleRNN, Dense\n",
        "model = Sequential()\n",
        "model.add(SimpleRNN(50, input_shape=(4, 1)))       # RNN layer with 50 units\n",
        "model.add(Dense(1))                                # Output layer with single neuron\n",
        "model.compile(optimizer='adam', loss='mse')        # Using mean squared error as the loss function"
      ],
      "metadata": {
        "id": "pGQBIIpeOr9u"
      },
      "execution_count": 27,
      "outputs": []
    },
    {
      "cell_type": "code",
      "source": [
        "# Train the model\n",
        "model.fit(X, y, epochs=100, verbose=0)"
      ],
      "metadata": {
        "colab": {
          "base_uri": "https://localhost:8080/"
        },
        "id": "dJrItpMYQMMj",
        "outputId": "a587079a-8ae0-4ddf-8b0f-73a52d3f04f1"
      },
      "execution_count": 28,
      "outputs": [
        {
          "output_type": "execute_result",
          "data": {
            "text/plain": [
              "<keras.src.callbacks.History at 0x7d1baace71f0>"
            ]
          },
          "metadata": {},
          "execution_count": 28
        }
      ]
    },
    {
      "cell_type": "code",
      "source": [
        "# Test the model by predicting the next number in the sequence\n",
        "x_test = np.array([[10, 11, 12, 13]])\n",
        "x_test = x_test.reshape((1, 4, 1))\n",
        "prediction = model.predict(x_test)\n",
        "print(f\"Predicted next number in the sequence: {prediction[0][0]}\")"
      ],
      "metadata": {
        "colab": {
          "base_uri": "https://localhost:8080/"
        },
        "id": "0_XZPzKbQU4B",
        "outputId": "3a96d19d-943f-4e5f-900d-13e1a6409dae"
      },
      "execution_count": 29,
      "outputs": [
        {
          "output_type": "stream",
          "name": "stdout",
          "text": [
            "1/1 [==============================] - 0s 159ms/step\n",
            "Predicted next number in the sequence: 7.880725860595703\n"
          ]
        }
      ]
    },
    {
      "cell_type": "markdown",
      "source": [
        "Create a Basic Recurrent Neural Network (RNN) model for text analysis using Python and TensorFlow.(Input text=”Anna, embrace change; Change is constant.”)"
      ],
      "metadata": {
        "id": "4M2ih3QJQlgr"
      }
    },
    {
      "cell_type": "code",
      "source": [
        "from tensorflow.keras.preprocessing.text import Tokenizer\n",
        "from tensorflow.keras.preprocessing.sequence import pad_sequences\n",
        "from tensorflow.keras.models import Sequential\n",
        "from tensorflow.keras.layers import Embedding, SimpleRNN, Dense"
      ],
      "metadata": {
        "id": "scBbw_4UQqlT"
      },
      "execution_count": 30,
      "outputs": []
    },
    {
      "cell_type": "code",
      "source": [
        "# Define the input text\n",
        "input_text = \"Anna, embrace change; Change is constant.\""
      ],
      "metadata": {
        "id": "v_1PbNYkQ2pg"
      },
      "execution_count": 31,
      "outputs": []
    },
    {
      "cell_type": "code",
      "source": [
        "# Preprocess the text\n",
        "tokenizer = Tokenizer()                      # Initialize tokenizer\n",
        "tokenizer.fit_on_texts([input_text])         # Fit tokenizer on input text\n",
        "encoded_text = tokenizer.texts_to_sequences([input_text])[0]  # Encode the text"
      ],
      "metadata": {
        "id": "eJqlnM_HQ8bJ"
      },
      "execution_count": 32,
      "outputs": []
    },
    {
      "cell_type": "code",
      "source": [
        "# Create sequences of words\n",
        "sequences = []\n",
        "for i in range(1, len(encoded_text)):\n",
        "    sequence = encoded_text[:i+1]\n",
        "    sequences.append(sequence)"
      ],
      "metadata": {
        "id": "T7n7hhBDRBQF"
      },
      "execution_count": 33,
      "outputs": []
    },
    {
      "cell_type": "code",
      "source": [
        "# Pad sequences to ensure uniform length\n",
        "max_seq_length = max([len(seq) for seq in sequences])\n",
        "sequences = pad_sequences(sequences, maxlen=max_seq_length, padding='pre')"
      ],
      "metadata": {
        "id": "lHAHklNjRFx_"
      },
      "execution_count": 34,
      "outputs": []
    },
    {
      "cell_type": "code",
      "source": [
        "# Split sequences into input and output\n",
        "X = sequences[:, :-1]\n",
        "y = sequences[:, -1]"
      ],
      "metadata": {
        "id": "oWLc7KizRKBN"
      },
      "execution_count": 35,
      "outputs": []
    },
    {
      "cell_type": "code",
      "source": [
        "# Define the RNN model\n",
        "model = Sequential()\n",
        "model.add(Embedding(input_dim=len(tokenizer.word_index)+1, output_dim=10, input_length=max_seq_length-1))\n",
        "model.add(SimpleRNN(50))   # RNN layer with 50 units\n",
        "model.add(Dense(len(tokenizer.word_index)+1, activation='softmax'))\n"
      ],
      "metadata": {
        "id": "MquJ4G6KRRQ3"
      },
      "execution_count": 36,
      "outputs": []
    },
    {
      "cell_type": "code",
      "source": [
        "# Compile the model\n",
        "model.compile(optimizer='adam', loss='sparse_categorical_crossentropy', metrics=['accuracy'])"
      ],
      "metadata": {
        "id": "bRtIf8kfRVKp"
      },
      "execution_count": 37,
      "outputs": []
    },
    {
      "cell_type": "code",
      "source": [
        "# Train the model\n",
        "model.fit(X, y, epochs=100, verbose=0)\n"
      ],
      "metadata": {
        "colab": {
          "base_uri": "https://localhost:8080/"
        },
        "id": "KBl2OfqTRakG",
        "outputId": "3c2176ca-7869-4150-c4b0-7f03b4c5fbf9"
      },
      "execution_count": 38,
      "outputs": [
        {
          "output_type": "execute_result",
          "data": {
            "text/plain": [
              "<keras.src.callbacks.History at 0x7d1bba6c7e20>"
            ]
          },
          "metadata": {},
          "execution_count": 38
        }
      ]
    },
    {
      "cell_type": "code",
      "source": [
        "# Function to generate text using the trained model\n",
        "def generate_text(seed_text, next_words, model, max_seq_length, tokenizer):\n",
        "    for _ in range(next_words):\n",
        "        encoded = tokenizer.texts_to_sequences([seed_text])[0]\n",
        "        encoded = pad_sequences([encoded], maxlen=max_seq_length-1, padding='pre')\n",
        "        predicted = np.argmax(model.predict(encoded), axis=-1)\n",
        "        output_word = \"\"\n",
        "        for word, index in tokenizer.word_index.items():\n",
        "            if index == predicted:\n",
        "                output_word = word\n",
        "                break\n",
        "        seed_text += \" \" + output_word\n",
        "    return seed_text"
      ],
      "metadata": {
        "id": "Hcg0-EKqRhfy"
      },
      "execution_count": 39,
      "outputs": []
    },
    {
      "cell_type": "code",
      "source": [
        "# Generate text using the trained model\n",
        "generated_text = generate_text(\"Anna,\", 5, model, max_seq_length, tokenizer)\n",
        "print(\"Generated text:\", generated_text)"
      ],
      "metadata": {
        "colab": {
          "base_uri": "https://localhost:8080/"
        },
        "id": "VrTCGWQ_Rsiz",
        "outputId": "4eeeb17e-17b4-4b22-fc53-554d7fa120b4"
      },
      "execution_count": 40,
      "outputs": [
        {
          "output_type": "stream",
          "name": "stdout",
          "text": [
            "1/1 [==============================] - 0s 212ms/step\n",
            "1/1 [==============================] - 0s 28ms/step\n",
            "1/1 [==============================] - 0s 26ms/step\n",
            "1/1 [==============================] - 0s 24ms/step\n",
            "1/1 [==============================] - 0s 21ms/step\n",
            "Generated text: Anna, embrace change change is constant\n"
          ]
        }
      ]
    },
    {
      "cell_type": "markdown",
      "source": [
        "Create a LSTM model for text analysis using Python and TensorFlow.\n",
        "(Input corpus = “Anna, embrace change” “Change is constant”. “She is positive thinker” “Anna takes life as a challenge”)\n",
        "\n"
      ],
      "metadata": {
        "id": "SC1p1byLSf75"
      }
    },
    {
      "cell_type": "code",
      "source": [
        "import numpy as np\n",
        "import tensorflow as tf\n",
        "from tensorflow.keras.preprocessing.text import Tokenizer\n",
        "from tensorflow.keras.preprocessing.sequence import pad_sequences\n",
        "from tensorflow.keras.models import Sequential\n",
        "from tensorflow.keras.layers import Embedding, LSTM, Dense\n",
        "from tensorflow.keras.optimizers import Adam\n",
        "\n",
        "# Sample larger input text corpus\n",
        "corpus = [\n",
        "   \"Anna, embrace change\",\n",
        "    \"Change is constant.\",\n",
        "    \"She is positive thinker\",\n",
        "    \"Anna takes life as a challenge\"\n",
        "]\n",
        "\n",
        "# Prepare tokenizer and word index\n",
        "tokenizer = Tokenizer()\n",
        "tokenizer.fit_on_texts(corpus)\n",
        "word_index = tokenizer.word_index\n",
        "total_words = len(word_index) + 1\n",
        "\n",
        "# Prepare input-output pairs\n",
        "sequences = []\n",
        "for line in corpus:\n",
        "    token_list = tokenizer.texts_to_sequences([line])[0]\n",
        "    for i in range(1, len(token_list)):\n",
        "        n_gram_sequence = token_list[:i+1]\n",
        "        sequences.append(n_gram_sequence)\n",
        "\n",
        "# Pad sequences and create predictors and label\n",
        "max_sequence_len = max([len(seq) for seq in sequences])\n",
        "sequences = pad_sequences(sequences, maxlen=max_sequence_len, padding='pre')\n",
        "x_train, y_train = sequences[:,:-1], sequences[:,-1]\n",
        "\n",
        "# One-hot encode the labels\n",
        "y_train = tf.keras.utils.to_categorical(y_train, num_classes=total_words)\n",
        "\n",
        "# Build LSTM model\n",
        "model = Sequential()\n",
        "model.add(Embedding(total_words, 50, input_length=max_sequence_len-1))  # Embedding layer with 50 dimensions\n",
        "model.add(LSTM(100))\n",
        "model.add(Dense(total_words, activation='softmax'))\n",
        "\n",
        "# Compile the model\n",
        "model.compile(loss='categorical_crossentropy', optimizer=Adam(learning_rate=0.01))\n",
        "\n",
        "# Train the model\n",
        "model.fit(x_train, y_train, epochs=500, verbose=1)\n",
        "\n",
        "# Function to generate text with temperature\n",
        "def generate_text(seed_text, next_words, model, tokenizer, max_sequence_len, temperature=1.0):\n",
        "    output_text = seed_text\n",
        "    for _ in range(next_words):\n",
        "        token_list = tokenizer.texts_to_sequences([output_text])[0]\n",
        "        token_list = pad_sequences([token_list], maxlen=max_sequence_len-1, padding='pre')\n",
        "        predicted_probs = model.predict(token_list, verbose=0)[0]\n",
        "        predicted_probs = np.asarray(predicted_probs).astype('float64')\n",
        "        predicted_probs = np.log(predicted_probs) / temperature\n",
        "        exp_preds = np.exp(predicted_probs)\n",
        "        predicted_probs = exp_preds / np.sum(exp_preds)\n",
        "        predicted_word_index = np.random.choice(range(len(predicted_probs)), p=predicted_probs)\n",
        "        output_word = \"\"\n",
        "        for word, index in tokenizer.word_index.items():\n",
        "            if index == predicted_word_index:\n",
        "                output_word = word\n",
        "                break\n",
        "        output_text += \" \" + output_word\n",
        "    return output_text\n",
        "\n",
        "# Function to generate multiple sentences\n",
        "def generate_sentences(seed_text, num_sentences, words_per_sentence, model, tokenizer, max_sequence_len, temperature=1.0):\n",
        "    sentences = []\n",
        "    for _ in range(num_sentences):\n",
        "        sentence = generate_text(seed_text, words_per_sentence, model, tokenizer, max_sequence_len, temperature)\n",
        "        sentences.append(sentence.strip())\n",
        "    return ', '.join(sentences)\n",
        "\n",
        "# Generate multiple sentences\n",
        "seed_text = \"Anna\"\n",
        "num_sentences = 5\n",
        "words_per_sentence = 10\n",
        "temperature = 1.0  # Adjust temperature for more or less randomness\n",
        "generated_text = generate_sentences(seed_text, num_sentences, words_per_sentence, model, tokenizer, max_sequence_len, temperature)\n",
        "print(generated_text)\n"
      ],
      "metadata": {
        "colab": {
          "base_uri": "https://localhost:8080/"
        },
        "id": "vpENAE5ISdgV",
        "outputId": "5cf40343-e31d-475b-c088-fb137f6c8ab3"
      },
      "execution_count": 52,
      "outputs": [
        {
          "output_type": "stream",
          "name": "stdout",
          "text": [
            "Epoch 1/500\n",
            "1/1 [==============================] - 2s 2s/step - loss: 2.6401\n",
            "Epoch 2/500\n",
            "1/1 [==============================] - 0s 16ms/step - loss: 2.5852\n",
            "Epoch 3/500\n",
            "1/1 [==============================] - 0s 14ms/step - loss: 2.5033\n",
            "Epoch 4/500\n",
            "1/1 [==============================] - 0s 15ms/step - loss: 2.3602\n",
            "Epoch 5/500\n",
            "1/1 [==============================] - 0s 17ms/step - loss: 2.2692\n",
            "Epoch 6/500\n",
            "1/1 [==============================] - 0s 17ms/step - loss: 2.0999\n",
            "Epoch 7/500\n",
            "1/1 [==============================] - 0s 17ms/step - loss: 1.9427\n",
            "Epoch 8/500\n",
            "1/1 [==============================] - 0s 16ms/step - loss: 1.7753\n",
            "Epoch 9/500\n",
            "1/1 [==============================] - 0s 16ms/step - loss: 1.5286\n",
            "Epoch 10/500\n",
            "1/1 [==============================] - 0s 19ms/step - loss: 1.2832\n",
            "Epoch 11/500\n",
            "1/1 [==============================] - 0s 17ms/step - loss: 1.0485\n",
            "Epoch 12/500\n",
            "1/1 [==============================] - 0s 18ms/step - loss: 0.8563\n",
            "Epoch 13/500\n",
            "1/1 [==============================] - 0s 13ms/step - loss: 0.7121\n",
            "Epoch 14/500\n",
            "1/1 [==============================] - 0s 16ms/step - loss: 0.5313\n",
            "Epoch 15/500\n",
            "1/1 [==============================] - 0s 17ms/step - loss: 0.4541\n",
            "Epoch 16/500\n",
            "1/1 [==============================] - 0s 18ms/step - loss: 0.3798\n",
            "Epoch 17/500\n",
            "1/1 [==============================] - 0s 17ms/step - loss: 0.3185\n",
            "Epoch 18/500\n",
            "1/1 [==============================] - 0s 20ms/step - loss: 0.2564\n",
            "Epoch 19/500\n",
            "1/1 [==============================] - 0s 15ms/step - loss: 0.2266\n",
            "Epoch 20/500\n",
            "1/1 [==============================] - 0s 17ms/step - loss: 0.1942\n",
            "Epoch 21/500\n",
            "1/1 [==============================] - 0s 15ms/step - loss: 0.1721\n",
            "Epoch 22/500\n",
            "1/1 [==============================] - 0s 14ms/step - loss: 0.1594\n",
            "Epoch 23/500\n",
            "1/1 [==============================] - 0s 17ms/step - loss: 0.1515\n",
            "Epoch 24/500\n",
            "1/1 [==============================] - 0s 17ms/step - loss: 0.1439\n",
            "Epoch 25/500\n",
            "1/1 [==============================] - 0s 23ms/step - loss: 0.1380\n",
            "Epoch 26/500\n",
            "1/1 [==============================] - 0s 17ms/step - loss: 0.1328\n",
            "Epoch 27/500\n",
            "1/1 [==============================] - 0s 15ms/step - loss: 0.1282\n",
            "Epoch 28/500\n",
            "1/1 [==============================] - 0s 20ms/step - loss: 0.1261\n",
            "Epoch 29/500\n",
            "1/1 [==============================] - 0s 16ms/step - loss: 0.1241\n",
            "Epoch 30/500\n",
            "1/1 [==============================] - 0s 17ms/step - loss: 0.1226\n",
            "Epoch 31/500\n",
            "1/1 [==============================] - 0s 18ms/step - loss: 0.1221\n",
            "Epoch 32/500\n",
            "1/1 [==============================] - 0s 21ms/step - loss: 0.1209\n",
            "Epoch 33/500\n",
            "1/1 [==============================] - 0s 16ms/step - loss: 0.1203\n",
            "Epoch 34/500\n",
            "1/1 [==============================] - 0s 17ms/step - loss: 0.1198\n",
            "Epoch 35/500\n",
            "1/1 [==============================] - 0s 15ms/step - loss: 0.1190\n",
            "Epoch 36/500\n",
            "1/1 [==============================] - 0s 15ms/step - loss: 0.1189\n",
            "Epoch 37/500\n",
            "1/1 [==============================] - 0s 18ms/step - loss: 0.1184\n",
            "Epoch 38/500\n",
            "1/1 [==============================] - 0s 17ms/step - loss: 0.1180\n",
            "Epoch 39/500\n",
            "1/1 [==============================] - 0s 14ms/step - loss: 0.1180\n",
            "Epoch 40/500\n",
            "1/1 [==============================] - 0s 15ms/step - loss: 0.1176\n",
            "Epoch 41/500\n",
            "1/1 [==============================] - 0s 13ms/step - loss: 0.1175\n",
            "Epoch 42/500\n",
            "1/1 [==============================] - 0s 15ms/step - loss: 0.1174\n",
            "Epoch 43/500\n",
            "1/1 [==============================] - 0s 16ms/step - loss: 0.1172\n",
            "Epoch 44/500\n",
            "1/1 [==============================] - 0s 14ms/step - loss: 0.1172\n",
            "Epoch 45/500\n",
            "1/1 [==============================] - 0s 15ms/step - loss: 0.1170\n",
            "Epoch 46/500\n",
            "1/1 [==============================] - 0s 14ms/step - loss: 0.1169\n",
            "Epoch 47/500\n",
            "1/1 [==============================] - 0s 15ms/step - loss: 0.1169\n",
            "Epoch 48/500\n",
            "1/1 [==============================] - 0s 15ms/step - loss: 0.1168\n",
            "Epoch 49/500\n",
            "1/1 [==============================] - 0s 15ms/step - loss: 0.1167\n",
            "Epoch 50/500\n",
            "1/1 [==============================] - 0s 16ms/step - loss: 0.1167\n",
            "Epoch 51/500\n",
            "1/1 [==============================] - 0s 16ms/step - loss: 0.1166\n",
            "Epoch 52/500\n",
            "1/1 [==============================] - 0s 17ms/step - loss: 0.1166\n",
            "Epoch 53/500\n",
            "1/1 [==============================] - 0s 15ms/step - loss: 0.1165\n",
            "Epoch 54/500\n",
            "1/1 [==============================] - 0s 15ms/step - loss: 0.1165\n",
            "Epoch 55/500\n",
            "1/1 [==============================] - 0s 14ms/step - loss: 0.1165\n",
            "Epoch 56/500\n",
            "1/1 [==============================] - 0s 18ms/step - loss: 0.1164\n",
            "Epoch 57/500\n",
            "1/1 [==============================] - 0s 17ms/step - loss: 0.1164\n",
            "Epoch 58/500\n",
            "1/1 [==============================] - 0s 18ms/step - loss: 0.1164\n",
            "Epoch 59/500\n",
            "1/1 [==============================] - 0s 14ms/step - loss: 0.1163\n",
            "Epoch 60/500\n",
            "1/1 [==============================] - 0s 14ms/step - loss: 0.1163\n",
            "Epoch 61/500\n",
            "1/1 [==============================] - 0s 14ms/step - loss: 0.1163\n",
            "Epoch 62/500\n",
            "1/1 [==============================] - 0s 16ms/step - loss: 0.1163\n",
            "Epoch 63/500\n",
            "1/1 [==============================] - 0s 14ms/step - loss: 0.1163\n",
            "Epoch 64/500\n",
            "1/1 [==============================] - 0s 14ms/step - loss: 0.1162\n",
            "Epoch 65/500\n",
            "1/1 [==============================] - 0s 17ms/step - loss: 0.1162\n",
            "Epoch 66/500\n",
            "1/1 [==============================] - 0s 14ms/step - loss: 0.1162\n",
            "Epoch 67/500\n",
            "1/1 [==============================] - 0s 15ms/step - loss: 0.1162\n",
            "Epoch 68/500\n",
            "1/1 [==============================] - 0s 15ms/step - loss: 0.1162\n",
            "Epoch 69/500\n",
            "1/1 [==============================] - 0s 14ms/step - loss: 0.1162\n",
            "Epoch 70/500\n",
            "1/1 [==============================] - 0s 13ms/step - loss: 0.1162\n",
            "Epoch 71/500\n",
            "1/1 [==============================] - 0s 13ms/step - loss: 0.1162\n",
            "Epoch 72/500\n",
            "1/1 [==============================] - 0s 14ms/step - loss: 0.1161\n",
            "Epoch 73/500\n",
            "1/1 [==============================] - 0s 16ms/step - loss: 0.1161\n",
            "Epoch 74/500\n",
            "1/1 [==============================] - 0s 15ms/step - loss: 0.1161\n",
            "Epoch 75/500\n",
            "1/1 [==============================] - 0s 14ms/step - loss: 0.1161\n",
            "Epoch 76/500\n",
            "1/1 [==============================] - 0s 18ms/step - loss: 0.1161\n",
            "Epoch 77/500\n",
            "1/1 [==============================] - 0s 20ms/step - loss: 0.1161\n",
            "Epoch 78/500\n",
            "1/1 [==============================] - 0s 18ms/step - loss: 0.1161\n",
            "Epoch 79/500\n",
            "1/1 [==============================] - 0s 14ms/step - loss: 0.1161\n",
            "Epoch 80/500\n",
            "1/1 [==============================] - 0s 14ms/step - loss: 0.1161\n",
            "Epoch 81/500\n",
            "1/1 [==============================] - 0s 13ms/step - loss: 0.1161\n",
            "Epoch 82/500\n",
            "1/1 [==============================] - 0s 15ms/step - loss: 0.1161\n",
            "Epoch 83/500\n",
            "1/1 [==============================] - 0s 14ms/step - loss: 0.1161\n",
            "Epoch 84/500\n",
            "1/1 [==============================] - 0s 14ms/step - loss: 0.1160\n",
            "Epoch 85/500\n",
            "1/1 [==============================] - 0s 14ms/step - loss: 0.1160\n",
            "Epoch 86/500\n",
            "1/1 [==============================] - 0s 14ms/step - loss: 0.1160\n",
            "Epoch 87/500\n",
            "1/1 [==============================] - 0s 16ms/step - loss: 0.1160\n",
            "Epoch 88/500\n",
            "1/1 [==============================] - 0s 14ms/step - loss: 0.1160\n",
            "Epoch 89/500\n",
            "1/1 [==============================] - 0s 15ms/step - loss: 0.1160\n",
            "Epoch 90/500\n",
            "1/1 [==============================] - 0s 15ms/step - loss: 0.1160\n",
            "Epoch 91/500\n",
            "1/1 [==============================] - 0s 15ms/step - loss: 0.1160\n",
            "Epoch 92/500\n",
            "1/1 [==============================] - 0s 14ms/step - loss: 0.1160\n",
            "Epoch 93/500\n",
            "1/1 [==============================] - 0s 14ms/step - loss: 0.1160\n",
            "Epoch 94/500\n",
            "1/1 [==============================] - 0s 14ms/step - loss: 0.1160\n",
            "Epoch 95/500\n",
            "1/1 [==============================] - 0s 15ms/step - loss: 0.1160\n",
            "Epoch 96/500\n",
            "1/1 [==============================] - 0s 19ms/step - loss: 0.1160\n",
            "Epoch 97/500\n",
            "1/1 [==============================] - 0s 18ms/step - loss: 0.1160\n",
            "Epoch 98/500\n",
            "1/1 [==============================] - 0s 15ms/step - loss: 0.1160\n",
            "Epoch 99/500\n",
            "1/1 [==============================] - 0s 14ms/step - loss: 0.1160\n",
            "Epoch 100/500\n",
            "1/1 [==============================] - 0s 18ms/step - loss: 0.1160\n",
            "Epoch 101/500\n",
            "1/1 [==============================] - 0s 13ms/step - loss: 0.1160\n",
            "Epoch 102/500\n",
            "1/1 [==============================] - 0s 15ms/step - loss: 0.1160\n",
            "Epoch 103/500\n",
            "1/1 [==============================] - 0s 13ms/step - loss: 0.1160\n",
            "Epoch 104/500\n",
            "1/1 [==============================] - 0s 16ms/step - loss: 0.1160\n",
            "Epoch 105/500\n",
            "1/1 [==============================] - 0s 17ms/step - loss: 0.1159\n",
            "Epoch 106/500\n",
            "1/1 [==============================] - 0s 14ms/step - loss: 0.1159\n",
            "Epoch 107/500\n",
            "1/1 [==============================] - 0s 17ms/step - loss: 0.1159\n",
            "Epoch 108/500\n",
            "1/1 [==============================] - 0s 13ms/step - loss: 0.1159\n",
            "Epoch 109/500\n",
            "1/1 [==============================] - 0s 12ms/step - loss: 0.1159\n",
            "Epoch 110/500\n",
            "1/1 [==============================] - 0s 14ms/step - loss: 0.1159\n",
            "Epoch 111/500\n",
            "1/1 [==============================] - 0s 15ms/step - loss: 0.1159\n",
            "Epoch 112/500\n",
            "1/1 [==============================] - 0s 14ms/step - loss: 0.1159\n",
            "Epoch 113/500\n",
            "1/1 [==============================] - 0s 14ms/step - loss: 0.1159\n",
            "Epoch 114/500\n",
            "1/1 [==============================] - 0s 14ms/step - loss: 0.1159\n",
            "Epoch 115/500\n",
            "1/1 [==============================] - 0s 13ms/step - loss: 0.1159\n",
            "Epoch 116/500\n",
            "1/1 [==============================] - 0s 16ms/step - loss: 0.1159\n",
            "Epoch 117/500\n",
            "1/1 [==============================] - 0s 15ms/step - loss: 0.1159\n",
            "Epoch 118/500\n",
            "1/1 [==============================] - 0s 16ms/step - loss: 0.1159\n",
            "Epoch 119/500\n",
            "1/1 [==============================] - 0s 17ms/step - loss: 0.1159\n",
            "Epoch 120/500\n",
            "1/1 [==============================] - 0s 16ms/step - loss: 0.1159\n",
            "Epoch 121/500\n",
            "1/1 [==============================] - 0s 13ms/step - loss: 0.1159\n",
            "Epoch 122/500\n",
            "1/1 [==============================] - 0s 15ms/step - loss: 0.1159\n",
            "Epoch 123/500\n",
            "1/1 [==============================] - 0s 16ms/step - loss: 0.1159\n",
            "Epoch 124/500\n",
            "1/1 [==============================] - 0s 14ms/step - loss: 0.1159\n",
            "Epoch 125/500\n",
            "1/1 [==============================] - 0s 16ms/step - loss: 0.1159\n",
            "Epoch 126/500\n",
            "1/1 [==============================] - 0s 20ms/step - loss: 0.1159\n",
            "Epoch 127/500\n",
            "1/1 [==============================] - 0s 14ms/step - loss: 0.1159\n",
            "Epoch 128/500\n",
            "1/1 [==============================] - 0s 14ms/step - loss: 0.1159\n",
            "Epoch 129/500\n",
            "1/1 [==============================] - 0s 18ms/step - loss: 0.1159\n",
            "Epoch 130/500\n",
            "1/1 [==============================] - 0s 14ms/step - loss: 0.1159\n",
            "Epoch 131/500\n",
            "1/1 [==============================] - 0s 18ms/step - loss: 0.1159\n",
            "Epoch 132/500\n",
            "1/1 [==============================] - 0s 18ms/step - loss: 0.1159\n",
            "Epoch 133/500\n",
            "1/1 [==============================] - 0s 20ms/step - loss: 0.1159\n",
            "Epoch 134/500\n",
            "1/1 [==============================] - 0s 18ms/step - loss: 0.1159\n",
            "Epoch 135/500\n",
            "1/1 [==============================] - 0s 15ms/step - loss: 0.1159\n",
            "Epoch 136/500\n",
            "1/1 [==============================] - 0s 15ms/step - loss: 0.1159\n",
            "Epoch 137/500\n",
            "1/1 [==============================] - 0s 26ms/step - loss: 0.1159\n",
            "Epoch 138/500\n",
            "1/1 [==============================] - 0s 19ms/step - loss: 0.1159\n",
            "Epoch 139/500\n",
            "1/1 [==============================] - 0s 25ms/step - loss: 0.1159\n",
            "Epoch 140/500\n",
            "1/1 [==============================] - 0s 21ms/step - loss: 0.1159\n",
            "Epoch 141/500\n",
            "1/1 [==============================] - 0s 21ms/step - loss: 0.1158\n",
            "Epoch 142/500\n",
            "1/1 [==============================] - 0s 22ms/step - loss: 0.1158\n",
            "Epoch 143/500\n",
            "1/1 [==============================] - 0s 28ms/step - loss: 0.1158\n",
            "Epoch 144/500\n",
            "1/1 [==============================] - 0s 24ms/step - loss: 0.1158\n",
            "Epoch 145/500\n",
            "1/1 [==============================] - 0s 26ms/step - loss: 0.1158\n",
            "Epoch 146/500\n",
            "1/1 [==============================] - 0s 20ms/step - loss: 0.1158\n",
            "Epoch 147/500\n",
            "1/1 [==============================] - 0s 27ms/step - loss: 0.1158\n",
            "Epoch 148/500\n",
            "1/1 [==============================] - 0s 24ms/step - loss: 0.1158\n",
            "Epoch 149/500\n",
            "1/1 [==============================] - 0s 21ms/step - loss: 0.1158\n",
            "Epoch 150/500\n",
            "1/1 [==============================] - 0s 24ms/step - loss: 0.1158\n",
            "Epoch 151/500\n",
            "1/1 [==============================] - 0s 20ms/step - loss: 0.1158\n",
            "Epoch 152/500\n",
            "1/1 [==============================] - 0s 22ms/step - loss: 0.1158\n",
            "Epoch 153/500\n",
            "1/1 [==============================] - 0s 31ms/step - loss: 0.1158\n",
            "Epoch 154/500\n",
            "1/1 [==============================] - 0s 36ms/step - loss: 0.1158\n",
            "Epoch 155/500\n",
            "1/1 [==============================] - 0s 22ms/step - loss: 0.1158\n",
            "Epoch 156/500\n",
            "1/1 [==============================] - 0s 39ms/step - loss: 0.1158\n",
            "Epoch 157/500\n",
            "1/1 [==============================] - 0s 32ms/step - loss: 0.1158\n",
            "Epoch 158/500\n",
            "1/1 [==============================] - 0s 33ms/step - loss: 0.1158\n",
            "Epoch 159/500\n",
            "1/1 [==============================] - 0s 46ms/step - loss: 0.1158\n",
            "Epoch 160/500\n",
            "1/1 [==============================] - 0s 37ms/step - loss: 0.1158\n",
            "Epoch 161/500\n",
            "1/1 [==============================] - 0s 33ms/step - loss: 0.1158\n",
            "Epoch 162/500\n",
            "1/1 [==============================] - 0s 31ms/step - loss: 0.1158\n",
            "Epoch 163/500\n",
            "1/1 [==============================] - 0s 18ms/step - loss: 0.1158\n",
            "Epoch 164/500\n",
            "1/1 [==============================] - 0s 25ms/step - loss: 0.1158\n",
            "Epoch 165/500\n",
            "1/1 [==============================] - 0s 20ms/step - loss: 0.1158\n",
            "Epoch 166/500\n",
            "1/1 [==============================] - 0s 20ms/step - loss: 0.1158\n",
            "Epoch 167/500\n",
            "1/1 [==============================] - 0s 15ms/step - loss: 0.1158\n",
            "Epoch 168/500\n",
            "1/1 [==============================] - 0s 12ms/step - loss: 0.1158\n",
            "Epoch 169/500\n",
            "1/1 [==============================] - 0s 15ms/step - loss: 0.1158\n",
            "Epoch 170/500\n",
            "1/1 [==============================] - 0s 15ms/step - loss: 0.1158\n",
            "Epoch 171/500\n",
            "1/1 [==============================] - 0s 15ms/step - loss: 0.1158\n",
            "Epoch 172/500\n",
            "1/1 [==============================] - 0s 19ms/step - loss: 0.1158\n",
            "Epoch 173/500\n",
            "1/1 [==============================] - 0s 16ms/step - loss: 0.1158\n",
            "Epoch 174/500\n",
            "1/1 [==============================] - 0s 15ms/step - loss: 0.1158\n",
            "Epoch 175/500\n",
            "1/1 [==============================] - 0s 17ms/step - loss: 0.1158\n",
            "Epoch 176/500\n",
            "1/1 [==============================] - 0s 14ms/step - loss: 0.1158\n",
            "Epoch 177/500\n",
            "1/1 [==============================] - 0s 15ms/step - loss: 0.1158\n",
            "Epoch 178/500\n",
            "1/1 [==============================] - 0s 16ms/step - loss: 0.1158\n",
            "Epoch 179/500\n",
            "1/1 [==============================] - 0s 15ms/step - loss: 0.1158\n",
            "Epoch 180/500\n",
            "1/1 [==============================] - 0s 18ms/step - loss: 0.1158\n",
            "Epoch 181/500\n",
            "1/1 [==============================] - 0s 15ms/step - loss: 0.1158\n",
            "Epoch 182/500\n",
            "1/1 [==============================] - 0s 16ms/step - loss: 0.1158\n",
            "Epoch 183/500\n",
            "1/1 [==============================] - 0s 15ms/step - loss: 0.1158\n",
            "Epoch 184/500\n",
            "1/1 [==============================] - 0s 16ms/step - loss: 0.1158\n",
            "Epoch 185/500\n",
            "1/1 [==============================] - 0s 15ms/step - loss: 0.1158\n",
            "Epoch 186/500\n",
            "1/1 [==============================] - 0s 15ms/step - loss: 0.1158\n",
            "Epoch 187/500\n",
            "1/1 [==============================] - 0s 16ms/step - loss: 0.1158\n",
            "Epoch 188/500\n",
            "1/1 [==============================] - 0s 16ms/step - loss: 0.1158\n",
            "Epoch 189/500\n",
            "1/1 [==============================] - 0s 14ms/step - loss: 0.1158\n",
            "Epoch 190/500\n",
            "1/1 [==============================] - 0s 16ms/step - loss: 0.1158\n",
            "Epoch 191/500\n",
            "1/1 [==============================] - 0s 16ms/step - loss: 0.1158\n",
            "Epoch 192/500\n",
            "1/1 [==============================] - 0s 17ms/step - loss: 0.1158\n",
            "Epoch 193/500\n",
            "1/1 [==============================] - 0s 16ms/step - loss: 0.1158\n",
            "Epoch 194/500\n",
            "1/1 [==============================] - 0s 16ms/step - loss: 0.1158\n",
            "Epoch 195/500\n",
            "1/1 [==============================] - 0s 16ms/step - loss: 0.1158\n",
            "Epoch 196/500\n",
            "1/1 [==============================] - 0s 15ms/step - loss: 0.1158\n",
            "Epoch 197/500\n",
            "1/1 [==============================] - 0s 19ms/step - loss: 0.1158\n",
            "Epoch 198/500\n",
            "1/1 [==============================] - 0s 15ms/step - loss: 0.1158\n",
            "Epoch 199/500\n",
            "1/1 [==============================] - 0s 18ms/step - loss: 0.1158\n",
            "Epoch 200/500\n",
            "1/1 [==============================] - 0s 16ms/step - loss: 0.1158\n",
            "Epoch 201/500\n",
            "1/1 [==============================] - 0s 15ms/step - loss: 0.1158\n",
            "Epoch 202/500\n",
            "1/1 [==============================] - 0s 14ms/step - loss: 0.1158\n",
            "Epoch 203/500\n",
            "1/1 [==============================] - 0s 15ms/step - loss: 0.1157\n",
            "Epoch 204/500\n",
            "1/1 [==============================] - 0s 15ms/step - loss: 0.1157\n",
            "Epoch 205/500\n",
            "1/1 [==============================] - 0s 17ms/step - loss: 0.1157\n",
            "Epoch 206/500\n",
            "1/1 [==============================] - 0s 16ms/step - loss: 0.1157\n",
            "Epoch 207/500\n",
            "1/1 [==============================] - 0s 15ms/step - loss: 0.1157\n",
            "Epoch 208/500\n",
            "1/1 [==============================] - 0s 16ms/step - loss: 0.1157\n",
            "Epoch 209/500\n",
            "1/1 [==============================] - 0s 16ms/step - loss: 0.1157\n",
            "Epoch 210/500\n",
            "1/1 [==============================] - 0s 16ms/step - loss: 0.1157\n",
            "Epoch 211/500\n",
            "1/1 [==============================] - 0s 16ms/step - loss: 0.1157\n",
            "Epoch 212/500\n",
            "1/1 [==============================] - 0s 16ms/step - loss: 0.1157\n",
            "Epoch 213/500\n",
            "1/1 [==============================] - 0s 17ms/step - loss: 0.1157\n",
            "Epoch 214/500\n",
            "1/1 [==============================] - 0s 17ms/step - loss: 0.1157\n",
            "Epoch 215/500\n",
            "1/1 [==============================] - 0s 17ms/step - loss: 0.1157\n",
            "Epoch 216/500\n",
            "1/1 [==============================] - 0s 18ms/step - loss: 0.1157\n",
            "Epoch 217/500\n",
            "1/1 [==============================] - 0s 17ms/step - loss: 0.1157\n",
            "Epoch 218/500\n",
            "1/1 [==============================] - 0s 21ms/step - loss: 0.1157\n",
            "Epoch 219/500\n",
            "1/1 [==============================] - 0s 15ms/step - loss: 0.1157\n",
            "Epoch 220/500\n",
            "1/1 [==============================] - 0s 16ms/step - loss: 0.1157\n",
            "Epoch 221/500\n",
            "1/1 [==============================] - 0s 19ms/step - loss: 0.1157\n",
            "Epoch 222/500\n",
            "1/1 [==============================] - 0s 15ms/step - loss: 0.1157\n",
            "Epoch 223/500\n",
            "1/1 [==============================] - 0s 16ms/step - loss: 0.1157\n",
            "Epoch 224/500\n",
            "1/1 [==============================] - 0s 15ms/step - loss: 0.1157\n",
            "Epoch 225/500\n",
            "1/1 [==============================] - 0s 19ms/step - loss: 0.1157\n",
            "Epoch 226/500\n",
            "1/1 [==============================] - 0s 15ms/step - loss: 0.1157\n",
            "Epoch 227/500\n",
            "1/1 [==============================] - 0s 15ms/step - loss: 0.1157\n",
            "Epoch 228/500\n",
            "1/1 [==============================] - 0s 16ms/step - loss: 0.1157\n",
            "Epoch 229/500\n",
            "1/1 [==============================] - 0s 18ms/step - loss: 0.1157\n",
            "Epoch 230/500\n",
            "1/1 [==============================] - 0s 17ms/step - loss: 0.1157\n",
            "Epoch 231/500\n",
            "1/1 [==============================] - 0s 15ms/step - loss: 0.1157\n",
            "Epoch 232/500\n",
            "1/1 [==============================] - 0s 16ms/step - loss: 0.1157\n",
            "Epoch 233/500\n",
            "1/1 [==============================] - 0s 15ms/step - loss: 0.1157\n",
            "Epoch 234/500\n",
            "1/1 [==============================] - 0s 14ms/step - loss: 0.1157\n",
            "Epoch 235/500\n",
            "1/1 [==============================] - 0s 15ms/step - loss: 0.1157\n",
            "Epoch 236/500\n",
            "1/1 [==============================] - 0s 15ms/step - loss: 0.1157\n",
            "Epoch 237/500\n",
            "1/1 [==============================] - 0s 15ms/step - loss: 0.1157\n",
            "Epoch 238/500\n",
            "1/1 [==============================] - 0s 17ms/step - loss: 0.1157\n",
            "Epoch 239/500\n",
            "1/1 [==============================] - 0s 16ms/step - loss: 0.1157\n",
            "Epoch 240/500\n",
            "1/1 [==============================] - 0s 15ms/step - loss: 0.1157\n",
            "Epoch 241/500\n",
            "1/1 [==============================] - 0s 15ms/step - loss: 0.1157\n",
            "Epoch 242/500\n",
            "1/1 [==============================] - 0s 15ms/step - loss: 0.1157\n",
            "Epoch 243/500\n",
            "1/1 [==============================] - 0s 18ms/step - loss: 0.1157\n",
            "Epoch 244/500\n",
            "1/1 [==============================] - 0s 15ms/step - loss: 0.1157\n",
            "Epoch 245/500\n",
            "1/1 [==============================] - 0s 20ms/step - loss: 0.1157\n",
            "Epoch 246/500\n",
            "1/1 [==============================] - 0s 16ms/step - loss: 0.1157\n",
            "Epoch 247/500\n",
            "1/1 [==============================] - 0s 15ms/step - loss: 0.1157\n",
            "Epoch 248/500\n",
            "1/1 [==============================] - 0s 15ms/step - loss: 0.1157\n",
            "Epoch 249/500\n",
            "1/1 [==============================] - 0s 16ms/step - loss: 0.1157\n",
            "Epoch 250/500\n",
            "1/1 [==============================] - 0s 16ms/step - loss: 0.1157\n",
            "Epoch 251/500\n",
            "1/1 [==============================] - 0s 16ms/step - loss: 0.1157\n",
            "Epoch 252/500\n",
            "1/1 [==============================] - 0s 15ms/step - loss: 0.1157\n",
            "Epoch 253/500\n",
            "1/1 [==============================] - 0s 15ms/step - loss: 0.1157\n",
            "Epoch 254/500\n",
            "1/1 [==============================] - 0s 15ms/step - loss: 0.1157\n",
            "Epoch 255/500\n",
            "1/1 [==============================] - 0s 15ms/step - loss: 0.1157\n",
            "Epoch 256/500\n",
            "1/1 [==============================] - 0s 15ms/step - loss: 0.1157\n",
            "Epoch 257/500\n",
            "1/1 [==============================] - 0s 16ms/step - loss: 0.1157\n",
            "Epoch 258/500\n",
            "1/1 [==============================] - 0s 16ms/step - loss: 0.1157\n",
            "Epoch 259/500\n",
            "1/1 [==============================] - 0s 16ms/step - loss: 0.1157\n",
            "Epoch 260/500\n",
            "1/1 [==============================] - 0s 16ms/step - loss: 0.1157\n",
            "Epoch 261/500\n",
            "1/1 [==============================] - 0s 16ms/step - loss: 0.1157\n",
            "Epoch 262/500\n",
            "1/1 [==============================] - 0s 17ms/step - loss: 0.1157\n",
            "Epoch 263/500\n",
            "1/1 [==============================] - 0s 16ms/step - loss: 0.1157\n",
            "Epoch 264/500\n",
            "1/1 [==============================] - 0s 18ms/step - loss: 0.1157\n",
            "Epoch 265/500\n",
            "1/1 [==============================] - 0s 15ms/step - loss: 0.1157\n",
            "Epoch 266/500\n",
            "1/1 [==============================] - 0s 16ms/step - loss: 0.1157\n",
            "Epoch 267/500\n",
            "1/1 [==============================] - 0s 15ms/step - loss: 0.1157\n",
            "Epoch 268/500\n",
            "1/1 [==============================] - 0s 15ms/step - loss: 0.1157\n",
            "Epoch 269/500\n",
            "1/1 [==============================] - 0s 17ms/step - loss: 0.1157\n",
            "Epoch 270/500\n",
            "1/1 [==============================] - 0s 16ms/step - loss: 0.1157\n",
            "Epoch 271/500\n",
            "1/1 [==============================] - 0s 18ms/step - loss: 0.1157\n",
            "Epoch 272/500\n",
            "1/1 [==============================] - 0s 23ms/step - loss: 0.1157\n",
            "Epoch 273/500\n",
            "1/1 [==============================] - 0s 26ms/step - loss: 0.1157\n",
            "Epoch 274/500\n",
            "1/1 [==============================] - 0s 20ms/step - loss: 0.1157\n",
            "Epoch 275/500\n",
            "1/1 [==============================] - 0s 17ms/step - loss: 0.1157\n",
            "Epoch 276/500\n",
            "1/1 [==============================] - 0s 16ms/step - loss: 0.1157\n",
            "Epoch 277/500\n",
            "1/1 [==============================] - 0s 15ms/step - loss: 0.1157\n",
            "Epoch 278/500\n",
            "1/1 [==============================] - 0s 17ms/step - loss: 0.1157\n",
            "Epoch 279/500\n",
            "1/1 [==============================] - 0s 15ms/step - loss: 0.1157\n",
            "Epoch 280/500\n",
            "1/1 [==============================] - 0s 17ms/step - loss: 0.1157\n",
            "Epoch 281/500\n",
            "1/1 [==============================] - 0s 16ms/step - loss: 0.1157\n",
            "Epoch 282/500\n",
            "1/1 [==============================] - 0s 16ms/step - loss: 0.1157\n",
            "Epoch 283/500\n",
            "1/1 [==============================] - 0s 21ms/step - loss: 0.1157\n",
            "Epoch 284/500\n",
            "1/1 [==============================] - 0s 20ms/step - loss: 0.1157\n",
            "Epoch 285/500\n",
            "1/1 [==============================] - 0s 16ms/step - loss: 0.1157\n",
            "Epoch 286/500\n",
            "1/1 [==============================] - 0s 18ms/step - loss: 0.1157\n",
            "Epoch 287/500\n",
            "1/1 [==============================] - 0s 17ms/step - loss: 0.1157\n",
            "Epoch 288/500\n",
            "1/1 [==============================] - 0s 15ms/step - loss: 0.1157\n",
            "Epoch 289/500\n",
            "1/1 [==============================] - 0s 15ms/step - loss: 0.1157\n",
            "Epoch 290/500\n",
            "1/1 [==============================] - 0s 16ms/step - loss: 0.1157\n",
            "Epoch 291/500\n",
            "1/1 [==============================] - 0s 23ms/step - loss: 0.1157\n",
            "Epoch 292/500\n",
            "1/1 [==============================] - 0s 15ms/step - loss: 0.1157\n",
            "Epoch 293/500\n",
            "1/1 [==============================] - 0s 15ms/step - loss: 0.1157\n",
            "Epoch 294/500\n",
            "1/1 [==============================] - 0s 16ms/step - loss: 0.1157\n",
            "Epoch 295/500\n",
            "1/1 [==============================] - 0s 15ms/step - loss: 0.1157\n",
            "Epoch 296/500\n",
            "1/1 [==============================] - 0s 15ms/step - loss: 0.1157\n",
            "Epoch 297/500\n",
            "1/1 [==============================] - 0s 15ms/step - loss: 0.1157\n",
            "Epoch 298/500\n",
            "1/1 [==============================] - 0s 15ms/step - loss: 0.1157\n",
            "Epoch 299/500\n",
            "1/1 [==============================] - 0s 15ms/step - loss: 0.1157\n",
            "Epoch 300/500\n",
            "1/1 [==============================] - 0s 15ms/step - loss: 0.1157\n",
            "Epoch 301/500\n",
            "1/1 [==============================] - 0s 14ms/step - loss: 0.1157\n",
            "Epoch 302/500\n",
            "1/1 [==============================] - 0s 20ms/step - loss: 0.1157\n",
            "Epoch 303/500\n",
            "1/1 [==============================] - 0s 16ms/step - loss: 0.1157\n",
            "Epoch 304/500\n",
            "1/1 [==============================] - 0s 22ms/step - loss: 0.1157\n",
            "Epoch 305/500\n",
            "1/1 [==============================] - 0s 17ms/step - loss: 0.1157\n",
            "Epoch 306/500\n",
            "1/1 [==============================] - 0s 15ms/step - loss: 0.1157\n",
            "Epoch 307/500\n",
            "1/1 [==============================] - 0s 15ms/step - loss: 0.1157\n",
            "Epoch 308/500\n",
            "1/1 [==============================] - 0s 18ms/step - loss: 0.1157\n",
            "Epoch 309/500\n",
            "1/1 [==============================] - 0s 16ms/step - loss: 0.1157\n",
            "Epoch 310/500\n",
            "1/1 [==============================] - 0s 15ms/step - loss: 0.1157\n",
            "Epoch 311/500\n",
            "1/1 [==============================] - 0s 15ms/step - loss: 0.1157\n",
            "Epoch 312/500\n",
            "1/1 [==============================] - 0s 18ms/step - loss: 0.1157\n",
            "Epoch 313/500\n",
            "1/1 [==============================] - 0s 20ms/step - loss: 0.1157\n",
            "Epoch 314/500\n",
            "1/1 [==============================] - 0s 22ms/step - loss: 0.1157\n",
            "Epoch 315/500\n",
            "1/1 [==============================] - 0s 21ms/step - loss: 0.1157\n",
            "Epoch 316/500\n",
            "1/1 [==============================] - 0s 23ms/step - loss: 0.1157\n",
            "Epoch 317/500\n",
            "1/1 [==============================] - 0s 25ms/step - loss: 0.1157\n",
            "Epoch 318/500\n",
            "1/1 [==============================] - 0s 20ms/step - loss: 0.1157\n",
            "Epoch 319/500\n",
            "1/1 [==============================] - 0s 20ms/step - loss: 0.1157\n",
            "Epoch 320/500\n",
            "1/1 [==============================] - 0s 21ms/step - loss: 0.1157\n",
            "Epoch 321/500\n",
            "1/1 [==============================] - 0s 19ms/step - loss: 0.1157\n",
            "Epoch 322/500\n",
            "1/1 [==============================] - 0s 20ms/step - loss: 0.1157\n",
            "Epoch 323/500\n",
            "1/1 [==============================] - 0s 17ms/step - loss: 0.1157\n",
            "Epoch 324/500\n",
            "1/1 [==============================] - 0s 17ms/step - loss: 0.1157\n",
            "Epoch 325/500\n",
            "1/1 [==============================] - 0s 15ms/step - loss: 0.1157\n",
            "Epoch 326/500\n",
            "1/1 [==============================] - 0s 21ms/step - loss: 0.1157\n",
            "Epoch 327/500\n",
            "1/1 [==============================] - 0s 14ms/step - loss: 0.1157\n",
            "Epoch 328/500\n",
            "1/1 [==============================] - 0s 15ms/step - loss: 0.1157\n",
            "Epoch 329/500\n",
            "1/1 [==============================] - 0s 14ms/step - loss: 0.1157\n",
            "Epoch 330/500\n",
            "1/1 [==============================] - 0s 16ms/step - loss: 0.1157\n",
            "Epoch 331/500\n",
            "1/1 [==============================] - 0s 15ms/step - loss: 0.1157\n",
            "Epoch 332/500\n",
            "1/1 [==============================] - 0s 15ms/step - loss: 0.1157\n",
            "Epoch 333/500\n",
            "1/1 [==============================] - 0s 18ms/step - loss: 0.1157\n",
            "Epoch 334/500\n",
            "1/1 [==============================] - 0s 20ms/step - loss: 0.1157\n",
            "Epoch 335/500\n",
            "1/1 [==============================] - 0s 16ms/step - loss: 0.1157\n",
            "Epoch 336/500\n",
            "1/1 [==============================] - 0s 16ms/step - loss: 0.1156\n",
            "Epoch 337/500\n",
            "1/1 [==============================] - 0s 15ms/step - loss: 0.1156\n",
            "Epoch 338/500\n",
            "1/1 [==============================] - 0s 17ms/step - loss: 0.1156\n",
            "Epoch 339/500\n",
            "1/1 [==============================] - 0s 21ms/step - loss: 0.1156\n",
            "Epoch 340/500\n",
            "1/1 [==============================] - 0s 21ms/step - loss: 0.1156\n",
            "Epoch 341/500\n",
            "1/1 [==============================] - 0s 21ms/step - loss: 0.1156\n",
            "Epoch 342/500\n",
            "1/1 [==============================] - 0s 17ms/step - loss: 0.1156\n",
            "Epoch 343/500\n",
            "1/1 [==============================] - 0s 18ms/step - loss: 0.1156\n",
            "Epoch 344/500\n",
            "1/1 [==============================] - 0s 21ms/step - loss: 0.1156\n",
            "Epoch 345/500\n",
            "1/1 [==============================] - 0s 15ms/step - loss: 0.1156\n",
            "Epoch 346/500\n",
            "1/1 [==============================] - 0s 17ms/step - loss: 0.1156\n",
            "Epoch 347/500\n",
            "1/1 [==============================] - 0s 17ms/step - loss: 0.1156\n",
            "Epoch 348/500\n",
            "1/1 [==============================] - 0s 22ms/step - loss: 0.1156\n",
            "Epoch 349/500\n",
            "1/1 [==============================] - 0s 23ms/step - loss: 0.1156\n",
            "Epoch 350/500\n",
            "1/1 [==============================] - 0s 22ms/step - loss: 0.1156\n",
            "Epoch 351/500\n",
            "1/1 [==============================] - 0s 23ms/step - loss: 0.1156\n",
            "Epoch 352/500\n",
            "1/1 [==============================] - 0s 24ms/step - loss: 0.1156\n",
            "Epoch 353/500\n",
            "1/1 [==============================] - 0s 19ms/step - loss: 0.1156\n",
            "Epoch 354/500\n",
            "1/1 [==============================] - 0s 17ms/step - loss: 0.1156\n",
            "Epoch 355/500\n",
            "1/1 [==============================] - 0s 24ms/step - loss: 0.1156\n",
            "Epoch 356/500\n",
            "1/1 [==============================] - 0s 18ms/step - loss: 0.1156\n",
            "Epoch 357/500\n",
            "1/1 [==============================] - 0s 22ms/step - loss: 0.1156\n",
            "Epoch 358/500\n",
            "1/1 [==============================] - 0s 18ms/step - loss: 0.1156\n",
            "Epoch 359/500\n",
            "1/1 [==============================] - 0s 21ms/step - loss: 0.1156\n",
            "Epoch 360/500\n",
            "1/1 [==============================] - 0s 19ms/step - loss: 0.1156\n",
            "Epoch 361/500\n",
            "1/1 [==============================] - 0s 19ms/step - loss: 0.1156\n",
            "Epoch 362/500\n",
            "1/1 [==============================] - 0s 22ms/step - loss: 0.1156\n",
            "Epoch 363/500\n",
            "1/1 [==============================] - 0s 21ms/step - loss: 0.1156\n",
            "Epoch 364/500\n",
            "1/1 [==============================] - 0s 24ms/step - loss: 0.1156\n",
            "Epoch 365/500\n",
            "1/1 [==============================] - 0s 22ms/step - loss: 0.1156\n",
            "Epoch 366/500\n",
            "1/1 [==============================] - 0s 17ms/step - loss: 0.1156\n",
            "Epoch 367/500\n",
            "1/1 [==============================] - 0s 22ms/step - loss: 0.1156\n",
            "Epoch 368/500\n",
            "1/1 [==============================] - 0s 18ms/step - loss: 0.1156\n",
            "Epoch 369/500\n",
            "1/1 [==============================] - 0s 19ms/step - loss: 0.1156\n",
            "Epoch 370/500\n",
            "1/1 [==============================] - 0s 19ms/step - loss: 0.1156\n",
            "Epoch 371/500\n",
            "1/1 [==============================] - 0s 14ms/step - loss: 0.1156\n",
            "Epoch 372/500\n",
            "1/1 [==============================] - 0s 18ms/step - loss: 0.1156\n",
            "Epoch 373/500\n",
            "1/1 [==============================] - 0s 18ms/step - loss: 0.1156\n",
            "Epoch 374/500\n",
            "1/1 [==============================] - 0s 16ms/step - loss: 0.1156\n",
            "Epoch 375/500\n",
            "1/1 [==============================] - 0s 15ms/step - loss: 0.1156\n",
            "Epoch 376/500\n",
            "1/1 [==============================] - 0s 14ms/step - loss: 0.1156\n",
            "Epoch 377/500\n",
            "1/1 [==============================] - 0s 14ms/step - loss: 0.1156\n",
            "Epoch 378/500\n",
            "1/1 [==============================] - 0s 15ms/step - loss: 0.1156\n",
            "Epoch 379/500\n",
            "1/1 [==============================] - 0s 15ms/step - loss: 0.1156\n",
            "Epoch 380/500\n",
            "1/1 [==============================] - 0s 16ms/step - loss: 0.1156\n",
            "Epoch 381/500\n",
            "1/1 [==============================] - 0s 15ms/step - loss: 0.1156\n",
            "Epoch 382/500\n",
            "1/1 [==============================] - 0s 17ms/step - loss: 0.1156\n",
            "Epoch 383/500\n",
            "1/1 [==============================] - 0s 15ms/step - loss: 0.1156\n",
            "Epoch 384/500\n",
            "1/1 [==============================] - 0s 18ms/step - loss: 0.1156\n",
            "Epoch 385/500\n",
            "1/1 [==============================] - 0s 15ms/step - loss: 0.1156\n",
            "Epoch 386/500\n",
            "1/1 [==============================] - 0s 15ms/step - loss: 0.1156\n",
            "Epoch 387/500\n",
            "1/1 [==============================] - 0s 16ms/step - loss: 0.1156\n",
            "Epoch 388/500\n",
            "1/1 [==============================] - 0s 17ms/step - loss: 0.1156\n",
            "Epoch 389/500\n",
            "1/1 [==============================] - 0s 18ms/step - loss: 0.1156\n",
            "Epoch 390/500\n",
            "1/1 [==============================] - 0s 16ms/step - loss: 0.1156\n",
            "Epoch 391/500\n",
            "1/1 [==============================] - 0s 15ms/step - loss: 0.1156\n",
            "Epoch 392/500\n",
            "1/1 [==============================] - 0s 15ms/step - loss: 0.1156\n",
            "Epoch 393/500\n",
            "1/1 [==============================] - 0s 15ms/step - loss: 0.1156\n",
            "Epoch 394/500\n",
            "1/1 [==============================] - 0s 15ms/step - loss: 0.1156\n",
            "Epoch 395/500\n",
            "1/1 [==============================] - 0s 16ms/step - loss: 0.1156\n",
            "Epoch 396/500\n",
            "1/1 [==============================] - 0s 20ms/step - loss: 0.1156\n",
            "Epoch 397/500\n",
            "1/1 [==============================] - 0s 21ms/step - loss: 0.1156\n",
            "Epoch 398/500\n",
            "1/1 [==============================] - 0s 16ms/step - loss: 0.1156\n",
            "Epoch 399/500\n",
            "1/1 [==============================] - 0s 15ms/step - loss: 0.1156\n",
            "Epoch 400/500\n",
            "1/1 [==============================] - 0s 16ms/step - loss: 0.1156\n",
            "Epoch 401/500\n",
            "1/1 [==============================] - 0s 18ms/step - loss: 0.1156\n",
            "Epoch 402/500\n",
            "1/1 [==============================] - 0s 16ms/step - loss: 0.1156\n",
            "Epoch 403/500\n",
            "1/1 [==============================] - 0s 16ms/step - loss: 0.1156\n",
            "Epoch 404/500\n",
            "1/1 [==============================] - 0s 15ms/step - loss: 0.1156\n",
            "Epoch 405/500\n",
            "1/1 [==============================] - 0s 15ms/step - loss: 0.1156\n",
            "Epoch 406/500\n",
            "1/1 [==============================] - 0s 15ms/step - loss: 0.1156\n",
            "Epoch 407/500\n",
            "1/1 [==============================] - 0s 15ms/step - loss: 0.1156\n",
            "Epoch 408/500\n",
            "1/1 [==============================] - 0s 15ms/step - loss: 0.1156\n",
            "Epoch 409/500\n",
            "1/1 [==============================] - 0s 15ms/step - loss: 0.1156\n",
            "Epoch 410/500\n",
            "1/1 [==============================] - 0s 15ms/step - loss: 0.1156\n",
            "Epoch 411/500\n",
            "1/1 [==============================] - 0s 17ms/step - loss: 0.1156\n",
            "Epoch 412/500\n",
            "1/1 [==============================] - 0s 16ms/step - loss: 0.1156\n",
            "Epoch 413/500\n",
            "1/1 [==============================] - 0s 30ms/step - loss: 0.1156\n",
            "Epoch 414/500\n",
            "1/1 [==============================] - 0s 24ms/step - loss: 0.1156\n",
            "Epoch 415/500\n",
            "1/1 [==============================] - 0s 19ms/step - loss: 0.1156\n",
            "Epoch 416/500\n",
            "1/1 [==============================] - 0s 18ms/step - loss: 0.1156\n",
            "Epoch 417/500\n",
            "1/1 [==============================] - 0s 16ms/step - loss: 0.1156\n",
            "Epoch 418/500\n",
            "1/1 [==============================] - 0s 21ms/step - loss: 0.1156\n",
            "Epoch 419/500\n",
            "1/1 [==============================] - 0s 22ms/step - loss: 0.1156\n",
            "Epoch 420/500\n",
            "1/1 [==============================] - 0s 18ms/step - loss: 0.1156\n",
            "Epoch 421/500\n",
            "1/1 [==============================] - 0s 18ms/step - loss: 0.1156\n",
            "Epoch 422/500\n",
            "1/1 [==============================] - 0s 18ms/step - loss: 0.1156\n",
            "Epoch 423/500\n",
            "1/1 [==============================] - 0s 17ms/step - loss: 0.1156\n",
            "Epoch 424/500\n",
            "1/1 [==============================] - 0s 21ms/step - loss: 0.1156\n",
            "Epoch 425/500\n",
            "1/1 [==============================] - 0s 20ms/step - loss: 0.1156\n",
            "Epoch 426/500\n",
            "1/1 [==============================] - 0s 19ms/step - loss: 0.1156\n",
            "Epoch 427/500\n",
            "1/1 [==============================] - 0s 20ms/step - loss: 0.1156\n",
            "Epoch 428/500\n",
            "1/1 [==============================] - 0s 15ms/step - loss: 0.1156\n",
            "Epoch 429/500\n",
            "1/1 [==============================] - 0s 16ms/step - loss: 0.1156\n",
            "Epoch 430/500\n",
            "1/1 [==============================] - 0s 15ms/step - loss: 0.1156\n",
            "Epoch 431/500\n",
            "1/1 [==============================] - 0s 15ms/step - loss: 0.1156\n",
            "Epoch 432/500\n",
            "1/1 [==============================] - 0s 15ms/step - loss: 0.1156\n",
            "Epoch 433/500\n",
            "1/1 [==============================] - 0s 16ms/step - loss: 0.1156\n",
            "Epoch 434/500\n",
            "1/1 [==============================] - 0s 16ms/step - loss: 0.1156\n",
            "Epoch 435/500\n",
            "1/1 [==============================] - 0s 18ms/step - loss: 0.1156\n",
            "Epoch 436/500\n",
            "1/1 [==============================] - 0s 15ms/step - loss: 0.1156\n",
            "Epoch 437/500\n",
            "1/1 [==============================] - 0s 15ms/step - loss: 0.1156\n",
            "Epoch 438/500\n",
            "1/1 [==============================] - 0s 15ms/step - loss: 0.1156\n",
            "Epoch 439/500\n",
            "1/1 [==============================] - 0s 15ms/step - loss: 0.1156\n",
            "Epoch 440/500\n",
            "1/1 [==============================] - 0s 15ms/step - loss: 0.1156\n",
            "Epoch 441/500\n",
            "1/1 [==============================] - 0s 20ms/step - loss: 0.1156\n",
            "Epoch 442/500\n",
            "1/1 [==============================] - 0s 20ms/step - loss: 0.1156\n",
            "Epoch 443/500\n",
            "1/1 [==============================] - 0s 19ms/step - loss: 0.1156\n",
            "Epoch 444/500\n",
            "1/1 [==============================] - 0s 20ms/step - loss: 0.1156\n",
            "Epoch 445/500\n",
            "1/1 [==============================] - 0s 20ms/step - loss: 0.1156\n",
            "Epoch 446/500\n",
            "1/1 [==============================] - 0s 18ms/step - loss: 0.1156\n",
            "Epoch 447/500\n",
            "1/1 [==============================] - 0s 22ms/step - loss: 0.1156\n",
            "Epoch 448/500\n",
            "1/1 [==============================] - 0s 19ms/step - loss: 0.1156\n",
            "Epoch 449/500\n",
            "1/1 [==============================] - 0s 27ms/step - loss: 0.1156\n",
            "Epoch 450/500\n",
            "1/1 [==============================] - 0s 18ms/step - loss: 0.1156\n",
            "Epoch 451/500\n",
            "1/1 [==============================] - 0s 25ms/step - loss: 0.1156\n",
            "Epoch 452/500\n",
            "1/1 [==============================] - 0s 19ms/step - loss: 0.1156\n",
            "Epoch 453/500\n",
            "1/1 [==============================] - 0s 20ms/step - loss: 0.1156\n",
            "Epoch 454/500\n",
            "1/1 [==============================] - 0s 19ms/step - loss: 0.1156\n",
            "Epoch 455/500\n",
            "1/1 [==============================] - 0s 18ms/step - loss: 0.1156\n",
            "Epoch 456/500\n",
            "1/1 [==============================] - 0s 22ms/step - loss: 0.1156\n",
            "Epoch 457/500\n",
            "1/1 [==============================] - 0s 15ms/step - loss: 0.1156\n",
            "Epoch 458/500\n",
            "1/1 [==============================] - 0s 18ms/step - loss: 0.1156\n",
            "Epoch 459/500\n",
            "1/1 [==============================] - 0s 19ms/step - loss: 0.1156\n",
            "Epoch 460/500\n",
            "1/1 [==============================] - 0s 19ms/step - loss: 0.1156\n",
            "Epoch 461/500\n",
            "1/1 [==============================] - 0s 16ms/step - loss: 0.1156\n",
            "Epoch 462/500\n",
            "1/1 [==============================] - 0s 18ms/step - loss: 0.1156\n",
            "Epoch 463/500\n",
            "1/1 [==============================] - 0s 23ms/step - loss: 0.1156\n",
            "Epoch 464/500\n",
            "1/1 [==============================] - 0s 17ms/step - loss: 0.1156\n",
            "Epoch 465/500\n",
            "1/1 [==============================] - 0s 22ms/step - loss: 0.1156\n",
            "Epoch 466/500\n",
            "1/1 [==============================] - 0s 23ms/step - loss: 0.1156\n",
            "Epoch 467/500\n",
            "1/1 [==============================] - 0s 25ms/step - loss: 0.1156\n",
            "Epoch 468/500\n",
            "1/1 [==============================] - 0s 22ms/step - loss: 0.1156\n",
            "Epoch 469/500\n",
            "1/1 [==============================] - 0s 22ms/step - loss: 0.1156\n",
            "Epoch 470/500\n",
            "1/1 [==============================] - 0s 25ms/step - loss: 0.1156\n",
            "Epoch 471/500\n",
            "1/1 [==============================] - 0s 22ms/step - loss: 0.1156\n",
            "Epoch 472/500\n",
            "1/1 [==============================] - 0s 17ms/step - loss: 0.1156\n",
            "Epoch 473/500\n",
            "1/1 [==============================] - 0s 20ms/step - loss: 0.1156\n",
            "Epoch 474/500\n",
            "1/1 [==============================] - 0s 19ms/step - loss: 0.1156\n",
            "Epoch 475/500\n",
            "1/1 [==============================] - 0s 18ms/step - loss: 0.1156\n",
            "Epoch 476/500\n",
            "1/1 [==============================] - 0s 18ms/step - loss: 0.1156\n",
            "Epoch 477/500\n",
            "1/1 [==============================] - 0s 16ms/step - loss: 0.1156\n",
            "Epoch 478/500\n",
            "1/1 [==============================] - 0s 17ms/step - loss: 0.1156\n",
            "Epoch 479/500\n",
            "1/1 [==============================] - 0s 16ms/step - loss: 0.1156\n",
            "Epoch 480/500\n",
            "1/1 [==============================] - 0s 16ms/step - loss: 0.1156\n",
            "Epoch 481/500\n",
            "1/1 [==============================] - 0s 17ms/step - loss: 0.1156\n",
            "Epoch 482/500\n",
            "1/1 [==============================] - 0s 15ms/step - loss: 0.1156\n",
            "Epoch 483/500\n",
            "1/1 [==============================] - 0s 19ms/step - loss: 0.1156\n",
            "Epoch 484/500\n",
            "1/1 [==============================] - 0s 13ms/step - loss: 0.1156\n",
            "Epoch 485/500\n",
            "1/1 [==============================] - 0s 15ms/step - loss: 0.1157\n",
            "Epoch 486/500\n",
            "1/1 [==============================] - 0s 14ms/step - loss: 0.1157\n",
            "Epoch 487/500\n",
            "1/1 [==============================] - 0s 14ms/step - loss: 0.1158\n",
            "Epoch 488/500\n",
            "1/1 [==============================] - 0s 15ms/step - loss: 0.1160\n",
            "Epoch 489/500\n",
            "1/1 [==============================] - 0s 16ms/step - loss: 0.1163\n",
            "Epoch 490/500\n",
            "1/1 [==============================] - 0s 20ms/step - loss: 0.1165\n",
            "Epoch 491/500\n",
            "1/1 [==============================] - 0s 19ms/step - loss: 0.1163\n",
            "Epoch 492/500\n",
            "1/1 [==============================] - 0s 18ms/step - loss: 0.1159\n",
            "Epoch 493/500\n",
            "1/1 [==============================] - 0s 27ms/step - loss: 0.1156\n",
            "Epoch 494/500\n",
            "1/1 [==============================] - 0s 25ms/step - loss: 0.1158\n",
            "Epoch 495/500\n",
            "1/1 [==============================] - 0s 25ms/step - loss: 0.1160\n",
            "Epoch 496/500\n",
            "1/1 [==============================] - 0s 27ms/step - loss: 0.1158\n",
            "Epoch 497/500\n",
            "1/1 [==============================] - 0s 24ms/step - loss: 0.1156\n",
            "Epoch 498/500\n",
            "1/1 [==============================] - 0s 24ms/step - loss: 0.1157\n",
            "Epoch 499/500\n",
            "1/1 [==============================] - 0s 19ms/step - loss: 0.1158\n",
            "Epoch 500/500\n",
            "1/1 [==============================] - 0s 16ms/step - loss: 0.1157\n",
            "Anna takes life as a challenge challenge challenge challenge, Anna embrace change change as challenge thinker thinker thinker challenge challenge, Anna embrace change change as challenge thinker thinker challenge challenge challenge, Anna embrace change change as challenge thinker thinker thinker challenge challenge, Anna takes life as a challenge challenge challenge challenge challenge challenge\n"
          ]
        }
      ]
    }
  ]
}