{
 "cells": [
  {
   "cell_type": "markdown",
   "id": "fa0885cd",
   "metadata": {},
   "source": [
    "### Problem statement"
   ]
  },
  {
   "cell_type": "markdown",
   "id": "d40f76fd",
   "metadata": {},
   "source": [
    "The goal of the problem is to predict whether a passenger was delighted considering his/her overall travel experience of traveling in Shinkansen (Bullet Train). For each passenger id in the test set, you must predict the “Overall_Experience” level."
   ]
  },
  {
   "cell_type": "markdown",
   "id": "cbf18cf5",
   "metadata": {},
   "source": [
    "### Import Necessary libraries"
   ]
  },
  {
   "cell_type": "code",
   "execution_count": 1,
   "id": "a8a07a72",
   "metadata": {},
   "outputs": [],
   "source": [
    "import pandas as pd\n",
    "import numpy as np\n",
    "import matplotlib.pyplot as plt\n",
    "import warnings\n",
    "warnings.filterwarnings(\"ignore\")\n",
    "import seaborn as sns\n",
    "from sklearn import metrics"
   ]
  },
  {
   "cell_type": "markdown",
   "id": "71434cf5",
   "metadata": {},
   "source": [
    "### Importing the dataset"
   ]
  },
  {
   "cell_type": "code",
   "execution_count": 2,
   "id": "51f34332",
   "metadata": {},
   "outputs": [],
   "source": [
    "tsf=pd.read_csv(\"Surveydata_train.csv\")\n",
    "tf=pd.read_csv(\"Traveldata_train.csv\")\n",
    "tsft=pd.read_csv(\"Surveydata_test.csv\")\n",
    "tft=pd.read_csv(\"Traveldata_test.csv\")\n",
    "submit=pd.read_csv(\"Sample_Submission.csv\")"
   ]
  },
  {
   "cell_type": "markdown",
   "id": "07193d68",
   "metadata": {},
   "source": [
    "### Separating train and test data"
   ]
  },
  {
   "cell_type": "code",
   "execution_count": 3,
   "id": "168b24b2",
   "metadata": {},
   "outputs": [
    {
     "data": {
      "text/html": [
       "<div>\n",
       "<style scoped>\n",
       "    .dataframe tbody tr th:only-of-type {\n",
       "        vertical-align: middle;\n",
       "    }\n",
       "\n",
       "    .dataframe tbody tr th {\n",
       "        vertical-align: top;\n",
       "    }\n",
       "\n",
       "    .dataframe thead th {\n",
       "        text-align: right;\n",
       "    }\n",
       "</style>\n",
       "<table border=\"1\" class=\"dataframe\">\n",
       "  <thead>\n",
       "    <tr style=\"text-align: right;\">\n",
       "      <th></th>\n",
       "      <th>ID</th>\n",
       "      <th>Overall_Experience</th>\n",
       "      <th>Seat_comfort</th>\n",
       "      <th>Seat_Class</th>\n",
       "      <th>Arrival_time_convenient</th>\n",
       "      <th>Catering</th>\n",
       "      <th>Platform_location</th>\n",
       "      <th>Onboardwifi_service</th>\n",
       "      <th>Onboard_entertainment</th>\n",
       "      <th>Online_support</th>\n",
       "      <th>Onlinebooking_Ease</th>\n",
       "      <th>Onboard_service</th>\n",
       "      <th>Leg_room</th>\n",
       "      <th>Baggage_handling</th>\n",
       "      <th>Checkin_service</th>\n",
       "      <th>Cleanliness</th>\n",
       "      <th>Online_boarding</th>\n",
       "    </tr>\n",
       "  </thead>\n",
       "  <tbody>\n",
       "    <tr>\n",
       "      <th>0</th>\n",
       "      <td>98800001</td>\n",
       "      <td>0</td>\n",
       "      <td>need improvement</td>\n",
       "      <td>Green Car</td>\n",
       "      <td>excellent</td>\n",
       "      <td>excellent</td>\n",
       "      <td>very convinient</td>\n",
       "      <td>good</td>\n",
       "      <td>need improvement</td>\n",
       "      <td>acceptable</td>\n",
       "      <td>need improvement</td>\n",
       "      <td>need improvement</td>\n",
       "      <td>acceptable</td>\n",
       "      <td>need improvement</td>\n",
       "      <td>good</td>\n",
       "      <td>need improvement</td>\n",
       "      <td>poor</td>\n",
       "    </tr>\n",
       "    <tr>\n",
       "      <th>1</th>\n",
       "      <td>98800002</td>\n",
       "      <td>0</td>\n",
       "      <td>poor</td>\n",
       "      <td>Ordinary</td>\n",
       "      <td>excellent</td>\n",
       "      <td>poor</td>\n",
       "      <td>need improvement</td>\n",
       "      <td>good</td>\n",
       "      <td>poor</td>\n",
       "      <td>good</td>\n",
       "      <td>good</td>\n",
       "      <td>excellent</td>\n",
       "      <td>need improvement</td>\n",
       "      <td>poor</td>\n",
       "      <td>need improvement</td>\n",
       "      <td>good</td>\n",
       "      <td>good</td>\n",
       "    </tr>\n",
       "    <tr>\n",
       "      <th>2</th>\n",
       "      <td>98800003</td>\n",
       "      <td>1</td>\n",
       "      <td>need improvement</td>\n",
       "      <td>Green Car</td>\n",
       "      <td>need improvement</td>\n",
       "      <td>need improvement</td>\n",
       "      <td>need improvement</td>\n",
       "      <td>need improvement</td>\n",
       "      <td>good</td>\n",
       "      <td>excellent</td>\n",
       "      <td>excellent</td>\n",
       "      <td>excellent</td>\n",
       "      <td>excellent</td>\n",
       "      <td>excellent</td>\n",
       "      <td>good</td>\n",
       "      <td>excellent</td>\n",
       "      <td>excellent</td>\n",
       "    </tr>\n",
       "    <tr>\n",
       "      <th>3</th>\n",
       "      <td>98800004</td>\n",
       "      <td>0</td>\n",
       "      <td>acceptable</td>\n",
       "      <td>Ordinary</td>\n",
       "      <td>need improvement</td>\n",
       "      <td>NaN</td>\n",
       "      <td>need improvement</td>\n",
       "      <td>acceptable</td>\n",
       "      <td>need improvement</td>\n",
       "      <td>acceptable</td>\n",
       "      <td>acceptable</td>\n",
       "      <td>acceptable</td>\n",
       "      <td>acceptable</td>\n",
       "      <td>acceptable</td>\n",
       "      <td>good</td>\n",
       "      <td>acceptable</td>\n",
       "      <td>acceptable</td>\n",
       "    </tr>\n",
       "    <tr>\n",
       "      <th>4</th>\n",
       "      <td>98800005</td>\n",
       "      <td>1</td>\n",
       "      <td>acceptable</td>\n",
       "      <td>Ordinary</td>\n",
       "      <td>acceptable</td>\n",
       "      <td>acceptable</td>\n",
       "      <td>manageable</td>\n",
       "      <td>need improvement</td>\n",
       "      <td>good</td>\n",
       "      <td>excellent</td>\n",
       "      <td>good</td>\n",
       "      <td>good</td>\n",
       "      <td>good</td>\n",
       "      <td>good</td>\n",
       "      <td>good</td>\n",
       "      <td>good</td>\n",
       "      <td>good</td>\n",
       "    </tr>\n",
       "  </tbody>\n",
       "</table>\n",
       "</div>"
      ],
      "text/plain": [
       "         ID  Overall_Experience      Seat_comfort Seat_Class  \\\n",
       "0  98800001                   0  need improvement  Green Car   \n",
       "1  98800002                   0              poor   Ordinary   \n",
       "2  98800003                   1  need improvement  Green Car   \n",
       "3  98800004                   0        acceptable   Ordinary   \n",
       "4  98800005                   1        acceptable   Ordinary   \n",
       "\n",
       "  Arrival_time_convenient          Catering Platform_location  \\\n",
       "0               excellent         excellent   very convinient   \n",
       "1               excellent              poor  need improvement   \n",
       "2        need improvement  need improvement  need improvement   \n",
       "3        need improvement               NaN  need improvement   \n",
       "4              acceptable        acceptable        manageable   \n",
       "\n",
       "  Onboardwifi_service Onboard_entertainment Online_support Onlinebooking_Ease  \\\n",
       "0                good      need improvement     acceptable   need improvement   \n",
       "1                good                  poor           good               good   \n",
       "2    need improvement                  good      excellent          excellent   \n",
       "3          acceptable      need improvement     acceptable         acceptable   \n",
       "4    need improvement                  good      excellent               good   \n",
       "\n",
       "    Onboard_service          Leg_room  Baggage_handling   Checkin_service  \\\n",
       "0  need improvement        acceptable  need improvement              good   \n",
       "1         excellent  need improvement              poor  need improvement   \n",
       "2         excellent         excellent         excellent              good   \n",
       "3        acceptable        acceptable        acceptable              good   \n",
       "4              good              good              good              good   \n",
       "\n",
       "        Cleanliness Online_boarding  \n",
       "0  need improvement            poor  \n",
       "1              good            good  \n",
       "2         excellent       excellent  \n",
       "3        acceptable      acceptable  \n",
       "4              good            good  "
      ]
     },
     "execution_count": 3,
     "metadata": {},
     "output_type": "execute_result"
    }
   ],
   "source": [
    "tsf.head()"
   ]
  },
  {
   "cell_type": "code",
   "execution_count": 4,
   "id": "be5fe4f9",
   "metadata": {},
   "outputs": [
    {
     "data": {
      "text/html": [
       "<div>\n",
       "<style scoped>\n",
       "    .dataframe tbody tr th:only-of-type {\n",
       "        vertical-align: middle;\n",
       "    }\n",
       "\n",
       "    .dataframe tbody tr th {\n",
       "        vertical-align: top;\n",
       "    }\n",
       "\n",
       "    .dataframe thead th {\n",
       "        text-align: right;\n",
       "    }\n",
       "</style>\n",
       "<table border=\"1\" class=\"dataframe\">\n",
       "  <thead>\n",
       "    <tr style=\"text-align: right;\">\n",
       "      <th></th>\n",
       "      <th>ID</th>\n",
       "      <th>Overall_Experience</th>\n",
       "      <th>Seat_comfort</th>\n",
       "      <th>Seat_Class</th>\n",
       "      <th>Arrival_time_convenient</th>\n",
       "      <th>Catering</th>\n",
       "      <th>Platform_location</th>\n",
       "      <th>Onboardwifi_service</th>\n",
       "      <th>Onboard_entertainment</th>\n",
       "      <th>Online_support</th>\n",
       "      <th>Onlinebooking_Ease</th>\n",
       "      <th>Onboard_service</th>\n",
       "      <th>Leg_room</th>\n",
       "      <th>Baggage_handling</th>\n",
       "      <th>Checkin_service</th>\n",
       "      <th>Cleanliness</th>\n",
       "      <th>Online_boarding</th>\n",
       "    </tr>\n",
       "  </thead>\n",
       "  <tbody>\n",
       "    <tr>\n",
       "      <th>count</th>\n",
       "      <td>9.437900e+04</td>\n",
       "      <td>94379.000000</td>\n",
       "      <td>94318</td>\n",
       "      <td>94379</td>\n",
       "      <td>85449</td>\n",
       "      <td>85638</td>\n",
       "      <td>94349</td>\n",
       "      <td>94349</td>\n",
       "      <td>94361</td>\n",
       "      <td>94288</td>\n",
       "      <td>94306</td>\n",
       "      <td>86778</td>\n",
       "      <td>94289</td>\n",
       "      <td>94237</td>\n",
       "      <td>94302</td>\n",
       "      <td>94373</td>\n",
       "      <td>94373</td>\n",
       "    </tr>\n",
       "    <tr>\n",
       "      <th>unique</th>\n",
       "      <td>NaN</td>\n",
       "      <td>NaN</td>\n",
       "      <td>6</td>\n",
       "      <td>2</td>\n",
       "      <td>6</td>\n",
       "      <td>6</td>\n",
       "      <td>6</td>\n",
       "      <td>6</td>\n",
       "      <td>6</td>\n",
       "      <td>6</td>\n",
       "      <td>6</td>\n",
       "      <td>6</td>\n",
       "      <td>6</td>\n",
       "      <td>5</td>\n",
       "      <td>6</td>\n",
       "      <td>6</td>\n",
       "      <td>6</td>\n",
       "    </tr>\n",
       "    <tr>\n",
       "      <th>top</th>\n",
       "      <td>NaN</td>\n",
       "      <td>NaN</td>\n",
       "      <td>acceptable</td>\n",
       "      <td>Green Car</td>\n",
       "      <td>good</td>\n",
       "      <td>acceptable</td>\n",
       "      <td>manageable</td>\n",
       "      <td>good</td>\n",
       "      <td>good</td>\n",
       "      <td>good</td>\n",
       "      <td>good</td>\n",
       "      <td>good</td>\n",
       "      <td>good</td>\n",
       "      <td>good</td>\n",
       "      <td>good</td>\n",
       "      <td>good</td>\n",
       "      <td>good</td>\n",
       "    </tr>\n",
       "    <tr>\n",
       "      <th>freq</th>\n",
       "      <td>NaN</td>\n",
       "      <td>NaN</td>\n",
       "      <td>21158</td>\n",
       "      <td>47435</td>\n",
       "      <td>19574</td>\n",
       "      <td>18468</td>\n",
       "      <td>24173</td>\n",
       "      <td>22835</td>\n",
       "      <td>30446</td>\n",
       "      <td>30016</td>\n",
       "      <td>28909</td>\n",
       "      <td>27265</td>\n",
       "      <td>28870</td>\n",
       "      <td>34944</td>\n",
       "      <td>26502</td>\n",
       "      <td>35427</td>\n",
       "      <td>25533</td>\n",
       "    </tr>\n",
       "    <tr>\n",
       "      <th>mean</th>\n",
       "      <td>9.884719e+07</td>\n",
       "      <td>0.546658</td>\n",
       "      <td>NaN</td>\n",
       "      <td>NaN</td>\n",
       "      <td>NaN</td>\n",
       "      <td>NaN</td>\n",
       "      <td>NaN</td>\n",
       "      <td>NaN</td>\n",
       "      <td>NaN</td>\n",
       "      <td>NaN</td>\n",
       "      <td>NaN</td>\n",
       "      <td>NaN</td>\n",
       "      <td>NaN</td>\n",
       "      <td>NaN</td>\n",
       "      <td>NaN</td>\n",
       "      <td>NaN</td>\n",
       "      <td>NaN</td>\n",
       "    </tr>\n",
       "    <tr>\n",
       "      <th>std</th>\n",
       "      <td>2.724501e+04</td>\n",
       "      <td>0.497821</td>\n",
       "      <td>NaN</td>\n",
       "      <td>NaN</td>\n",
       "      <td>NaN</td>\n",
       "      <td>NaN</td>\n",
       "      <td>NaN</td>\n",
       "      <td>NaN</td>\n",
       "      <td>NaN</td>\n",
       "      <td>NaN</td>\n",
       "      <td>NaN</td>\n",
       "      <td>NaN</td>\n",
       "      <td>NaN</td>\n",
       "      <td>NaN</td>\n",
       "      <td>NaN</td>\n",
       "      <td>NaN</td>\n",
       "      <td>NaN</td>\n",
       "    </tr>\n",
       "    <tr>\n",
       "      <th>min</th>\n",
       "      <td>9.880000e+07</td>\n",
       "      <td>0.000000</td>\n",
       "      <td>NaN</td>\n",
       "      <td>NaN</td>\n",
       "      <td>NaN</td>\n",
       "      <td>NaN</td>\n",
       "      <td>NaN</td>\n",
       "      <td>NaN</td>\n",
       "      <td>NaN</td>\n",
       "      <td>NaN</td>\n",
       "      <td>NaN</td>\n",
       "      <td>NaN</td>\n",
       "      <td>NaN</td>\n",
       "      <td>NaN</td>\n",
       "      <td>NaN</td>\n",
       "      <td>NaN</td>\n",
       "      <td>NaN</td>\n",
       "    </tr>\n",
       "    <tr>\n",
       "      <th>25%</th>\n",
       "      <td>9.882360e+07</td>\n",
       "      <td>0.000000</td>\n",
       "      <td>NaN</td>\n",
       "      <td>NaN</td>\n",
       "      <td>NaN</td>\n",
       "      <td>NaN</td>\n",
       "      <td>NaN</td>\n",
       "      <td>NaN</td>\n",
       "      <td>NaN</td>\n",
       "      <td>NaN</td>\n",
       "      <td>NaN</td>\n",
       "      <td>NaN</td>\n",
       "      <td>NaN</td>\n",
       "      <td>NaN</td>\n",
       "      <td>NaN</td>\n",
       "      <td>NaN</td>\n",
       "      <td>NaN</td>\n",
       "    </tr>\n",
       "    <tr>\n",
       "      <th>50%</th>\n",
       "      <td>9.884719e+07</td>\n",
       "      <td>1.000000</td>\n",
       "      <td>NaN</td>\n",
       "      <td>NaN</td>\n",
       "      <td>NaN</td>\n",
       "      <td>NaN</td>\n",
       "      <td>NaN</td>\n",
       "      <td>NaN</td>\n",
       "      <td>NaN</td>\n",
       "      <td>NaN</td>\n",
       "      <td>NaN</td>\n",
       "      <td>NaN</td>\n",
       "      <td>NaN</td>\n",
       "      <td>NaN</td>\n",
       "      <td>NaN</td>\n",
       "      <td>NaN</td>\n",
       "      <td>NaN</td>\n",
       "    </tr>\n",
       "    <tr>\n",
       "      <th>75%</th>\n",
       "      <td>9.887078e+07</td>\n",
       "      <td>1.000000</td>\n",
       "      <td>NaN</td>\n",
       "      <td>NaN</td>\n",
       "      <td>NaN</td>\n",
       "      <td>NaN</td>\n",
       "      <td>NaN</td>\n",
       "      <td>NaN</td>\n",
       "      <td>NaN</td>\n",
       "      <td>NaN</td>\n",
       "      <td>NaN</td>\n",
       "      <td>NaN</td>\n",
       "      <td>NaN</td>\n",
       "      <td>NaN</td>\n",
       "      <td>NaN</td>\n",
       "      <td>NaN</td>\n",
       "      <td>NaN</td>\n",
       "    </tr>\n",
       "    <tr>\n",
       "      <th>max</th>\n",
       "      <td>9.889438e+07</td>\n",
       "      <td>1.000000</td>\n",
       "      <td>NaN</td>\n",
       "      <td>NaN</td>\n",
       "      <td>NaN</td>\n",
       "      <td>NaN</td>\n",
       "      <td>NaN</td>\n",
       "      <td>NaN</td>\n",
       "      <td>NaN</td>\n",
       "      <td>NaN</td>\n",
       "      <td>NaN</td>\n",
       "      <td>NaN</td>\n",
       "      <td>NaN</td>\n",
       "      <td>NaN</td>\n",
       "      <td>NaN</td>\n",
       "      <td>NaN</td>\n",
       "      <td>NaN</td>\n",
       "    </tr>\n",
       "  </tbody>\n",
       "</table>\n",
       "</div>"
      ],
      "text/plain": [
       "                  ID  Overall_Experience Seat_comfort Seat_Class  \\\n",
       "count   9.437900e+04        94379.000000        94318      94379   \n",
       "unique           NaN                 NaN            6          2   \n",
       "top              NaN                 NaN   acceptable  Green Car   \n",
       "freq             NaN                 NaN        21158      47435   \n",
       "mean    9.884719e+07            0.546658          NaN        NaN   \n",
       "std     2.724501e+04            0.497821          NaN        NaN   \n",
       "min     9.880000e+07            0.000000          NaN        NaN   \n",
       "25%     9.882360e+07            0.000000          NaN        NaN   \n",
       "50%     9.884719e+07            1.000000          NaN        NaN   \n",
       "75%     9.887078e+07            1.000000          NaN        NaN   \n",
       "max     9.889438e+07            1.000000          NaN        NaN   \n",
       "\n",
       "       Arrival_time_convenient    Catering Platform_location  \\\n",
       "count                    85449       85638             94349   \n",
       "unique                       6           6                 6   \n",
       "top                       good  acceptable        manageable   \n",
       "freq                     19574       18468             24173   \n",
       "mean                       NaN         NaN               NaN   \n",
       "std                        NaN         NaN               NaN   \n",
       "min                        NaN         NaN               NaN   \n",
       "25%                        NaN         NaN               NaN   \n",
       "50%                        NaN         NaN               NaN   \n",
       "75%                        NaN         NaN               NaN   \n",
       "max                        NaN         NaN               NaN   \n",
       "\n",
       "       Onboardwifi_service Onboard_entertainment Online_support  \\\n",
       "count                94349                 94361          94288   \n",
       "unique                   6                     6              6   \n",
       "top                   good                  good           good   \n",
       "freq                 22835                 30446          30016   \n",
       "mean                   NaN                   NaN            NaN   \n",
       "std                    NaN                   NaN            NaN   \n",
       "min                    NaN                   NaN            NaN   \n",
       "25%                    NaN                   NaN            NaN   \n",
       "50%                    NaN                   NaN            NaN   \n",
       "75%                    NaN                   NaN            NaN   \n",
       "max                    NaN                   NaN            NaN   \n",
       "\n",
       "       Onlinebooking_Ease Onboard_service Leg_room Baggage_handling  \\\n",
       "count               94306           86778    94289            94237   \n",
       "unique                  6               6        6                5   \n",
       "top                  good            good     good             good   \n",
       "freq                28909           27265    28870            34944   \n",
       "mean                  NaN             NaN      NaN              NaN   \n",
       "std                   NaN             NaN      NaN              NaN   \n",
       "min                   NaN             NaN      NaN              NaN   \n",
       "25%                   NaN             NaN      NaN              NaN   \n",
       "50%                   NaN             NaN      NaN              NaN   \n",
       "75%                   NaN             NaN      NaN              NaN   \n",
       "max                   NaN             NaN      NaN              NaN   \n",
       "\n",
       "       Checkin_service Cleanliness Online_boarding  \n",
       "count            94302       94373           94373  \n",
       "unique               6           6               6  \n",
       "top               good        good            good  \n",
       "freq             26502       35427           25533  \n",
       "mean               NaN         NaN             NaN  \n",
       "std                NaN         NaN             NaN  \n",
       "min                NaN         NaN             NaN  \n",
       "25%                NaN         NaN             NaN  \n",
       "50%                NaN         NaN             NaN  \n",
       "75%                NaN         NaN             NaN  \n",
       "max                NaN         NaN             NaN  "
      ]
     },
     "execution_count": 4,
     "metadata": {},
     "output_type": "execute_result"
    }
   ],
   "source": [
    "tsf.describe(include=\"all\")"
   ]
  },
  {
   "cell_type": "code",
   "execution_count": 5,
   "id": "11f3c0db",
   "metadata": {},
   "outputs": [
    {
     "data": {
      "text/html": [
       "<div>\n",
       "<style scoped>\n",
       "    .dataframe tbody tr th:only-of-type {\n",
       "        vertical-align: middle;\n",
       "    }\n",
       "\n",
       "    .dataframe tbody tr th {\n",
       "        vertical-align: top;\n",
       "    }\n",
       "\n",
       "    .dataframe thead th {\n",
       "        text-align: right;\n",
       "    }\n",
       "</style>\n",
       "<table border=\"1\" class=\"dataframe\">\n",
       "  <thead>\n",
       "    <tr style=\"text-align: right;\">\n",
       "      <th></th>\n",
       "      <th>ID</th>\n",
       "      <th>Seat_comfort</th>\n",
       "      <th>Seat_Class</th>\n",
       "      <th>Arrival_time_convenient</th>\n",
       "      <th>Catering</th>\n",
       "      <th>Platform_location</th>\n",
       "      <th>Onboardwifi_service</th>\n",
       "      <th>Onboard_entertainment</th>\n",
       "      <th>Online_support</th>\n",
       "      <th>Onlinebooking_Ease</th>\n",
       "      <th>Onboard_service</th>\n",
       "      <th>Leg_room</th>\n",
       "      <th>Baggage_handling</th>\n",
       "      <th>Checkin_service</th>\n",
       "      <th>Cleanliness</th>\n",
       "      <th>Online_boarding</th>\n",
       "    </tr>\n",
       "  </thead>\n",
       "  <tbody>\n",
       "    <tr>\n",
       "      <th>count</th>\n",
       "      <td>3.560200e+04</td>\n",
       "      <td>35580</td>\n",
       "      <td>35602</td>\n",
       "      <td>32277</td>\n",
       "      <td>32245</td>\n",
       "      <td>35590</td>\n",
       "      <td>35590</td>\n",
       "      <td>35594</td>\n",
       "      <td>35576</td>\n",
       "      <td>35584</td>\n",
       "      <td>32730</td>\n",
       "      <td>35577</td>\n",
       "      <td>35562</td>\n",
       "      <td>35580</td>\n",
       "      <td>35600</td>\n",
       "      <td>35600</td>\n",
       "    </tr>\n",
       "    <tr>\n",
       "      <th>unique</th>\n",
       "      <td>NaN</td>\n",
       "      <td>6</td>\n",
       "      <td>2</td>\n",
       "      <td>6</td>\n",
       "      <td>6</td>\n",
       "      <td>5</td>\n",
       "      <td>6</td>\n",
       "      <td>6</td>\n",
       "      <td>5</td>\n",
       "      <td>6</td>\n",
       "      <td>5</td>\n",
       "      <td>6</td>\n",
       "      <td>5</td>\n",
       "      <td>5</td>\n",
       "      <td>5</td>\n",
       "      <td>6</td>\n",
       "    </tr>\n",
       "    <tr>\n",
       "      <th>top</th>\n",
       "      <td>NaN</td>\n",
       "      <td>acceptable</td>\n",
       "      <td>Ordinary</td>\n",
       "      <td>good</td>\n",
       "      <td>acceptable</td>\n",
       "      <td>manageable</td>\n",
       "      <td>good</td>\n",
       "      <td>good</td>\n",
       "      <td>good</td>\n",
       "      <td>good</td>\n",
       "      <td>good</td>\n",
       "      <td>good</td>\n",
       "      <td>good</td>\n",
       "      <td>good</td>\n",
       "      <td>good</td>\n",
       "      <td>good</td>\n",
       "    </tr>\n",
       "    <tr>\n",
       "      <th>freq</th>\n",
       "      <td>NaN</td>\n",
       "      <td>8003</td>\n",
       "      <td>17860</td>\n",
       "      <td>7361</td>\n",
       "      <td>7133</td>\n",
       "      <td>9364</td>\n",
       "      <td>8743</td>\n",
       "      <td>11436</td>\n",
       "      <td>11487</td>\n",
       "      <td>11025</td>\n",
       "      <td>10222</td>\n",
       "      <td>10842</td>\n",
       "      <td>13291</td>\n",
       "      <td>9982</td>\n",
       "      <td>13421</td>\n",
       "      <td>9680</td>\n",
       "    </tr>\n",
       "    <tr>\n",
       "      <th>mean</th>\n",
       "      <td>9.991780e+07</td>\n",
       "      <td>NaN</td>\n",
       "      <td>NaN</td>\n",
       "      <td>NaN</td>\n",
       "      <td>NaN</td>\n",
       "      <td>NaN</td>\n",
       "      <td>NaN</td>\n",
       "      <td>NaN</td>\n",
       "      <td>NaN</td>\n",
       "      <td>NaN</td>\n",
       "      <td>NaN</td>\n",
       "      <td>NaN</td>\n",
       "      <td>NaN</td>\n",
       "      <td>NaN</td>\n",
       "      <td>NaN</td>\n",
       "      <td>NaN</td>\n",
       "    </tr>\n",
       "    <tr>\n",
       "      <th>std</th>\n",
       "      <td>1.027756e+04</td>\n",
       "      <td>NaN</td>\n",
       "      <td>NaN</td>\n",
       "      <td>NaN</td>\n",
       "      <td>NaN</td>\n",
       "      <td>NaN</td>\n",
       "      <td>NaN</td>\n",
       "      <td>NaN</td>\n",
       "      <td>NaN</td>\n",
       "      <td>NaN</td>\n",
       "      <td>NaN</td>\n",
       "      <td>NaN</td>\n",
       "      <td>NaN</td>\n",
       "      <td>NaN</td>\n",
       "      <td>NaN</td>\n",
       "      <td>NaN</td>\n",
       "    </tr>\n",
       "    <tr>\n",
       "      <th>min</th>\n",
       "      <td>9.990000e+07</td>\n",
       "      <td>NaN</td>\n",
       "      <td>NaN</td>\n",
       "      <td>NaN</td>\n",
       "      <td>NaN</td>\n",
       "      <td>NaN</td>\n",
       "      <td>NaN</td>\n",
       "      <td>NaN</td>\n",
       "      <td>NaN</td>\n",
       "      <td>NaN</td>\n",
       "      <td>NaN</td>\n",
       "      <td>NaN</td>\n",
       "      <td>NaN</td>\n",
       "      <td>NaN</td>\n",
       "      <td>NaN</td>\n",
       "      <td>NaN</td>\n",
       "    </tr>\n",
       "    <tr>\n",
       "      <th>25%</th>\n",
       "      <td>9.990890e+07</td>\n",
       "      <td>NaN</td>\n",
       "      <td>NaN</td>\n",
       "      <td>NaN</td>\n",
       "      <td>NaN</td>\n",
       "      <td>NaN</td>\n",
       "      <td>NaN</td>\n",
       "      <td>NaN</td>\n",
       "      <td>NaN</td>\n",
       "      <td>NaN</td>\n",
       "      <td>NaN</td>\n",
       "      <td>NaN</td>\n",
       "      <td>NaN</td>\n",
       "      <td>NaN</td>\n",
       "      <td>NaN</td>\n",
       "      <td>NaN</td>\n",
       "    </tr>\n",
       "    <tr>\n",
       "      <th>50%</th>\n",
       "      <td>9.991780e+07</td>\n",
       "      <td>NaN</td>\n",
       "      <td>NaN</td>\n",
       "      <td>NaN</td>\n",
       "      <td>NaN</td>\n",
       "      <td>NaN</td>\n",
       "      <td>NaN</td>\n",
       "      <td>NaN</td>\n",
       "      <td>NaN</td>\n",
       "      <td>NaN</td>\n",
       "      <td>NaN</td>\n",
       "      <td>NaN</td>\n",
       "      <td>NaN</td>\n",
       "      <td>NaN</td>\n",
       "      <td>NaN</td>\n",
       "      <td>NaN</td>\n",
       "    </tr>\n",
       "    <tr>\n",
       "      <th>75%</th>\n",
       "      <td>9.992670e+07</td>\n",
       "      <td>NaN</td>\n",
       "      <td>NaN</td>\n",
       "      <td>NaN</td>\n",
       "      <td>NaN</td>\n",
       "      <td>NaN</td>\n",
       "      <td>NaN</td>\n",
       "      <td>NaN</td>\n",
       "      <td>NaN</td>\n",
       "      <td>NaN</td>\n",
       "      <td>NaN</td>\n",
       "      <td>NaN</td>\n",
       "      <td>NaN</td>\n",
       "      <td>NaN</td>\n",
       "      <td>NaN</td>\n",
       "      <td>NaN</td>\n",
       "    </tr>\n",
       "    <tr>\n",
       "      <th>max</th>\n",
       "      <td>9.993560e+07</td>\n",
       "      <td>NaN</td>\n",
       "      <td>NaN</td>\n",
       "      <td>NaN</td>\n",
       "      <td>NaN</td>\n",
       "      <td>NaN</td>\n",
       "      <td>NaN</td>\n",
       "      <td>NaN</td>\n",
       "      <td>NaN</td>\n",
       "      <td>NaN</td>\n",
       "      <td>NaN</td>\n",
       "      <td>NaN</td>\n",
       "      <td>NaN</td>\n",
       "      <td>NaN</td>\n",
       "      <td>NaN</td>\n",
       "      <td>NaN</td>\n",
       "    </tr>\n",
       "  </tbody>\n",
       "</table>\n",
       "</div>"
      ],
      "text/plain": [
       "                  ID Seat_comfort Seat_Class Arrival_time_convenient  \\\n",
       "count   3.560200e+04        35580      35602                   32277   \n",
       "unique           NaN            6          2                       6   \n",
       "top              NaN   acceptable   Ordinary                    good   \n",
       "freq             NaN         8003      17860                    7361   \n",
       "mean    9.991780e+07          NaN        NaN                     NaN   \n",
       "std     1.027756e+04          NaN        NaN                     NaN   \n",
       "min     9.990000e+07          NaN        NaN                     NaN   \n",
       "25%     9.990890e+07          NaN        NaN                     NaN   \n",
       "50%     9.991780e+07          NaN        NaN                     NaN   \n",
       "75%     9.992670e+07          NaN        NaN                     NaN   \n",
       "max     9.993560e+07          NaN        NaN                     NaN   \n",
       "\n",
       "          Catering Platform_location Onboardwifi_service  \\\n",
       "count        32245             35590               35590   \n",
       "unique           6                 5                   6   \n",
       "top     acceptable        manageable                good   \n",
       "freq          7133              9364                8743   \n",
       "mean           NaN               NaN                 NaN   \n",
       "std            NaN               NaN                 NaN   \n",
       "min            NaN               NaN                 NaN   \n",
       "25%            NaN               NaN                 NaN   \n",
       "50%            NaN               NaN                 NaN   \n",
       "75%            NaN               NaN                 NaN   \n",
       "max            NaN               NaN                 NaN   \n",
       "\n",
       "       Onboard_entertainment Online_support Onlinebooking_Ease  \\\n",
       "count                  35594          35576              35584   \n",
       "unique                     6              5                  6   \n",
       "top                     good           good               good   \n",
       "freq                   11436          11487              11025   \n",
       "mean                     NaN            NaN                NaN   \n",
       "std                      NaN            NaN                NaN   \n",
       "min                      NaN            NaN                NaN   \n",
       "25%                      NaN            NaN                NaN   \n",
       "50%                      NaN            NaN                NaN   \n",
       "75%                      NaN            NaN                NaN   \n",
       "max                      NaN            NaN                NaN   \n",
       "\n",
       "       Onboard_service Leg_room Baggage_handling Checkin_service Cleanliness  \\\n",
       "count            32730    35577            35562           35580       35600   \n",
       "unique               5        6                5               5           5   \n",
       "top               good     good             good            good        good   \n",
       "freq             10222    10842            13291            9982       13421   \n",
       "mean               NaN      NaN              NaN             NaN         NaN   \n",
       "std                NaN      NaN              NaN             NaN         NaN   \n",
       "min                NaN      NaN              NaN             NaN         NaN   \n",
       "25%                NaN      NaN              NaN             NaN         NaN   \n",
       "50%                NaN      NaN              NaN             NaN         NaN   \n",
       "75%                NaN      NaN              NaN             NaN         NaN   \n",
       "max                NaN      NaN              NaN             NaN         NaN   \n",
       "\n",
       "       Online_boarding  \n",
       "count            35600  \n",
       "unique               6  \n",
       "top               good  \n",
       "freq              9680  \n",
       "mean               NaN  \n",
       "std                NaN  \n",
       "min                NaN  \n",
       "25%                NaN  \n",
       "50%                NaN  \n",
       "75%                NaN  \n",
       "max                NaN  "
      ]
     },
     "execution_count": 5,
     "metadata": {},
     "output_type": "execute_result"
    }
   ],
   "source": [
    "tsft.describe(include=\"all\")"
   ]
  },
  {
   "cell_type": "code",
   "execution_count": 6,
   "id": "d28ad078",
   "metadata": {},
   "outputs": [],
   "source": [
    "tsf.drop(\"ID\",axis=1,inplace=True)"
   ]
  },
  {
   "cell_type": "code",
   "execution_count": 7,
   "id": "b01004aa",
   "metadata": {},
   "outputs": [
    {
     "data": {
      "text/plain": [
       "(94379, 16)"
      ]
     },
     "execution_count": 7,
     "metadata": {},
     "output_type": "execute_result"
    }
   ],
   "source": [
    "tsf.shape"
   ]
  },
  {
   "cell_type": "code",
   "execution_count": 8,
   "id": "aaf97355",
   "metadata": {},
   "outputs": [
    {
     "data": {
      "text/html": [
       "<div>\n",
       "<style scoped>\n",
       "    .dataframe tbody tr th:only-of-type {\n",
       "        vertical-align: middle;\n",
       "    }\n",
       "\n",
       "    .dataframe tbody tr th {\n",
       "        vertical-align: top;\n",
       "    }\n",
       "\n",
       "    .dataframe thead th {\n",
       "        text-align: right;\n",
       "    }\n",
       "</style>\n",
       "<table border=\"1\" class=\"dataframe\">\n",
       "  <thead>\n",
       "    <tr style=\"text-align: right;\">\n",
       "      <th></th>\n",
       "      <th>ID</th>\n",
       "      <th>Gender</th>\n",
       "      <th>CustomerType</th>\n",
       "      <th>Age</th>\n",
       "      <th>TypeTravel</th>\n",
       "      <th>Travel_Class</th>\n",
       "      <th>Travel_Distance</th>\n",
       "      <th>DepartureDelay_in_Mins</th>\n",
       "      <th>ArrivalDelay_in_Mins</th>\n",
       "    </tr>\n",
       "  </thead>\n",
       "  <tbody>\n",
       "    <tr>\n",
       "      <th>0</th>\n",
       "      <td>98800001</td>\n",
       "      <td>Female</td>\n",
       "      <td>Loyal Customer</td>\n",
       "      <td>52.0</td>\n",
       "      <td>NaN</td>\n",
       "      <td>Business</td>\n",
       "      <td>272</td>\n",
       "      <td>0.0</td>\n",
       "      <td>5.0</td>\n",
       "    </tr>\n",
       "    <tr>\n",
       "      <th>1</th>\n",
       "      <td>98800002</td>\n",
       "      <td>Male</td>\n",
       "      <td>Loyal Customer</td>\n",
       "      <td>48.0</td>\n",
       "      <td>Personal Travel</td>\n",
       "      <td>Eco</td>\n",
       "      <td>2200</td>\n",
       "      <td>9.0</td>\n",
       "      <td>0.0</td>\n",
       "    </tr>\n",
       "    <tr>\n",
       "      <th>2</th>\n",
       "      <td>98800003</td>\n",
       "      <td>Female</td>\n",
       "      <td>Loyal Customer</td>\n",
       "      <td>43.0</td>\n",
       "      <td>Business travel</td>\n",
       "      <td>Business</td>\n",
       "      <td>1061</td>\n",
       "      <td>77.0</td>\n",
       "      <td>119.0</td>\n",
       "    </tr>\n",
       "    <tr>\n",
       "      <th>3</th>\n",
       "      <td>98800004</td>\n",
       "      <td>Female</td>\n",
       "      <td>Loyal Customer</td>\n",
       "      <td>44.0</td>\n",
       "      <td>Business travel</td>\n",
       "      <td>Business</td>\n",
       "      <td>780</td>\n",
       "      <td>13.0</td>\n",
       "      <td>18.0</td>\n",
       "    </tr>\n",
       "    <tr>\n",
       "      <th>4</th>\n",
       "      <td>98800005</td>\n",
       "      <td>Female</td>\n",
       "      <td>Loyal Customer</td>\n",
       "      <td>50.0</td>\n",
       "      <td>Business travel</td>\n",
       "      <td>Business</td>\n",
       "      <td>1981</td>\n",
       "      <td>0.0</td>\n",
       "      <td>0.0</td>\n",
       "    </tr>\n",
       "  </tbody>\n",
       "</table>\n",
       "</div>"
      ],
      "text/plain": [
       "         ID  Gender    CustomerType   Age       TypeTravel Travel_Class  \\\n",
       "0  98800001  Female  Loyal Customer  52.0              NaN     Business   \n",
       "1  98800002    Male  Loyal Customer  48.0  Personal Travel          Eco   \n",
       "2  98800003  Female  Loyal Customer  43.0  Business travel     Business   \n",
       "3  98800004  Female  Loyal Customer  44.0  Business travel     Business   \n",
       "4  98800005  Female  Loyal Customer  50.0  Business travel     Business   \n",
       "\n",
       "   Travel_Distance  DepartureDelay_in_Mins  ArrivalDelay_in_Mins  \n",
       "0              272                     0.0                   5.0  \n",
       "1             2200                     9.0                   0.0  \n",
       "2             1061                    77.0                 119.0  \n",
       "3              780                    13.0                  18.0  \n",
       "4             1981                     0.0                   0.0  "
      ]
     },
     "execution_count": 8,
     "metadata": {},
     "output_type": "execute_result"
    }
   ],
   "source": [
    "tf.head()"
   ]
  },
  {
   "cell_type": "code",
   "execution_count": 9,
   "id": "649f12fa",
   "metadata": {},
   "outputs": [
    {
     "data": {
      "text/plain": [
       "(94379, 9)"
      ]
     },
     "execution_count": 9,
     "metadata": {},
     "output_type": "execute_result"
    }
   ],
   "source": [
    "tf.shape"
   ]
  },
  {
   "cell_type": "code",
   "execution_count": 10,
   "id": "6198004d",
   "metadata": {},
   "outputs": [],
   "source": [
    "tf.drop(\"ID\",axis=1,inplace=True)"
   ]
  },
  {
   "cell_type": "code",
   "execution_count": 11,
   "id": "4a1590b1",
   "metadata": {},
   "outputs": [],
   "source": [
    "tf_train = pd.concat([tsf, tf], axis=1)"
   ]
  },
  {
   "cell_type": "code",
   "execution_count": 12,
   "id": "e8a8fa7b",
   "metadata": {},
   "outputs": [
    {
     "data": {
      "text/plain": [
       "(94379, 24)"
      ]
     },
     "execution_count": 12,
     "metadata": {},
     "output_type": "execute_result"
    }
   ],
   "source": [
    "tf_train.shape"
   ]
  },
  {
   "cell_type": "code",
   "execution_count": 13,
   "id": "ae59f7d7",
   "metadata": {},
   "outputs": [
    {
     "data": {
      "text/html": [
       "<div>\n",
       "<style scoped>\n",
       "    .dataframe tbody tr th:only-of-type {\n",
       "        vertical-align: middle;\n",
       "    }\n",
       "\n",
       "    .dataframe tbody tr th {\n",
       "        vertical-align: top;\n",
       "    }\n",
       "\n",
       "    .dataframe thead th {\n",
       "        text-align: right;\n",
       "    }\n",
       "</style>\n",
       "<table border=\"1\" class=\"dataframe\">\n",
       "  <thead>\n",
       "    <tr style=\"text-align: right;\">\n",
       "      <th></th>\n",
       "      <th>ID</th>\n",
       "      <th>Seat_comfort</th>\n",
       "      <th>Seat_Class</th>\n",
       "      <th>Arrival_time_convenient</th>\n",
       "      <th>Catering</th>\n",
       "      <th>Platform_location</th>\n",
       "      <th>Onboardwifi_service</th>\n",
       "      <th>Onboard_entertainment</th>\n",
       "      <th>Online_support</th>\n",
       "      <th>Onlinebooking_Ease</th>\n",
       "      <th>Onboard_service</th>\n",
       "      <th>Leg_room</th>\n",
       "      <th>Baggage_handling</th>\n",
       "      <th>Checkin_service</th>\n",
       "      <th>Cleanliness</th>\n",
       "      <th>Online_boarding</th>\n",
       "    </tr>\n",
       "  </thead>\n",
       "  <tbody>\n",
       "    <tr>\n",
       "      <th>0</th>\n",
       "      <td>99900001</td>\n",
       "      <td>acceptable</td>\n",
       "      <td>Green Car</td>\n",
       "      <td>acceptable</td>\n",
       "      <td>acceptable</td>\n",
       "      <td>manageable</td>\n",
       "      <td>need improvement</td>\n",
       "      <td>excellent</td>\n",
       "      <td>good</td>\n",
       "      <td>excellent</td>\n",
       "      <td>excellent</td>\n",
       "      <td>excellent</td>\n",
       "      <td>excellent</td>\n",
       "      <td>good</td>\n",
       "      <td>excellent</td>\n",
       "      <td>poor</td>\n",
       "    </tr>\n",
       "    <tr>\n",
       "      <th>1</th>\n",
       "      <td>99900002</td>\n",
       "      <td>extremely poor</td>\n",
       "      <td>Ordinary</td>\n",
       "      <td>good</td>\n",
       "      <td>poor</td>\n",
       "      <td>manageable</td>\n",
       "      <td>acceptable</td>\n",
       "      <td>poor</td>\n",
       "      <td>acceptable</td>\n",
       "      <td>acceptable</td>\n",
       "      <td>excellent</td>\n",
       "      <td>acceptable</td>\n",
       "      <td>good</td>\n",
       "      <td>acceptable</td>\n",
       "      <td>excellent</td>\n",
       "      <td>acceptable</td>\n",
       "    </tr>\n",
       "    <tr>\n",
       "      <th>2</th>\n",
       "      <td>99900003</td>\n",
       "      <td>excellent</td>\n",
       "      <td>Ordinary</td>\n",
       "      <td>excellent</td>\n",
       "      <td>excellent</td>\n",
       "      <td>very convinient</td>\n",
       "      <td>excellent</td>\n",
       "      <td>excellent</td>\n",
       "      <td>excellent</td>\n",
       "      <td>need improvement</td>\n",
       "      <td>need improvement</td>\n",
       "      <td>need improvement</td>\n",
       "      <td>need improvement</td>\n",
       "      <td>good</td>\n",
       "      <td>need improvement</td>\n",
       "      <td>excellent</td>\n",
       "    </tr>\n",
       "    <tr>\n",
       "      <th>3</th>\n",
       "      <td>99900004</td>\n",
       "      <td>acceptable</td>\n",
       "      <td>Green Car</td>\n",
       "      <td>excellent</td>\n",
       "      <td>acceptable</td>\n",
       "      <td>very convinient</td>\n",
       "      <td>poor</td>\n",
       "      <td>acceptable</td>\n",
       "      <td>excellent</td>\n",
       "      <td>poor</td>\n",
       "      <td>acceptable</td>\n",
       "      <td>need improvement</td>\n",
       "      <td>excellent</td>\n",
       "      <td>excellent</td>\n",
       "      <td>excellent</td>\n",
       "      <td>poor</td>\n",
       "    </tr>\n",
       "    <tr>\n",
       "      <th>4</th>\n",
       "      <td>99900005</td>\n",
       "      <td>excellent</td>\n",
       "      <td>Ordinary</td>\n",
       "      <td>extremely poor</td>\n",
       "      <td>excellent</td>\n",
       "      <td>need improvement</td>\n",
       "      <td>excellent</td>\n",
       "      <td>excellent</td>\n",
       "      <td>excellent</td>\n",
       "      <td>excellent</td>\n",
       "      <td>NaN</td>\n",
       "      <td>acceptable</td>\n",
       "      <td>excellent</td>\n",
       "      <td>excellent</td>\n",
       "      <td>excellent</td>\n",
       "      <td>excellent</td>\n",
       "    </tr>\n",
       "  </tbody>\n",
       "</table>\n",
       "</div>"
      ],
      "text/plain": [
       "         ID    Seat_comfort Seat_Class Arrival_time_convenient    Catering  \\\n",
       "0  99900001      acceptable  Green Car              acceptable  acceptable   \n",
       "1  99900002  extremely poor   Ordinary                    good        poor   \n",
       "2  99900003       excellent   Ordinary               excellent   excellent   \n",
       "3  99900004      acceptable  Green Car               excellent  acceptable   \n",
       "4  99900005       excellent   Ordinary          extremely poor   excellent   \n",
       "\n",
       "  Platform_location Onboardwifi_service Onboard_entertainment Online_support  \\\n",
       "0        manageable    need improvement             excellent           good   \n",
       "1        manageable          acceptable                  poor     acceptable   \n",
       "2   very convinient           excellent             excellent      excellent   \n",
       "3   very convinient                poor            acceptable      excellent   \n",
       "4  need improvement           excellent             excellent      excellent   \n",
       "\n",
       "  Onlinebooking_Ease   Onboard_service          Leg_room  Baggage_handling  \\\n",
       "0          excellent         excellent         excellent         excellent   \n",
       "1         acceptable         excellent        acceptable              good   \n",
       "2   need improvement  need improvement  need improvement  need improvement   \n",
       "3               poor        acceptable  need improvement         excellent   \n",
       "4          excellent               NaN        acceptable         excellent   \n",
       "\n",
       "  Checkin_service       Cleanliness Online_boarding  \n",
       "0            good         excellent            poor  \n",
       "1      acceptable         excellent      acceptable  \n",
       "2            good  need improvement       excellent  \n",
       "3       excellent         excellent            poor  \n",
       "4       excellent         excellent       excellent  "
      ]
     },
     "execution_count": 13,
     "metadata": {},
     "output_type": "execute_result"
    }
   ],
   "source": [
    "tsft.head()"
   ]
  },
  {
   "cell_type": "code",
   "execution_count": 14,
   "id": "afbb7755",
   "metadata": {},
   "outputs": [
    {
     "data": {
      "text/plain": [
       "(35602, 16)"
      ]
     },
     "execution_count": 14,
     "metadata": {},
     "output_type": "execute_result"
    }
   ],
   "source": [
    "tsft.shape"
   ]
  },
  {
   "cell_type": "code",
   "execution_count": 15,
   "id": "08822ba7",
   "metadata": {},
   "outputs": [
    {
     "data": {
      "text/html": [
       "<div>\n",
       "<style scoped>\n",
       "    .dataframe tbody tr th:only-of-type {\n",
       "        vertical-align: middle;\n",
       "    }\n",
       "\n",
       "    .dataframe tbody tr th {\n",
       "        vertical-align: top;\n",
       "    }\n",
       "\n",
       "    .dataframe thead th {\n",
       "        text-align: right;\n",
       "    }\n",
       "</style>\n",
       "<table border=\"1\" class=\"dataframe\">\n",
       "  <thead>\n",
       "    <tr style=\"text-align: right;\">\n",
       "      <th></th>\n",
       "      <th>ID</th>\n",
       "      <th>Gender</th>\n",
       "      <th>CustomerType</th>\n",
       "      <th>Age</th>\n",
       "      <th>TypeTravel</th>\n",
       "      <th>Travel_Class</th>\n",
       "      <th>Travel_Distance</th>\n",
       "      <th>DepartureDelay_in_Mins</th>\n",
       "      <th>ArrivalDelay_in_Mins</th>\n",
       "    </tr>\n",
       "  </thead>\n",
       "  <tbody>\n",
       "    <tr>\n",
       "      <th>0</th>\n",
       "      <td>99900001</td>\n",
       "      <td>Female</td>\n",
       "      <td>NaN</td>\n",
       "      <td>36.0</td>\n",
       "      <td>Business travel</td>\n",
       "      <td>Business</td>\n",
       "      <td>532</td>\n",
       "      <td>0.0</td>\n",
       "      <td>0.0</td>\n",
       "    </tr>\n",
       "    <tr>\n",
       "      <th>1</th>\n",
       "      <td>99900002</td>\n",
       "      <td>Female</td>\n",
       "      <td>disloyal Customer</td>\n",
       "      <td>21.0</td>\n",
       "      <td>Business travel</td>\n",
       "      <td>Business</td>\n",
       "      <td>1425</td>\n",
       "      <td>9.0</td>\n",
       "      <td>28.0</td>\n",
       "    </tr>\n",
       "    <tr>\n",
       "      <th>2</th>\n",
       "      <td>99900003</td>\n",
       "      <td>Male</td>\n",
       "      <td>Loyal Customer</td>\n",
       "      <td>60.0</td>\n",
       "      <td>Business travel</td>\n",
       "      <td>Business</td>\n",
       "      <td>2832</td>\n",
       "      <td>0.0</td>\n",
       "      <td>0.0</td>\n",
       "    </tr>\n",
       "    <tr>\n",
       "      <th>3</th>\n",
       "      <td>99900004</td>\n",
       "      <td>Female</td>\n",
       "      <td>Loyal Customer</td>\n",
       "      <td>29.0</td>\n",
       "      <td>Personal Travel</td>\n",
       "      <td>Eco</td>\n",
       "      <td>1352</td>\n",
       "      <td>0.0</td>\n",
       "      <td>0.0</td>\n",
       "    </tr>\n",
       "    <tr>\n",
       "      <th>4</th>\n",
       "      <td>99900005</td>\n",
       "      <td>Male</td>\n",
       "      <td>disloyal Customer</td>\n",
       "      <td>18.0</td>\n",
       "      <td>Business travel</td>\n",
       "      <td>Business</td>\n",
       "      <td>1610</td>\n",
       "      <td>17.0</td>\n",
       "      <td>0.0</td>\n",
       "    </tr>\n",
       "  </tbody>\n",
       "</table>\n",
       "</div>"
      ],
      "text/plain": [
       "         ID  Gender       CustomerType   Age       TypeTravel Travel_Class  \\\n",
       "0  99900001  Female                NaN  36.0  Business travel     Business   \n",
       "1  99900002  Female  disloyal Customer  21.0  Business travel     Business   \n",
       "2  99900003    Male     Loyal Customer  60.0  Business travel     Business   \n",
       "3  99900004  Female     Loyal Customer  29.0  Personal Travel          Eco   \n",
       "4  99900005    Male  disloyal Customer  18.0  Business travel     Business   \n",
       "\n",
       "   Travel_Distance  DepartureDelay_in_Mins  ArrivalDelay_in_Mins  \n",
       "0              532                     0.0                   0.0  \n",
       "1             1425                     9.0                  28.0  \n",
       "2             2832                     0.0                   0.0  \n",
       "3             1352                     0.0                   0.0  \n",
       "4             1610                    17.0                   0.0  "
      ]
     },
     "execution_count": 15,
     "metadata": {},
     "output_type": "execute_result"
    }
   ],
   "source": [
    "tft.head()"
   ]
  },
  {
   "cell_type": "code",
   "execution_count": 16,
   "id": "bedf4ebd",
   "metadata": {},
   "outputs": [],
   "source": [
    "tft.drop(\"ID\", axis=1 , inplace=True)"
   ]
  },
  {
   "cell_type": "code",
   "execution_count": 17,
   "id": "b05127a7",
   "metadata": {},
   "outputs": [
    {
     "data": {
      "text/plain": [
       "(35602, 8)"
      ]
     },
     "execution_count": 17,
     "metadata": {},
     "output_type": "execute_result"
    }
   ],
   "source": [
    "tft.shape"
   ]
  },
  {
   "cell_type": "code",
   "execution_count": 18,
   "id": "f7ab153a",
   "metadata": {},
   "outputs": [],
   "source": [
    "tf_test=pd.concat([tsft,tft], axis=1)"
   ]
  },
  {
   "cell_type": "code",
   "execution_count": 19,
   "id": "54577e6b",
   "metadata": {},
   "outputs": [
    {
     "data": {
      "text/plain": [
       "(35602, 24)"
      ]
     },
     "execution_count": 19,
     "metadata": {},
     "output_type": "execute_result"
    }
   ],
   "source": [
    "tf_test.shape"
   ]
  },
  {
   "cell_type": "markdown",
   "id": "38dc9d77",
   "metadata": {},
   "source": [
    "### Data preprocessing of train data"
   ]
  },
  {
   "cell_type": "code",
   "execution_count": 20,
   "id": "79e75648",
   "metadata": {},
   "outputs": [
    {
     "name": "stdout",
     "output_type": "stream",
     "text": [
      "<class 'pandas.core.frame.DataFrame'>\n",
      "RangeIndex: 94379 entries, 0 to 94378\n",
      "Data columns (total 24 columns):\n",
      " #   Column                   Non-Null Count  Dtype  \n",
      "---  ------                   --------------  -----  \n",
      " 0   Overall_Experience       94379 non-null  int64  \n",
      " 1   Seat_comfort             94318 non-null  object \n",
      " 2   Seat_Class               94379 non-null  object \n",
      " 3   Arrival_time_convenient  85449 non-null  object \n",
      " 4   Catering                 85638 non-null  object \n",
      " 5   Platform_location        94349 non-null  object \n",
      " 6   Onboardwifi_service      94349 non-null  object \n",
      " 7   Onboard_entertainment    94361 non-null  object \n",
      " 8   Online_support           94288 non-null  object \n",
      " 9   Onlinebooking_Ease       94306 non-null  object \n",
      " 10  Onboard_service          86778 non-null  object \n",
      " 11  Leg_room                 94289 non-null  object \n",
      " 12  Baggage_handling         94237 non-null  object \n",
      " 13  Checkin_service          94302 non-null  object \n",
      " 14  Cleanliness              94373 non-null  object \n",
      " 15  Online_boarding          94373 non-null  object \n",
      " 16  Gender                   94302 non-null  object \n",
      " 17  CustomerType             85428 non-null  object \n",
      " 18  Age                      94346 non-null  float64\n",
      " 19  TypeTravel               85153 non-null  object \n",
      " 20  Travel_Class             94379 non-null  object \n",
      " 21  Travel_Distance          94379 non-null  int64  \n",
      " 22  DepartureDelay_in_Mins   94322 non-null  float64\n",
      " 23  ArrivalDelay_in_Mins     94022 non-null  float64\n",
      "dtypes: float64(3), int64(2), object(19)\n",
      "memory usage: 17.3+ MB\n"
     ]
    }
   ],
   "source": [
    "tf_train.info()"
   ]
  },
  {
   "cell_type": "code",
   "execution_count": 21,
   "id": "eec81a52",
   "metadata": {},
   "outputs": [
    {
     "data": {
      "text/html": [
       "<div>\n",
       "<style scoped>\n",
       "    .dataframe tbody tr th:only-of-type {\n",
       "        vertical-align: middle;\n",
       "    }\n",
       "\n",
       "    .dataframe tbody tr th {\n",
       "        vertical-align: top;\n",
       "    }\n",
       "\n",
       "    .dataframe thead th {\n",
       "        text-align: right;\n",
       "    }\n",
       "</style>\n",
       "<table border=\"1\" class=\"dataframe\">\n",
       "  <thead>\n",
       "    <tr style=\"text-align: right;\">\n",
       "      <th></th>\n",
       "      <th>Overall_Experience</th>\n",
       "      <th>Seat_comfort</th>\n",
       "      <th>Seat_Class</th>\n",
       "      <th>Arrival_time_convenient</th>\n",
       "      <th>Catering</th>\n",
       "      <th>Platform_location</th>\n",
       "      <th>Onboardwifi_service</th>\n",
       "      <th>Onboard_entertainment</th>\n",
       "      <th>Online_support</th>\n",
       "      <th>Onlinebooking_Ease</th>\n",
       "      <th>...</th>\n",
       "      <th>Cleanliness</th>\n",
       "      <th>Online_boarding</th>\n",
       "      <th>Gender</th>\n",
       "      <th>CustomerType</th>\n",
       "      <th>Age</th>\n",
       "      <th>TypeTravel</th>\n",
       "      <th>Travel_Class</th>\n",
       "      <th>Travel_Distance</th>\n",
       "      <th>DepartureDelay_in_Mins</th>\n",
       "      <th>ArrivalDelay_in_Mins</th>\n",
       "    </tr>\n",
       "  </thead>\n",
       "  <tbody>\n",
       "    <tr>\n",
       "      <th>0</th>\n",
       "      <td>0</td>\n",
       "      <td>need improvement</td>\n",
       "      <td>Green Car</td>\n",
       "      <td>excellent</td>\n",
       "      <td>excellent</td>\n",
       "      <td>very convinient</td>\n",
       "      <td>good</td>\n",
       "      <td>need improvement</td>\n",
       "      <td>acceptable</td>\n",
       "      <td>need improvement</td>\n",
       "      <td>...</td>\n",
       "      <td>need improvement</td>\n",
       "      <td>poor</td>\n",
       "      <td>Female</td>\n",
       "      <td>Loyal Customer</td>\n",
       "      <td>52.0</td>\n",
       "      <td>NaN</td>\n",
       "      <td>Business</td>\n",
       "      <td>272</td>\n",
       "      <td>0.0</td>\n",
       "      <td>5.0</td>\n",
       "    </tr>\n",
       "    <tr>\n",
       "      <th>1</th>\n",
       "      <td>0</td>\n",
       "      <td>poor</td>\n",
       "      <td>Ordinary</td>\n",
       "      <td>excellent</td>\n",
       "      <td>poor</td>\n",
       "      <td>need improvement</td>\n",
       "      <td>good</td>\n",
       "      <td>poor</td>\n",
       "      <td>good</td>\n",
       "      <td>good</td>\n",
       "      <td>...</td>\n",
       "      <td>good</td>\n",
       "      <td>good</td>\n",
       "      <td>Male</td>\n",
       "      <td>Loyal Customer</td>\n",
       "      <td>48.0</td>\n",
       "      <td>Personal Travel</td>\n",
       "      <td>Eco</td>\n",
       "      <td>2200</td>\n",
       "      <td>9.0</td>\n",
       "      <td>0.0</td>\n",
       "    </tr>\n",
       "    <tr>\n",
       "      <th>2</th>\n",
       "      <td>1</td>\n",
       "      <td>need improvement</td>\n",
       "      <td>Green Car</td>\n",
       "      <td>need improvement</td>\n",
       "      <td>need improvement</td>\n",
       "      <td>need improvement</td>\n",
       "      <td>need improvement</td>\n",
       "      <td>good</td>\n",
       "      <td>excellent</td>\n",
       "      <td>excellent</td>\n",
       "      <td>...</td>\n",
       "      <td>excellent</td>\n",
       "      <td>excellent</td>\n",
       "      <td>Female</td>\n",
       "      <td>Loyal Customer</td>\n",
       "      <td>43.0</td>\n",
       "      <td>Business travel</td>\n",
       "      <td>Business</td>\n",
       "      <td>1061</td>\n",
       "      <td>77.0</td>\n",
       "      <td>119.0</td>\n",
       "    </tr>\n",
       "    <tr>\n",
       "      <th>3</th>\n",
       "      <td>0</td>\n",
       "      <td>acceptable</td>\n",
       "      <td>Ordinary</td>\n",
       "      <td>need improvement</td>\n",
       "      <td>NaN</td>\n",
       "      <td>need improvement</td>\n",
       "      <td>acceptable</td>\n",
       "      <td>need improvement</td>\n",
       "      <td>acceptable</td>\n",
       "      <td>acceptable</td>\n",
       "      <td>...</td>\n",
       "      <td>acceptable</td>\n",
       "      <td>acceptable</td>\n",
       "      <td>Female</td>\n",
       "      <td>Loyal Customer</td>\n",
       "      <td>44.0</td>\n",
       "      <td>Business travel</td>\n",
       "      <td>Business</td>\n",
       "      <td>780</td>\n",
       "      <td>13.0</td>\n",
       "      <td>18.0</td>\n",
       "    </tr>\n",
       "    <tr>\n",
       "      <th>4</th>\n",
       "      <td>1</td>\n",
       "      <td>acceptable</td>\n",
       "      <td>Ordinary</td>\n",
       "      <td>acceptable</td>\n",
       "      <td>acceptable</td>\n",
       "      <td>manageable</td>\n",
       "      <td>need improvement</td>\n",
       "      <td>good</td>\n",
       "      <td>excellent</td>\n",
       "      <td>good</td>\n",
       "      <td>...</td>\n",
       "      <td>good</td>\n",
       "      <td>good</td>\n",
       "      <td>Female</td>\n",
       "      <td>Loyal Customer</td>\n",
       "      <td>50.0</td>\n",
       "      <td>Business travel</td>\n",
       "      <td>Business</td>\n",
       "      <td>1981</td>\n",
       "      <td>0.0</td>\n",
       "      <td>0.0</td>\n",
       "    </tr>\n",
       "  </tbody>\n",
       "</table>\n",
       "<p>5 rows × 24 columns</p>\n",
       "</div>"
      ],
      "text/plain": [
       "   Overall_Experience      Seat_comfort Seat_Class Arrival_time_convenient  \\\n",
       "0                   0  need improvement  Green Car               excellent   \n",
       "1                   0              poor   Ordinary               excellent   \n",
       "2                   1  need improvement  Green Car        need improvement   \n",
       "3                   0        acceptable   Ordinary        need improvement   \n",
       "4                   1        acceptable   Ordinary              acceptable   \n",
       "\n",
       "           Catering Platform_location Onboardwifi_service  \\\n",
       "0         excellent   very convinient                good   \n",
       "1              poor  need improvement                good   \n",
       "2  need improvement  need improvement    need improvement   \n",
       "3               NaN  need improvement          acceptable   \n",
       "4        acceptable        manageable    need improvement   \n",
       "\n",
       "  Onboard_entertainment Online_support Onlinebooking_Ease  ...  \\\n",
       "0      need improvement     acceptable   need improvement  ...   \n",
       "1                  poor           good               good  ...   \n",
       "2                  good      excellent          excellent  ...   \n",
       "3      need improvement     acceptable         acceptable  ...   \n",
       "4                  good      excellent               good  ...   \n",
       "\n",
       "        Cleanliness Online_boarding  Gender    CustomerType   Age  \\\n",
       "0  need improvement            poor  Female  Loyal Customer  52.0   \n",
       "1              good            good    Male  Loyal Customer  48.0   \n",
       "2         excellent       excellent  Female  Loyal Customer  43.0   \n",
       "3        acceptable      acceptable  Female  Loyal Customer  44.0   \n",
       "4              good            good  Female  Loyal Customer  50.0   \n",
       "\n",
       "        TypeTravel Travel_Class Travel_Distance  DepartureDelay_in_Mins  \\\n",
       "0              NaN     Business             272                     0.0   \n",
       "1  Personal Travel          Eco            2200                     9.0   \n",
       "2  Business travel     Business            1061                    77.0   \n",
       "3  Business travel     Business             780                    13.0   \n",
       "4  Business travel     Business            1981                     0.0   \n",
       "\n",
       "  ArrivalDelay_in_Mins  \n",
       "0                  5.0  \n",
       "1                  0.0  \n",
       "2                119.0  \n",
       "3                 18.0  \n",
       "4                  0.0  \n",
       "\n",
       "[5 rows x 24 columns]"
      ]
     },
     "execution_count": 21,
     "metadata": {},
     "output_type": "execute_result"
    }
   ],
   "source": [
    "tf_train.head()"
   ]
  },
  {
   "cell_type": "code",
   "execution_count": 22,
   "id": "d1328498",
   "metadata": {},
   "outputs": [
    {
     "name": "stdout",
     "output_type": "stream",
     "text": [
      "<class 'pandas.core.frame.DataFrame'>\n",
      "RangeIndex: 94379 entries, 0 to 94378\n",
      "Data columns (total 24 columns):\n",
      " #   Column                   Non-Null Count  Dtype  \n",
      "---  ------                   --------------  -----  \n",
      " 0   Overall_Experience       94379 non-null  int64  \n",
      " 1   Seat_comfort             94318 non-null  object \n",
      " 2   Seat_Class               94379 non-null  object \n",
      " 3   Arrival_time_convenient  85449 non-null  object \n",
      " 4   Catering                 85638 non-null  object \n",
      " 5   Platform_location        94349 non-null  object \n",
      " 6   Onboardwifi_service      94349 non-null  object \n",
      " 7   Onboard_entertainment    94361 non-null  object \n",
      " 8   Online_support           94288 non-null  object \n",
      " 9   Onlinebooking_Ease       94306 non-null  object \n",
      " 10  Onboard_service          86778 non-null  object \n",
      " 11  Leg_room                 94289 non-null  object \n",
      " 12  Baggage_handling         94237 non-null  object \n",
      " 13  Checkin_service          94302 non-null  object \n",
      " 14  Cleanliness              94373 non-null  object \n",
      " 15  Online_boarding          94373 non-null  object \n",
      " 16  Gender                   94302 non-null  object \n",
      " 17  CustomerType             85428 non-null  object \n",
      " 18  Age                      94346 non-null  float64\n",
      " 19  TypeTravel               85153 non-null  object \n",
      " 20  Travel_Class             94379 non-null  object \n",
      " 21  Travel_Distance          94379 non-null  int64  \n",
      " 22  DepartureDelay_in_Mins   94322 non-null  float64\n",
      " 23  ArrivalDelay_in_Mins     94022 non-null  float64\n",
      "dtypes: float64(3), int64(2), object(19)\n",
      "memory usage: 17.3+ MB\n"
     ]
    }
   ],
   "source": [
    "tf_train.info()"
   ]
  },
  {
   "cell_type": "code",
   "execution_count": 23,
   "id": "22e478f8",
   "metadata": {},
   "outputs": [
    {
     "data": {
      "text/plain": [
       "Overall_Experience            0\n",
       "Seat_comfort                 61\n",
       "Seat_Class                    0\n",
       "Arrival_time_convenient    8930\n",
       "Catering                   8741\n",
       "Platform_location            30\n",
       "Onboardwifi_service          30\n",
       "Onboard_entertainment        18\n",
       "Online_support               91\n",
       "Onlinebooking_Ease           73\n",
       "Onboard_service            7601\n",
       "Leg_room                     90\n",
       "Baggage_handling            142\n",
       "Checkin_service              77\n",
       "Cleanliness                   6\n",
       "Online_boarding               6\n",
       "Gender                       77\n",
       "CustomerType               8951\n",
       "Age                          33\n",
       "TypeTravel                 9226\n",
       "Travel_Class                  0\n",
       "Travel_Distance               0\n",
       "DepartureDelay_in_Mins       57\n",
       "ArrivalDelay_in_Mins        357\n",
       "dtype: int64"
      ]
     },
     "execution_count": 23,
     "metadata": {},
     "output_type": "execute_result"
    }
   ],
   "source": [
    "tf_train.isnull().sum()"
   ]
  },
  {
   "cell_type": "code",
   "execution_count": 24,
   "id": "70db7929",
   "metadata": {},
   "outputs": [],
   "source": [
    "tf_train['Overall_Experience']=tf_train['Overall_Experience'].astype(\"object\")"
   ]
  },
  {
   "cell_type": "code",
   "execution_count": 25,
   "id": "d15c5ad4",
   "metadata": {},
   "outputs": [],
   "source": [
    "for i in tf_train.columns:\n",
    "    if (tf_train[i].dtype=='object'):\n",
    "        tf_train[i].fillna(tf_train[i].mode()[0], inplace=True)\n",
    "    elif (tf_train[i].dtype=='float64' or tf_train[i].dtype=='int64'):\n",
    "        tf_train[i].fillna(tf_train[i].mean(), inplace=True)"
   ]
  },
  {
   "cell_type": "code",
   "execution_count": 26,
   "id": "7d2b9864",
   "metadata": {},
   "outputs": [
    {
     "name": "stdout",
     "output_type": "stream",
     "text": [
      "<class 'pandas.core.frame.DataFrame'>\n",
      "RangeIndex: 94379 entries, 0 to 94378\n",
      "Data columns (total 24 columns):\n",
      " #   Column                   Non-Null Count  Dtype  \n",
      "---  ------                   --------------  -----  \n",
      " 0   Overall_Experience       94379 non-null  int64  \n",
      " 1   Seat_comfort             94379 non-null  object \n",
      " 2   Seat_Class               94379 non-null  object \n",
      " 3   Arrival_time_convenient  94379 non-null  object \n",
      " 4   Catering                 94379 non-null  object \n",
      " 5   Platform_location        94379 non-null  object \n",
      " 6   Onboardwifi_service      94379 non-null  object \n",
      " 7   Onboard_entertainment    94379 non-null  object \n",
      " 8   Online_support           94379 non-null  object \n",
      " 9   Onlinebooking_Ease       94379 non-null  object \n",
      " 10  Onboard_service          94379 non-null  object \n",
      " 11  Leg_room                 94379 non-null  object \n",
      " 12  Baggage_handling         94379 non-null  object \n",
      " 13  Checkin_service          94379 non-null  object \n",
      " 14  Cleanliness              94379 non-null  object \n",
      " 15  Online_boarding          94379 non-null  object \n",
      " 16  Gender                   94379 non-null  object \n",
      " 17  CustomerType             94379 non-null  object \n",
      " 18  Age                      94379 non-null  float64\n",
      " 19  TypeTravel               94379 non-null  object \n",
      " 20  Travel_Class             94379 non-null  object \n",
      " 21  Travel_Distance          94379 non-null  int64  \n",
      " 22  DepartureDelay_in_Mins   94379 non-null  float64\n",
      " 23  ArrivalDelay_in_Mins     94379 non-null  float64\n",
      "dtypes: float64(3), int64(2), object(19)\n",
      "memory usage: 17.3+ MB\n"
     ]
    }
   ],
   "source": [
    "tf_train.info()"
   ]
  },
  {
   "cell_type": "code",
   "execution_count": 27,
   "id": "b29c27da",
   "metadata": {},
   "outputs": [
    {
     "data": {
      "text/plain": [
       "Female    47892\n",
       "Male      46487\n",
       "Name: Gender, dtype: int64"
      ]
     },
     "execution_count": 27,
     "metadata": {},
     "output_type": "execute_result"
    }
   ],
   "source": [
    "tf_train[\"Gender\"].value_counts()"
   ]
  },
  {
   "cell_type": "code",
   "execution_count": 28,
   "id": "087d14e2",
   "metadata": {},
   "outputs": [
    {
     "data": {
      "text/plain": [
       "Overall_Experience         0\n",
       "Seat_comfort               0\n",
       "Seat_Class                 0\n",
       "Arrival_time_convenient    0\n",
       "Catering                   0\n",
       "Platform_location          0\n",
       "Onboardwifi_service        0\n",
       "Onboard_entertainment      0\n",
       "Online_support             0\n",
       "Onlinebooking_Ease         0\n",
       "Onboard_service            0\n",
       "Leg_room                   0\n",
       "Baggage_handling           0\n",
       "Checkin_service            0\n",
       "Cleanliness                0\n",
       "Online_boarding            0\n",
       "Gender                     0\n",
       "CustomerType               0\n",
       "Age                        0\n",
       "TypeTravel                 0\n",
       "Travel_Class               0\n",
       "Travel_Distance            0\n",
       "DepartureDelay_in_Mins     0\n",
       "ArrivalDelay_in_Mins       0\n",
       "dtype: int64"
      ]
     },
     "execution_count": 28,
     "metadata": {},
     "output_type": "execute_result"
    }
   ],
   "source": [
    "tf_train.isnull().sum()"
   ]
  },
  {
   "cell_type": "code",
   "execution_count": 29,
   "id": "0a90f1a0",
   "metadata": {},
   "outputs": [],
   "source": [
    "tf_train['Overall_Experience']=tf_train['Overall_Experience'].astype(\"object\")"
   ]
  },
  {
   "cell_type": "code",
   "execution_count": 30,
   "id": "91cea5a7",
   "metadata": {},
   "outputs": [
    {
     "name": "stdout",
     "output_type": "stream",
     "text": [
      "<class 'pandas.core.frame.DataFrame'>\n",
      "RangeIndex: 94379 entries, 0 to 94378\n",
      "Data columns (total 24 columns):\n",
      " #   Column                   Non-Null Count  Dtype  \n",
      "---  ------                   --------------  -----  \n",
      " 0   Overall_Experience       94379 non-null  object \n",
      " 1   Seat_comfort             94379 non-null  object \n",
      " 2   Seat_Class               94379 non-null  object \n",
      " 3   Arrival_time_convenient  94379 non-null  object \n",
      " 4   Catering                 94379 non-null  object \n",
      " 5   Platform_location        94379 non-null  object \n",
      " 6   Onboardwifi_service      94379 non-null  object \n",
      " 7   Onboard_entertainment    94379 non-null  object \n",
      " 8   Online_support           94379 non-null  object \n",
      " 9   Onlinebooking_Ease       94379 non-null  object \n",
      " 10  Onboard_service          94379 non-null  object \n",
      " 11  Leg_room                 94379 non-null  object \n",
      " 12  Baggage_handling         94379 non-null  object \n",
      " 13  Checkin_service          94379 non-null  object \n",
      " 14  Cleanliness              94379 non-null  object \n",
      " 15  Online_boarding          94379 non-null  object \n",
      " 16  Gender                   94379 non-null  object \n",
      " 17  CustomerType             94379 non-null  object \n",
      " 18  Age                      94379 non-null  float64\n",
      " 19  TypeTravel               94379 non-null  object \n",
      " 20  Travel_Class             94379 non-null  object \n",
      " 21  Travel_Distance          94379 non-null  int64  \n",
      " 22  DepartureDelay_in_Mins   94379 non-null  float64\n",
      " 23  ArrivalDelay_in_Mins     94379 non-null  float64\n",
      "dtypes: float64(3), int64(1), object(20)\n",
      "memory usage: 17.3+ MB\n"
     ]
    }
   ],
   "source": [
    "tf_train.info()"
   ]
  },
  {
   "cell_type": "code",
   "execution_count": 31,
   "id": "89503fcb",
   "metadata": {},
   "outputs": [
    {
     "data": {
      "text/plain": [
       "good                35433\n",
       "excellent           26053\n",
       "acceptable          17449\n",
       "need improvement     9806\n",
       "poor                 5633\n",
       "extremely poor          5\n",
       "Name: Cleanliness, dtype: int64"
      ]
     },
     "execution_count": 31,
     "metadata": {},
     "output_type": "execute_result"
    }
   ],
   "source": [
    "tf_train[\"Cleanliness\"].value_counts()"
   ]
  },
  {
   "cell_type": "code",
   "execution_count": 32,
   "id": "a062a33e",
   "metadata": {},
   "outputs": [
    {
     "data": {
      "text/plain": [
       "good                26579\n",
       "acceptable          25803\n",
       "excellent           19641\n",
       "need improvement    11218\n",
       "poor                11137\n",
       "extremely poor          1\n",
       "Name: Checkin_service, dtype: int64"
      ]
     },
     "execution_count": 32,
     "metadata": {},
     "output_type": "execute_result"
    }
   ],
   "source": [
    "tf_train[\"Checkin_service\"].value_counts()"
   ]
  },
  {
   "cell_type": "code",
   "execution_count": 33,
   "id": "5dc40e8d",
   "metadata": {},
   "outputs": [
    {
     "data": {
      "text/plain": [
       "good                34866\n",
       "excellent           21272\n",
       "acceptable          18071\n",
       "need improvement    11390\n",
       "poor                 8776\n",
       "extremely poor          4\n",
       "Name: Onboard_service, dtype: int64"
      ]
     },
     "execution_count": 33,
     "metadata": {},
     "output_type": "execute_result"
    }
   ],
   "source": [
    "tf_train[\"Onboard_service\"].value_counts()"
   ]
  },
  {
   "cell_type": "code",
   "execution_count": 34,
   "id": "53745f71",
   "metadata": {},
   "outputs": [
    {
     "data": {
      "text/plain": [
       "good                30107\n",
       "excellent           25894\n",
       "acceptable          15702\n",
       "need improvement    12508\n",
       "poor                10167\n",
       "extremely poor          1\n",
       "Name: Online_support, dtype: int64"
      ]
     },
     "execution_count": 34,
     "metadata": {},
     "output_type": "execute_result"
    }
   ],
   "source": [
    "tf_train[\"Online_support\"].value_counts()"
   ]
  },
  {
   "cell_type": "code",
   "execution_count": 35,
   "id": "fb7c0e27",
   "metadata": {},
   "outputs": [
    {
     "data": {
      "text/plain": [
       "manageable           24203\n",
       "Convinient           21912\n",
       "need improvement     17832\n",
       "Inconvinient         16449\n",
       "very convinient      13981\n",
       "very inconvinient        2\n",
       "Name: Platform_location, dtype: int64"
      ]
     },
     "execution_count": 35,
     "metadata": {},
     "output_type": "execute_result"
    }
   ],
   "source": [
    "tf_train[\"Platform_location\"].value_counts()"
   ]
  },
  {
   "cell_type": "code",
   "execution_count": 36,
   "id": "914ecb28",
   "metadata": {},
   "outputs": [],
   "source": [
    "tf_train['Platform_location']=np.where(tf_train['Platform_location']=='very inconvinient','very convinient',tf_train['Platform_location'])"
   ]
  },
  {
   "cell_type": "code",
   "execution_count": 37,
   "id": "3346b186",
   "metadata": {},
   "outputs": [],
   "source": [
    "tf_train['Online_support']=np.where(tf_train['Online_support']=='extremely poor','poor',tf_train['Online_support'])"
   ]
  },
  {
   "cell_type": "code",
   "execution_count": 38,
   "id": "4e1cebb2",
   "metadata": {},
   "outputs": [],
   "source": [
    "tf_train['Onboard_service']=np.where(tf_train['Onboard_service']=='extremely poor','poor',tf_train['Onboard_service'])"
   ]
  },
  {
   "cell_type": "code",
   "execution_count": 39,
   "id": "0503e74e",
   "metadata": {},
   "outputs": [],
   "source": [
    "tf_train['Checkin_service']=np.where(tf_train['Checkin_service']=='extremely poor','poor',tf_train['Checkin_service'])"
   ]
  },
  {
   "cell_type": "code",
   "execution_count": 40,
   "id": "ad677f5f",
   "metadata": {},
   "outputs": [],
   "source": [
    "tf_train['Cleanliness']=np.where(tf_train['Cleanliness']=='extremely poor','poor',tf_train['Cleanliness'])"
   ]
  },
  {
   "cell_type": "code",
   "execution_count": 41,
   "id": "88d3761e",
   "metadata": {},
   "outputs": [
    {
     "data": {
      "text/plain": [
       "good                35433\n",
       "excellent           26053\n",
       "acceptable          17449\n",
       "need improvement     9806\n",
       "poor                 5638\n",
       "Name: Cleanliness, dtype: int64"
      ]
     },
     "execution_count": 41,
     "metadata": {},
     "output_type": "execute_result"
    }
   ],
   "source": [
    "tf_train[\"Cleanliness\"].value_counts()"
   ]
  },
  {
   "cell_type": "code",
   "execution_count": 42,
   "id": "15c13bcd",
   "metadata": {},
   "outputs": [
    {
     "data": {
      "text/plain": [
       "good                26579\n",
       "acceptable          25803\n",
       "excellent           19641\n",
       "need improvement    11218\n",
       "poor                11138\n",
       "Name: Checkin_service, dtype: int64"
      ]
     },
     "execution_count": 42,
     "metadata": {},
     "output_type": "execute_result"
    }
   ],
   "source": [
    "tf_train[\"Checkin_service\"].value_counts()"
   ]
  },
  {
   "cell_type": "code",
   "execution_count": 43,
   "id": "c6e2f895",
   "metadata": {},
   "outputs": [
    {
     "data": {
      "text/plain": [
       "good                34866\n",
       "excellent           21272\n",
       "acceptable          18071\n",
       "need improvement    11390\n",
       "poor                 8780\n",
       "Name: Onboard_service, dtype: int64"
      ]
     },
     "execution_count": 43,
     "metadata": {},
     "output_type": "execute_result"
    }
   ],
   "source": [
    "tf_train[\"Onboard_service\"].value_counts()"
   ]
  },
  {
   "cell_type": "code",
   "execution_count": 44,
   "id": "8d362ffc",
   "metadata": {},
   "outputs": [
    {
     "data": {
      "text/plain": [
       "good                30107\n",
       "excellent           25894\n",
       "acceptable          15702\n",
       "need improvement    12508\n",
       "poor                10168\n",
       "Name: Online_support, dtype: int64"
      ]
     },
     "execution_count": 44,
     "metadata": {},
     "output_type": "execute_result"
    }
   ],
   "source": [
    "tf_train[\"Online_support\"].value_counts()"
   ]
  },
  {
   "cell_type": "code",
   "execution_count": 45,
   "id": "7375bdd2",
   "metadata": {},
   "outputs": [
    {
     "data": {
      "text/plain": [
       "manageable          24203\n",
       "Convinient          21912\n",
       "need improvement    17832\n",
       "Inconvinient        16449\n",
       "very convinient     13983\n",
       "Name: Platform_location, dtype: int64"
      ]
     },
     "execution_count": 45,
     "metadata": {},
     "output_type": "execute_result"
    }
   ],
   "source": [
    "tf_train[\"Platform_location\"].value_counts()"
   ]
  },
  {
   "cell_type": "markdown",
   "id": "0a58d9ed",
   "metadata": {},
   "source": [
    "### Separating the categorical and numerical variables"
   ]
  },
  {
   "cell_type": "code",
   "execution_count": 46,
   "id": "3f1ef99a",
   "metadata": {},
   "outputs": [],
   "source": [
    "categorical = []\n",
    "for col, value in tf_train.iteritems():\n",
    "    if value.dtype == 'object':\n",
    "        categorical.append(col)"
   ]
  },
  {
   "cell_type": "code",
   "execution_count": 47,
   "id": "b803b3ea",
   "metadata": {},
   "outputs": [
    {
     "data": {
      "text/plain": [
       "['Overall_Experience',\n",
       " 'Seat_comfort',\n",
       " 'Seat_Class',\n",
       " 'Arrival_time_convenient',\n",
       " 'Catering',\n",
       " 'Platform_location',\n",
       " 'Onboardwifi_service',\n",
       " 'Onboard_entertainment',\n",
       " 'Online_support',\n",
       " 'Onlinebooking_Ease',\n",
       " 'Onboard_service',\n",
       " 'Leg_room',\n",
       " 'Baggage_handling',\n",
       " 'Checkin_service',\n",
       " 'Cleanliness',\n",
       " 'Online_boarding',\n",
       " 'Gender',\n",
       " 'CustomerType',\n",
       " 'TypeTravel',\n",
       " 'Travel_Class']"
      ]
     },
     "execution_count": 47,
     "metadata": {},
     "output_type": "execute_result"
    }
   ],
   "source": [
    "categorical"
   ]
  },
  {
   "cell_type": "code",
   "execution_count": 48,
   "id": "9df4e10c",
   "metadata": {},
   "outputs": [],
   "source": [
    "numerical = tf_train.columns.difference(categorical)\n",
    "tf_train_num = tf_train[numerical]"
   ]
  },
  {
   "cell_type": "markdown",
   "id": "781a1f4d",
   "metadata": {},
   "source": [
    "### Outlier treatment"
   ]
  },
  {
   "cell_type": "code",
   "execution_count": 49,
   "id": "3aecdd7b",
   "metadata": {},
   "outputs": [
    {
     "data": {
      "image/png": "[encoded data removed]",
      "text/plain": [
       "<Figure size 720x720 with 1 Axes>"
      ]
     },
     "metadata": {
      "needs_background": "light"
     },
     "output_type": "display_data"
    }
   ],
   "source": [
    "plt.figure(figsize=(10,10))\n",
    "tf_train_num.boxplot(vert=0)\n",
    "plt.show()"
   ]
  },
  {
   "cell_type": "code",
   "execution_count": 50,
   "id": "a5d6743c",
   "metadata": {},
   "outputs": [],
   "source": [
    "def remove_outlier(col):\n",
    "    sorted(col)\n",
    "    Q1,Q3=np.percentile(col,[25,75])\n",
    "    IQR=Q3-Q1\n",
    "    lower_range= Q1-(1.5 * IQR)\n",
    "    upper_range= Q3+(1.5 * IQR)\n",
    "    return lower_range, upper_range"
   ]
  },
  {
   "cell_type": "code",
   "execution_count": 51,
   "id": "32532deb",
   "metadata": {},
   "outputs": [],
   "source": [
    "for column in tf_train_num.columns:\n",
    "    lr,ur=remove_outlier(tf_train_num[column])\n",
    "    tf_train_num[column]=np.where(tf_train_num[column]>ur,ur,tf_train_num[column])\n",
    "    tf_train_num[column]=np.where(tf_train_num[column]<lr,lr,tf_train_num[column])"
   ]
  },
  {
   "cell_type": "code",
   "execution_count": 52,
   "id": "651b21ba",
   "metadata": {},
   "outputs": [
    {
     "data": {
      "image/png": "[encoded data removed]",
      "text/plain": [
       "<Figure size 720x720 with 1 Axes>"
      ]
     },
     "metadata": {
      "needs_background": "light"
     },
     "output_type": "display_data"
    }
   ],
   "source": [
    "plt.figure(figsize=(10,10))\n",
    "tf_train_num.boxplot(vert=0)\n",
    "plt.show()"
   ]
  },
  {
   "cell_type": "code",
   "execution_count": 53,
   "id": "bdc74110",
   "metadata": {},
   "outputs": [
    {
     "data": {
      "text/html": [
       "<div>\n",
       "<style scoped>\n",
       "    .dataframe tbody tr th:only-of-type {\n",
       "        vertical-align: middle;\n",
       "    }\n",
       "\n",
       "    .dataframe tbody tr th {\n",
       "        vertical-align: top;\n",
       "    }\n",
       "\n",
       "    .dataframe thead th {\n",
       "        text-align: right;\n",
       "    }\n",
       "</style>\n",
       "<table border=\"1\" class=\"dataframe\">\n",
       "  <thead>\n",
       "    <tr style=\"text-align: right;\">\n",
       "      <th></th>\n",
       "      <th>Age</th>\n",
       "      <th>ArrivalDelay_in_Mins</th>\n",
       "      <th>DepartureDelay_in_Mins</th>\n",
       "      <th>Travel_Distance</th>\n",
       "    </tr>\n",
       "  </thead>\n",
       "  <tbody>\n",
       "    <tr>\n",
       "      <th>0</th>\n",
       "      <td>52.0</td>\n",
       "      <td>5.0</td>\n",
       "      <td>0.0</td>\n",
       "      <td>272.0</td>\n",
       "    </tr>\n",
       "    <tr>\n",
       "      <th>1</th>\n",
       "      <td>48.0</td>\n",
       "      <td>0.0</td>\n",
       "      <td>9.0</td>\n",
       "      <td>2200.0</td>\n",
       "    </tr>\n",
       "    <tr>\n",
       "      <th>2</th>\n",
       "      <td>43.0</td>\n",
       "      <td>32.5</td>\n",
       "      <td>30.0</td>\n",
       "      <td>1061.0</td>\n",
       "    </tr>\n",
       "    <tr>\n",
       "      <th>3</th>\n",
       "      <td>44.0</td>\n",
       "      <td>18.0</td>\n",
       "      <td>13.0</td>\n",
       "      <td>780.0</td>\n",
       "    </tr>\n",
       "    <tr>\n",
       "      <th>4</th>\n",
       "      <td>50.0</td>\n",
       "      <td>0.0</td>\n",
       "      <td>0.0</td>\n",
       "      <td>1981.0</td>\n",
       "    </tr>\n",
       "  </tbody>\n",
       "</table>\n",
       "</div>"
      ],
      "text/plain": [
       "    Age  ArrivalDelay_in_Mins  DepartureDelay_in_Mins  Travel_Distance\n",
       "0  52.0                   5.0                     0.0            272.0\n",
       "1  48.0                   0.0                     9.0           2200.0\n",
       "2  43.0                  32.5                    30.0           1061.0\n",
       "3  44.0                  18.0                    13.0            780.0\n",
       "4  50.0                   0.0                     0.0           1981.0"
      ]
     },
     "execution_count": 53,
     "metadata": {},
     "output_type": "execute_result"
    }
   ],
   "source": [
    "tf_train_num.head()"
   ]
  },
  {
   "cell_type": "code",
   "execution_count": 54,
   "id": "ea491ee9",
   "metadata": {},
   "outputs": [],
   "source": [
    "tf_train_num= tf_train_num.apply(lambda x:(x-x.min()) / (x.max()-x.min()))"
   ]
  },
  {
   "cell_type": "code",
   "execution_count": 55,
   "id": "7390660e",
   "metadata": {},
   "outputs": [
    {
     "data": {
      "text/html": [
       "<div>\n",
       "<style scoped>\n",
       "    .dataframe tbody tr th:only-of-type {\n",
       "        vertical-align: middle;\n",
       "    }\n",
       "\n",
       "    .dataframe tbody tr th {\n",
       "        vertical-align: top;\n",
       "    }\n",
       "\n",
       "    .dataframe thead th {\n",
       "        text-align: right;\n",
       "    }\n",
       "</style>\n",
       "<table border=\"1\" class=\"dataframe\">\n",
       "  <thead>\n",
       "    <tr style=\"text-align: right;\">\n",
       "      <th></th>\n",
       "      <th>Age</th>\n",
       "      <th>ArrivalDelay_in_Mins</th>\n",
       "      <th>DepartureDelay_in_Mins</th>\n",
       "      <th>Travel_Distance</th>\n",
       "    </tr>\n",
       "  </thead>\n",
       "  <tbody>\n",
       "    <tr>\n",
       "      <th>0</th>\n",
       "      <td>0.576923</td>\n",
       "      <td>0.153846</td>\n",
       "      <td>0.000000</td>\n",
       "      <td>0.052156</td>\n",
       "    </tr>\n",
       "    <tr>\n",
       "      <th>1</th>\n",
       "      <td>0.525641</td>\n",
       "      <td>0.000000</td>\n",
       "      <td>0.300000</td>\n",
       "      <td>0.505110</td>\n",
       "    </tr>\n",
       "    <tr>\n",
       "      <th>2</th>\n",
       "      <td>0.461538</td>\n",
       "      <td>1.000000</td>\n",
       "      <td>1.000000</td>\n",
       "      <td>0.237519</td>\n",
       "    </tr>\n",
       "    <tr>\n",
       "      <th>3</th>\n",
       "      <td>0.474359</td>\n",
       "      <td>0.553846</td>\n",
       "      <td>0.433333</td>\n",
       "      <td>0.171502</td>\n",
       "    </tr>\n",
       "    <tr>\n",
       "      <th>4</th>\n",
       "      <td>0.551282</td>\n",
       "      <td>0.000000</td>\n",
       "      <td>0.000000</td>\n",
       "      <td>0.453659</td>\n",
       "    </tr>\n",
       "  </tbody>\n",
       "</table>\n",
       "</div>"
      ],
      "text/plain": [
       "        Age  ArrivalDelay_in_Mins  DepartureDelay_in_Mins  Travel_Distance\n",
       "0  0.576923              0.153846                0.000000         0.052156\n",
       "1  0.525641              0.000000                0.300000         0.505110\n",
       "2  0.461538              1.000000                1.000000         0.237519\n",
       "3  0.474359              0.553846                0.433333         0.171502\n",
       "4  0.551282              0.000000                0.000000         0.453659"
      ]
     },
     "execution_count": 55,
     "metadata": {},
     "output_type": "execute_result"
    }
   ],
   "source": [
    "tf_train_num.head()"
   ]
  },
  {
   "cell_type": "code",
   "execution_count": 56,
   "id": "90a9c251",
   "metadata": {},
   "outputs": [
    {
     "data": {
      "image/png": "[encoded data removed]",
      "text/plain": [
       "<Figure size 720x720 with 1 Axes>"
      ]
     },
     "metadata": {
      "needs_background": "light"
     },
     "output_type": "display_data"
    }
   ],
   "source": [
    "plt.figure(figsize=(10,10))\n",
    "tf_train_num.boxplot(vert=0)\n",
    "plt.show()"
   ]
  },
  {
   "cell_type": "code",
   "execution_count": 57,
   "id": "cecbda51",
   "metadata": {},
   "outputs": [],
   "source": [
    "tf_train_cat = tf_train[categorical]\n",
    "tf_train_cat = tf_train_cat.drop(['Overall_Experience'], axis=1) # Dropping the target column"
   ]
  },
  {
   "cell_type": "code",
   "execution_count": 58,
   "id": "9256eca0",
   "metadata": {},
   "outputs": [
    {
     "data": {
      "text/plain": [
       "(94379, 19)"
      ]
     },
     "execution_count": 58,
     "metadata": {},
     "output_type": "execute_result"
    }
   ],
   "source": [
    "tf_train_cat.shape"
   ]
  },
  {
   "cell_type": "code",
   "execution_count": 59,
   "id": "39f02a99",
   "metadata": {},
   "outputs": [
    {
     "data": {
      "text/plain": [
       "(94379, 88)"
      ]
     },
     "execution_count": 59,
     "metadata": {},
     "output_type": "execute_result"
    }
   ],
   "source": [
    "tf_train_cat = pd.get_dummies(tf_train_cat)\n",
    "tf_train_cat.shape"
   ]
  },
  {
   "cell_type": "code",
   "execution_count": 60,
   "id": "66b96e9d",
   "metadata": {},
   "outputs": [
    {
     "name": "stdout",
     "output_type": "stream",
     "text": [
      "<class 'pandas.core.frame.DataFrame'>\n",
      "RangeIndex: 94379 entries, 0 to 94378\n",
      "Data columns (total 88 columns):\n",
      " #   Column                                    Non-Null Count  Dtype\n",
      "---  ------                                    --------------  -----\n",
      " 0   Seat_comfort_acceptable                   94379 non-null  uint8\n",
      " 1   Seat_comfort_excellent                    94379 non-null  uint8\n",
      " 2   Seat_comfort_extremely poor               94379 non-null  uint8\n",
      " 3   Seat_comfort_good                         94379 non-null  uint8\n",
      " 4   Seat_comfort_need improvement             94379 non-null  uint8\n",
      " 5   Seat_comfort_poor                         94379 non-null  uint8\n",
      " 6   Seat_Class_Green Car                      94379 non-null  uint8\n",
      " 7   Seat_Class_Ordinary                       94379 non-null  uint8\n",
      " 8   Arrival_time_convenient_acceptable        94379 non-null  uint8\n",
      " 9   Arrival_time_convenient_excellent         94379 non-null  uint8\n",
      " 10  Arrival_time_convenient_extremely poor    94379 non-null  uint8\n",
      " 11  Arrival_time_convenient_good              94379 non-null  uint8\n",
      " 12  Arrival_time_convenient_need improvement  94379 non-null  uint8\n",
      " 13  Arrival_time_convenient_poor              94379 non-null  uint8\n",
      " 14  Catering_acceptable                       94379 non-null  uint8\n",
      " 15  Catering_excellent                        94379 non-null  uint8\n",
      " 16  Catering_extremely poor                   94379 non-null  uint8\n",
      " 17  Catering_good                             94379 non-null  uint8\n",
      " 18  Catering_need improvement                 94379 non-null  uint8\n",
      " 19  Catering_poor                             94379 non-null  uint8\n",
      " 20  Platform_location_Convinient              94379 non-null  uint8\n",
      " 21  Platform_location_Inconvinient            94379 non-null  uint8\n",
      " 22  Platform_location_manageable              94379 non-null  uint8\n",
      " 23  Platform_location_need improvement        94379 non-null  uint8\n",
      " 24  Platform_location_very convinient         94379 non-null  uint8\n",
      " 25  Onboardwifi_service_acceptable            94379 non-null  uint8\n",
      " 26  Onboardwifi_service_excellent             94379 non-null  uint8\n",
      " 27  Onboardwifi_service_extremely poor        94379 non-null  uint8\n",
      " 28  Onboardwifi_service_good                  94379 non-null  uint8\n",
      " 29  Onboardwifi_service_need improvement      94379 non-null  uint8\n",
      " 30  Onboardwifi_service_poor                  94379 non-null  uint8\n",
      " 31  Onboard_entertainment_acceptable          94379 non-null  uint8\n",
      " 32  Onboard_entertainment_excellent           94379 non-null  uint8\n",
      " 33  Onboard_entertainment_extremely poor      94379 non-null  uint8\n",
      " 34  Onboard_entertainment_good                94379 non-null  uint8\n",
      " 35  Onboard_entertainment_need improvement    94379 non-null  uint8\n",
      " 36  Onboard_entertainment_poor                94379 non-null  uint8\n",
      " 37  Online_support_acceptable                 94379 non-null  uint8\n",
      " 38  Online_support_excellent                  94379 non-null  uint8\n",
      " 39  Online_support_good                       94379 non-null  uint8\n",
      " 40  Online_support_need improvement           94379 non-null  uint8\n",
      " 41  Online_support_poor                       94379 non-null  uint8\n",
      " 42  Onlinebooking_Ease_acceptable             94379 non-null  uint8\n",
      " 43  Onlinebooking_Ease_excellent              94379 non-null  uint8\n",
      " 44  Onlinebooking_Ease_extremely poor         94379 non-null  uint8\n",
      " 45  Onlinebooking_Ease_good                   94379 non-null  uint8\n",
      " 46  Onlinebooking_Ease_need improvement       94379 non-null  uint8\n",
      " 47  Onlinebooking_Ease_poor                   94379 non-null  uint8\n",
      " 48  Onboard_service_acceptable                94379 non-null  uint8\n",
      " 49  Onboard_service_excellent                 94379 non-null  uint8\n",
      " 50  Onboard_service_good                      94379 non-null  uint8\n",
      " 51  Onboard_service_need improvement          94379 non-null  uint8\n",
      " 52  Onboard_service_poor                      94379 non-null  uint8\n",
      " 53  Leg_room_acceptable                       94379 non-null  uint8\n",
      " 54  Leg_room_excellent                        94379 non-null  uint8\n",
      " 55  Leg_room_extremely poor                   94379 non-null  uint8\n",
      " 56  Leg_room_good                             94379 non-null  uint8\n",
      " 57  Leg_room_need improvement                 94379 non-null  uint8\n",
      " 58  Leg_room_poor                             94379 non-null  uint8\n",
      " 59  Baggage_handling_acceptable               94379 non-null  uint8\n",
      " 60  Baggage_handling_excellent                94379 non-null  uint8\n",
      " 61  Baggage_handling_good                     94379 non-null  uint8\n",
      " 62  Baggage_handling_need improvement         94379 non-null  uint8\n",
      " 63  Baggage_handling_poor                     94379 non-null  uint8\n",
      " 64  Checkin_service_acceptable                94379 non-null  uint8\n",
      " 65  Checkin_service_excellent                 94379 non-null  uint8\n",
      " 66  Checkin_service_good                      94379 non-null  uint8\n",
      " 67  Checkin_service_need improvement          94379 non-null  uint8\n",
      " 68  Checkin_service_poor                      94379 non-null  uint8\n",
      " 69  Cleanliness_acceptable                    94379 non-null  uint8\n",
      " 70  Cleanliness_excellent                     94379 non-null  uint8\n",
      " 71  Cleanliness_good                          94379 non-null  uint8\n",
      " 72  Cleanliness_need improvement              94379 non-null  uint8\n",
      " 73  Cleanliness_poor                          94379 non-null  uint8\n",
      " 74  Online_boarding_acceptable                94379 non-null  uint8\n",
      " 75  Online_boarding_excellent                 94379 non-null  uint8\n",
      " 76  Online_boarding_extremely poor            94379 non-null  uint8\n",
      " 77  Online_boarding_good                      94379 non-null  uint8\n",
      " 78  Online_boarding_need improvement          94379 non-null  uint8\n",
      " 79  Online_boarding_poor                      94379 non-null  uint8\n",
      " 80  Gender_Female                             94379 non-null  uint8\n",
      " 81  Gender_Male                               94379 non-null  uint8\n",
      " 82  CustomerType_Loyal Customer               94379 non-null  uint8\n",
      " 83  CustomerType_disloyal Customer            94379 non-null  uint8\n",
      " 84  TypeTravel_Business travel                94379 non-null  uint8\n",
      " 85  TypeTravel_Personal Travel                94379 non-null  uint8\n",
      " 86  Travel_Class_Business                     94379 non-null  uint8\n",
      " 87  Travel_Class_Eco                          94379 non-null  uint8\n",
      "dtypes: uint8(88)\n",
      "memory usage: 7.9 MB\n"
     ]
    }
   ],
   "source": [
    "tf_train_cat.info()"
   ]
  },
  {
   "cell_type": "code",
   "execution_count": 61,
   "id": "35669881",
   "metadata": {},
   "outputs": [],
   "source": [
    "tf_train_final = pd.concat([tf_train_num, tf_train_cat], axis=1)"
   ]
  },
  {
   "cell_type": "code",
   "execution_count": 62,
   "id": "8e8844b6",
   "metadata": {},
   "outputs": [
    {
     "data": {
      "text/html": [
       "<div>\n",
       "<style scoped>\n",
       "    .dataframe tbody tr th:only-of-type {\n",
       "        vertical-align: middle;\n",
       "    }\n",
       "\n",
       "    .dataframe tbody tr th {\n",
       "        vertical-align: top;\n",
       "    }\n",
       "\n",
       "    .dataframe thead th {\n",
       "        text-align: right;\n",
       "    }\n",
       "</style>\n",
       "<table border=\"1\" class=\"dataframe\">\n",
       "  <thead>\n",
       "    <tr style=\"text-align: right;\">\n",
       "      <th></th>\n",
       "      <th>Age</th>\n",
       "      <th>ArrivalDelay_in_Mins</th>\n",
       "      <th>DepartureDelay_in_Mins</th>\n",
       "      <th>Travel_Distance</th>\n",
       "      <th>Seat_comfort_acceptable</th>\n",
       "      <th>Seat_comfort_excellent</th>\n",
       "      <th>Seat_comfort_extremely poor</th>\n",
       "      <th>Seat_comfort_good</th>\n",
       "      <th>Seat_comfort_need improvement</th>\n",
       "      <th>Seat_comfort_poor</th>\n",
       "      <th>...</th>\n",
       "      <th>Online_boarding_need improvement</th>\n",
       "      <th>Online_boarding_poor</th>\n",
       "      <th>Gender_Female</th>\n",
       "      <th>Gender_Male</th>\n",
       "      <th>CustomerType_Loyal Customer</th>\n",
       "      <th>CustomerType_disloyal Customer</th>\n",
       "      <th>TypeTravel_Business travel</th>\n",
       "      <th>TypeTravel_Personal Travel</th>\n",
       "      <th>Travel_Class_Business</th>\n",
       "      <th>Travel_Class_Eco</th>\n",
       "    </tr>\n",
       "  </thead>\n",
       "  <tbody>\n",
       "    <tr>\n",
       "      <th>0</th>\n",
       "      <td>0.576923</td>\n",
       "      <td>0.153846</td>\n",
       "      <td>0.000000</td>\n",
       "      <td>0.052156</td>\n",
       "      <td>0</td>\n",
       "      <td>0</td>\n",
       "      <td>0</td>\n",
       "      <td>0</td>\n",
       "      <td>1</td>\n",
       "      <td>0</td>\n",
       "      <td>...</td>\n",
       "      <td>0</td>\n",
       "      <td>1</td>\n",
       "      <td>1</td>\n",
       "      <td>0</td>\n",
       "      <td>1</td>\n",
       "      <td>0</td>\n",
       "      <td>1</td>\n",
       "      <td>0</td>\n",
       "      <td>1</td>\n",
       "      <td>0</td>\n",
       "    </tr>\n",
       "    <tr>\n",
       "      <th>1</th>\n",
       "      <td>0.525641</td>\n",
       "      <td>0.000000</td>\n",
       "      <td>0.300000</td>\n",
       "      <td>0.505110</td>\n",
       "      <td>0</td>\n",
       "      <td>0</td>\n",
       "      <td>0</td>\n",
       "      <td>0</td>\n",
       "      <td>0</td>\n",
       "      <td>1</td>\n",
       "      <td>...</td>\n",
       "      <td>0</td>\n",
       "      <td>0</td>\n",
       "      <td>0</td>\n",
       "      <td>1</td>\n",
       "      <td>1</td>\n",
       "      <td>0</td>\n",
       "      <td>0</td>\n",
       "      <td>1</td>\n",
       "      <td>0</td>\n",
       "      <td>1</td>\n",
       "    </tr>\n",
       "    <tr>\n",
       "      <th>2</th>\n",
       "      <td>0.461538</td>\n",
       "      <td>1.000000</td>\n",
       "      <td>1.000000</td>\n",
       "      <td>0.237519</td>\n",
       "      <td>0</td>\n",
       "      <td>0</td>\n",
       "      <td>0</td>\n",
       "      <td>0</td>\n",
       "      <td>1</td>\n",
       "      <td>0</td>\n",
       "      <td>...</td>\n",
       "      <td>0</td>\n",
       "      <td>0</td>\n",
       "      <td>1</td>\n",
       "      <td>0</td>\n",
       "      <td>1</td>\n",
       "      <td>0</td>\n",
       "      <td>1</td>\n",
       "      <td>0</td>\n",
       "      <td>1</td>\n",
       "      <td>0</td>\n",
       "    </tr>\n",
       "    <tr>\n",
       "      <th>3</th>\n",
       "      <td>0.474359</td>\n",
       "      <td>0.553846</td>\n",
       "      <td>0.433333</td>\n",
       "      <td>0.171502</td>\n",
       "      <td>1</td>\n",
       "      <td>0</td>\n",
       "      <td>0</td>\n",
       "      <td>0</td>\n",
       "      <td>0</td>\n",
       "      <td>0</td>\n",
       "      <td>...</td>\n",
       "      <td>0</td>\n",
       "      <td>0</td>\n",
       "      <td>1</td>\n",
       "      <td>0</td>\n",
       "      <td>1</td>\n",
       "      <td>0</td>\n",
       "      <td>1</td>\n",
       "      <td>0</td>\n",
       "      <td>1</td>\n",
       "      <td>0</td>\n",
       "    </tr>\n",
       "    <tr>\n",
       "      <th>4</th>\n",
       "      <td>0.551282</td>\n",
       "      <td>0.000000</td>\n",
       "      <td>0.000000</td>\n",
       "      <td>0.453659</td>\n",
       "      <td>1</td>\n",
       "      <td>0</td>\n",
       "      <td>0</td>\n",
       "      <td>0</td>\n",
       "      <td>0</td>\n",
       "      <td>0</td>\n",
       "      <td>...</td>\n",
       "      <td>0</td>\n",
       "      <td>0</td>\n",
       "      <td>1</td>\n",
       "      <td>0</td>\n",
       "      <td>1</td>\n",
       "      <td>0</td>\n",
       "      <td>1</td>\n",
       "      <td>0</td>\n",
       "      <td>1</td>\n",
       "      <td>0</td>\n",
       "    </tr>\n",
       "  </tbody>\n",
       "</table>\n",
       "<p>5 rows × 92 columns</p>\n",
       "</div>"
      ],
      "text/plain": [
       "        Age  ArrivalDelay_in_Mins  DepartureDelay_in_Mins  Travel_Distance  \\\n",
       "0  0.576923              0.153846                0.000000         0.052156   \n",
       "1  0.525641              0.000000                0.300000         0.505110   \n",
       "2  0.461538              1.000000                1.000000         0.237519   \n",
       "3  0.474359              0.553846                0.433333         0.171502   \n",
       "4  0.551282              0.000000                0.000000         0.453659   \n",
       "\n",
       "   Seat_comfort_acceptable  Seat_comfort_excellent  \\\n",
       "0                        0                       0   \n",
       "1                        0                       0   \n",
       "2                        0                       0   \n",
       "3                        1                       0   \n",
       "4                        1                       0   \n",
       "\n",
       "   Seat_comfort_extremely poor  Seat_comfort_good  \\\n",
       "0                            0                  0   \n",
       "1                            0                  0   \n",
       "2                            0                  0   \n",
       "3                            0                  0   \n",
       "4                            0                  0   \n",
       "\n",
       "   Seat_comfort_need improvement  Seat_comfort_poor  ...  \\\n",
       "0                              1                  0  ...   \n",
       "1                              0                  1  ...   \n",
       "2                              1                  0  ...   \n",
       "3                              0                  0  ...   \n",
       "4                              0                  0  ...   \n",
       "\n",
       "   Online_boarding_need improvement  Online_boarding_poor  Gender_Female  \\\n",
       "0                                 0                     1              1   \n",
       "1                                 0                     0              0   \n",
       "2                                 0                     0              1   \n",
       "3                                 0                     0              1   \n",
       "4                                 0                     0              1   \n",
       "\n",
       "   Gender_Male  CustomerType_Loyal Customer  CustomerType_disloyal Customer  \\\n",
       "0            0                            1                               0   \n",
       "1            1                            1                               0   \n",
       "2            0                            1                               0   \n",
       "3            0                            1                               0   \n",
       "4            0                            1                               0   \n",
       "\n",
       "   TypeTravel_Business travel  TypeTravel_Personal Travel  \\\n",
       "0                           1                           0   \n",
       "1                           0                           1   \n",
       "2                           1                           0   \n",
       "3                           1                           0   \n",
       "4                           1                           0   \n",
       "\n",
       "   Travel_Class_Business  Travel_Class_Eco  \n",
       "0                      1                 0  \n",
       "1                      0                 1  \n",
       "2                      1                 0  \n",
       "3                      1                 0  \n",
       "4                      1                 0  \n",
       "\n",
       "[5 rows x 92 columns]"
      ]
     },
     "execution_count": 62,
     "metadata": {},
     "output_type": "execute_result"
    }
   ],
   "source": [
    "tf_train_final.head()"
   ]
  },
  {
   "cell_type": "code",
   "execution_count": 63,
   "id": "b2695bed",
   "metadata": {},
   "outputs": [
    {
     "name": "stdout",
     "output_type": "stream",
     "text": [
      "<class 'pandas.core.frame.DataFrame'>\n",
      "RangeIndex: 94379 entries, 0 to 94378\n",
      "Data columns (total 92 columns):\n",
      " #   Column                                    Non-Null Count  Dtype  \n",
      "---  ------                                    --------------  -----  \n",
      " 0   Age                                       94379 non-null  float64\n",
      " 1   ArrivalDelay_in_Mins                      94379 non-null  float64\n",
      " 2   DepartureDelay_in_Mins                    94379 non-null  float64\n",
      " 3   Travel_Distance                           94379 non-null  float64\n",
      " 4   Seat_comfort_acceptable                   94379 non-null  uint8  \n",
      " 5   Seat_comfort_excellent                    94379 non-null  uint8  \n",
      " 6   Seat_comfort_extremely poor               94379 non-null  uint8  \n",
      " 7   Seat_comfort_good                         94379 non-null  uint8  \n",
      " 8   Seat_comfort_need improvement             94379 non-null  uint8  \n",
      " 9   Seat_comfort_poor                         94379 non-null  uint8  \n",
      " 10  Seat_Class_Green Car                      94379 non-null  uint8  \n",
      " 11  Seat_Class_Ordinary                       94379 non-null  uint8  \n",
      " 12  Arrival_time_convenient_acceptable        94379 non-null  uint8  \n",
      " 13  Arrival_time_convenient_excellent         94379 non-null  uint8  \n",
      " 14  Arrival_time_convenient_extremely poor    94379 non-null  uint8  \n",
      " 15  Arrival_time_convenient_good              94379 non-null  uint8  \n",
      " 16  Arrival_time_convenient_need improvement  94379 non-null  uint8  \n",
      " 17  Arrival_time_convenient_poor              94379 non-null  uint8  \n",
      " 18  Catering_acceptable                       94379 non-null  uint8  \n",
      " 19  Catering_excellent                        94379 non-null  uint8  \n",
      " 20  Catering_extremely poor                   94379 non-null  uint8  \n",
      " 21  Catering_good                             94379 non-null  uint8  \n",
      " 22  Catering_need improvement                 94379 non-null  uint8  \n",
      " 23  Catering_poor                             94379 non-null  uint8  \n",
      " 24  Platform_location_Convinient              94379 non-null  uint8  \n",
      " 25  Platform_location_Inconvinient            94379 non-null  uint8  \n",
      " 26  Platform_location_manageable              94379 non-null  uint8  \n",
      " 27  Platform_location_need improvement        94379 non-null  uint8  \n",
      " 28  Platform_location_very convinient         94379 non-null  uint8  \n",
      " 29  Onboardwifi_service_acceptable            94379 non-null  uint8  \n",
      " 30  Onboardwifi_service_excellent             94379 non-null  uint8  \n",
      " 31  Onboardwifi_service_extremely poor        94379 non-null  uint8  \n",
      " 32  Onboardwifi_service_good                  94379 non-null  uint8  \n",
      " 33  Onboardwifi_service_need improvement      94379 non-null  uint8  \n",
      " 34  Onboardwifi_service_poor                  94379 non-null  uint8  \n",
      " 35  Onboard_entertainment_acceptable          94379 non-null  uint8  \n",
      " 36  Onboard_entertainment_excellent           94379 non-null  uint8  \n",
      " 37  Onboard_entertainment_extremely poor      94379 non-null  uint8  \n",
      " 38  Onboard_entertainment_good                94379 non-null  uint8  \n",
      " 39  Onboard_entertainment_need improvement    94379 non-null  uint8  \n",
      " 40  Onboard_entertainment_poor                94379 non-null  uint8  \n",
      " 41  Online_support_acceptable                 94379 non-null  uint8  \n",
      " 42  Online_support_excellent                  94379 non-null  uint8  \n",
      " 43  Online_support_good                       94379 non-null  uint8  \n",
      " 44  Online_support_need improvement           94379 non-null  uint8  \n",
      " 45  Online_support_poor                       94379 non-null  uint8  \n",
      " 46  Onlinebooking_Ease_acceptable             94379 non-null  uint8  \n",
      " 47  Onlinebooking_Ease_excellent              94379 non-null  uint8  \n",
      " 48  Onlinebooking_Ease_extremely poor         94379 non-null  uint8  \n",
      " 49  Onlinebooking_Ease_good                   94379 non-null  uint8  \n",
      " 50  Onlinebooking_Ease_need improvement       94379 non-null  uint8  \n",
      " 51  Onlinebooking_Ease_poor                   94379 non-null  uint8  \n",
      " 52  Onboard_service_acceptable                94379 non-null  uint8  \n",
      " 53  Onboard_service_excellent                 94379 non-null  uint8  \n",
      " 54  Onboard_service_good                      94379 non-null  uint8  \n",
      " 55  Onboard_service_need improvement          94379 non-null  uint8  \n",
      " 56  Onboard_service_poor                      94379 non-null  uint8  \n",
      " 57  Leg_room_acceptable                       94379 non-null  uint8  \n",
      " 58  Leg_room_excellent                        94379 non-null  uint8  \n",
      " 59  Leg_room_extremely poor                   94379 non-null  uint8  \n",
      " 60  Leg_room_good                             94379 non-null  uint8  \n",
      " 61  Leg_room_need improvement                 94379 non-null  uint8  \n",
      " 62  Leg_room_poor                             94379 non-null  uint8  \n",
      " 63  Baggage_handling_acceptable               94379 non-null  uint8  \n",
      " 64  Baggage_handling_excellent                94379 non-null  uint8  \n",
      " 65  Baggage_handling_good                     94379 non-null  uint8  \n",
      " 66  Baggage_handling_need improvement         94379 non-null  uint8  \n",
      " 67  Baggage_handling_poor                     94379 non-null  uint8  \n",
      " 68  Checkin_service_acceptable                94379 non-null  uint8  \n",
      " 69  Checkin_service_excellent                 94379 non-null  uint8  \n",
      " 70  Checkin_service_good                      94379 non-null  uint8  \n",
      " 71  Checkin_service_need improvement          94379 non-null  uint8  \n",
      " 72  Checkin_service_poor                      94379 non-null  uint8  \n",
      " 73  Cleanliness_acceptable                    94379 non-null  uint8  \n",
      " 74  Cleanliness_excellent                     94379 non-null  uint8  \n",
      " 75  Cleanliness_good                          94379 non-null  uint8  \n",
      " 76  Cleanliness_need improvement              94379 non-null  uint8  \n",
      " 77  Cleanliness_poor                          94379 non-null  uint8  \n",
      " 78  Online_boarding_acceptable                94379 non-null  uint8  \n",
      " 79  Online_boarding_excellent                 94379 non-null  uint8  \n",
      " 80  Online_boarding_extremely poor            94379 non-null  uint8  \n",
      " 81  Online_boarding_good                      94379 non-null  uint8  \n",
      " 82  Online_boarding_need improvement          94379 non-null  uint8  \n",
      " 83  Online_boarding_poor                      94379 non-null  uint8  \n",
      " 84  Gender_Female                             94379 non-null  uint8  \n",
      " 85  Gender_Male                               94379 non-null  uint8  \n",
      " 86  CustomerType_Loyal Customer               94379 non-null  uint8  \n",
      " 87  CustomerType_disloyal Customer            94379 non-null  uint8  \n",
      " 88  TypeTravel_Business travel                94379 non-null  uint8  \n",
      " 89  TypeTravel_Personal Travel                94379 non-null  uint8  \n",
      " 90  Travel_Class_Business                     94379 non-null  uint8  \n",
      " 91  Travel_Class_Eco                          94379 non-null  uint8  \n",
      "dtypes: float64(4), uint8(88)\n",
      "memory usage: 10.8 MB\n"
     ]
    }
   ],
   "source": [
    "tf_train_final.info()"
   ]
  },
  {
   "cell_type": "code",
   "execution_count": 64,
   "id": "f393d740",
   "metadata": {
    "scrolled": true
   },
   "outputs": [
    {
     "data": {
      "image/png": "[encoded data removed]",
      "text/plain": [
       "<Figure size 720x360 with 1 Axes>"
      ]
     },
     "metadata": {
      "needs_background": "light"
     },
     "output_type": "display_data"
    }
   ],
   "source": [
    "plt.figure(figsize=(10,5))\n",
    "sns.countplot(data=tf_train,x='Overall_Experience')\n",
    "plt.show()"
   ]
  },
  {
   "cell_type": "code",
   "execution_count": 65,
   "id": "aaa38c09",
   "metadata": {},
   "outputs": [],
   "source": [
    "x_train=tf_train_final #independent variables\n",
    "y_train=tf_train['Overall_Experience'].astype('int') #dependent variables"
   ]
  },
  {
   "cell_type": "code",
   "execution_count": 66,
   "id": "4e1ac830",
   "metadata": {},
   "outputs": [
    {
     "data": {
      "text/plain": [
       "(94379, 92)"
      ]
     },
     "execution_count": 66,
     "metadata": {},
     "output_type": "execute_result"
    }
   ],
   "source": [
    "x_train.shape"
   ]
  },
  {
   "cell_type": "code",
   "execution_count": 67,
   "id": "ccd2be46",
   "metadata": {},
   "outputs": [
    {
     "data": {
      "text/plain": [
       "(94379,)"
      ]
     },
     "execution_count": 67,
     "metadata": {},
     "output_type": "execute_result"
    }
   ],
   "source": [
    "y_train.shape"
   ]
  },
  {
   "cell_type": "markdown",
   "id": "d58ee2a4",
   "metadata": {},
   "source": [
    "### Data preprocessing of test data"
   ]
  },
  {
   "cell_type": "code",
   "execution_count": 68,
   "id": "69335592",
   "metadata": {},
   "outputs": [
    {
     "data": {
      "text/html": [
       "<div>\n",
       "<style scoped>\n",
       "    .dataframe tbody tr th:only-of-type {\n",
       "        vertical-align: middle;\n",
       "    }\n",
       "\n",
       "    .dataframe tbody tr th {\n",
       "        vertical-align: top;\n",
       "    }\n",
       "\n",
       "    .dataframe thead th {\n",
       "        text-align: right;\n",
       "    }\n",
       "</style>\n",
       "<table border=\"1\" class=\"dataframe\">\n",
       "  <thead>\n",
       "    <tr style=\"text-align: right;\">\n",
       "      <th></th>\n",
       "      <th>ID</th>\n",
       "      <th>Seat_comfort</th>\n",
       "      <th>Seat_Class</th>\n",
       "      <th>Arrival_time_convenient</th>\n",
       "      <th>Catering</th>\n",
       "      <th>Platform_location</th>\n",
       "      <th>Onboardwifi_service</th>\n",
       "      <th>Onboard_entertainment</th>\n",
       "      <th>Online_support</th>\n",
       "      <th>Onlinebooking_Ease</th>\n",
       "      <th>...</th>\n",
       "      <th>Cleanliness</th>\n",
       "      <th>Online_boarding</th>\n",
       "      <th>Gender</th>\n",
       "      <th>CustomerType</th>\n",
       "      <th>Age</th>\n",
       "      <th>TypeTravel</th>\n",
       "      <th>Travel_Class</th>\n",
       "      <th>Travel_Distance</th>\n",
       "      <th>DepartureDelay_in_Mins</th>\n",
       "      <th>ArrivalDelay_in_Mins</th>\n",
       "    </tr>\n",
       "  </thead>\n",
       "  <tbody>\n",
       "    <tr>\n",
       "      <th>0</th>\n",
       "      <td>99900001</td>\n",
       "      <td>acceptable</td>\n",
       "      <td>Green Car</td>\n",
       "      <td>acceptable</td>\n",
       "      <td>acceptable</td>\n",
       "      <td>manageable</td>\n",
       "      <td>need improvement</td>\n",
       "      <td>excellent</td>\n",
       "      <td>good</td>\n",
       "      <td>excellent</td>\n",
       "      <td>...</td>\n",
       "      <td>excellent</td>\n",
       "      <td>poor</td>\n",
       "      <td>Female</td>\n",
       "      <td>NaN</td>\n",
       "      <td>36.0</td>\n",
       "      <td>Business travel</td>\n",
       "      <td>Business</td>\n",
       "      <td>532</td>\n",
       "      <td>0.0</td>\n",
       "      <td>0.0</td>\n",
       "    </tr>\n",
       "    <tr>\n",
       "      <th>1</th>\n",
       "      <td>99900002</td>\n",
       "      <td>extremely poor</td>\n",
       "      <td>Ordinary</td>\n",
       "      <td>good</td>\n",
       "      <td>poor</td>\n",
       "      <td>manageable</td>\n",
       "      <td>acceptable</td>\n",
       "      <td>poor</td>\n",
       "      <td>acceptable</td>\n",
       "      <td>acceptable</td>\n",
       "      <td>...</td>\n",
       "      <td>excellent</td>\n",
       "      <td>acceptable</td>\n",
       "      <td>Female</td>\n",
       "      <td>disloyal Customer</td>\n",
       "      <td>21.0</td>\n",
       "      <td>Business travel</td>\n",
       "      <td>Business</td>\n",
       "      <td>1425</td>\n",
       "      <td>9.0</td>\n",
       "      <td>28.0</td>\n",
       "    </tr>\n",
       "    <tr>\n",
       "      <th>2</th>\n",
       "      <td>99900003</td>\n",
       "      <td>excellent</td>\n",
       "      <td>Ordinary</td>\n",
       "      <td>excellent</td>\n",
       "      <td>excellent</td>\n",
       "      <td>very convinient</td>\n",
       "      <td>excellent</td>\n",
       "      <td>excellent</td>\n",
       "      <td>excellent</td>\n",
       "      <td>need improvement</td>\n",
       "      <td>...</td>\n",
       "      <td>need improvement</td>\n",
       "      <td>excellent</td>\n",
       "      <td>Male</td>\n",
       "      <td>Loyal Customer</td>\n",
       "      <td>60.0</td>\n",
       "      <td>Business travel</td>\n",
       "      <td>Business</td>\n",
       "      <td>2832</td>\n",
       "      <td>0.0</td>\n",
       "      <td>0.0</td>\n",
       "    </tr>\n",
       "    <tr>\n",
       "      <th>3</th>\n",
       "      <td>99900004</td>\n",
       "      <td>acceptable</td>\n",
       "      <td>Green Car</td>\n",
       "      <td>excellent</td>\n",
       "      <td>acceptable</td>\n",
       "      <td>very convinient</td>\n",
       "      <td>poor</td>\n",
       "      <td>acceptable</td>\n",
       "      <td>excellent</td>\n",
       "      <td>poor</td>\n",
       "      <td>...</td>\n",
       "      <td>excellent</td>\n",
       "      <td>poor</td>\n",
       "      <td>Female</td>\n",
       "      <td>Loyal Customer</td>\n",
       "      <td>29.0</td>\n",
       "      <td>Personal Travel</td>\n",
       "      <td>Eco</td>\n",
       "      <td>1352</td>\n",
       "      <td>0.0</td>\n",
       "      <td>0.0</td>\n",
       "    </tr>\n",
       "    <tr>\n",
       "      <th>4</th>\n",
       "      <td>99900005</td>\n",
       "      <td>excellent</td>\n",
       "      <td>Ordinary</td>\n",
       "      <td>extremely poor</td>\n",
       "      <td>excellent</td>\n",
       "      <td>need improvement</td>\n",
       "      <td>excellent</td>\n",
       "      <td>excellent</td>\n",
       "      <td>excellent</td>\n",
       "      <td>excellent</td>\n",
       "      <td>...</td>\n",
       "      <td>excellent</td>\n",
       "      <td>excellent</td>\n",
       "      <td>Male</td>\n",
       "      <td>disloyal Customer</td>\n",
       "      <td>18.0</td>\n",
       "      <td>Business travel</td>\n",
       "      <td>Business</td>\n",
       "      <td>1610</td>\n",
       "      <td>17.0</td>\n",
       "      <td>0.0</td>\n",
       "    </tr>\n",
       "  </tbody>\n",
       "</table>\n",
       "<p>5 rows × 24 columns</p>\n",
       "</div>"
      ],
      "text/plain": [
       "         ID    Seat_comfort Seat_Class Arrival_time_convenient    Catering  \\\n",
       "0  99900001      acceptable  Green Car              acceptable  acceptable   \n",
       "1  99900002  extremely poor   Ordinary                    good        poor   \n",
       "2  99900003       excellent   Ordinary               excellent   excellent   \n",
       "3  99900004      acceptable  Green Car               excellent  acceptable   \n",
       "4  99900005       excellent   Ordinary          extremely poor   excellent   \n",
       "\n",
       "  Platform_location Onboardwifi_service Onboard_entertainment Online_support  \\\n",
       "0        manageable    need improvement             excellent           good   \n",
       "1        manageable          acceptable                  poor     acceptable   \n",
       "2   very convinient           excellent             excellent      excellent   \n",
       "3   very convinient                poor            acceptable      excellent   \n",
       "4  need improvement           excellent             excellent      excellent   \n",
       "\n",
       "  Onlinebooking_Ease  ...       Cleanliness Online_boarding  Gender  \\\n",
       "0          excellent  ...         excellent            poor  Female   \n",
       "1         acceptable  ...         excellent      acceptable  Female   \n",
       "2   need improvement  ...  need improvement       excellent    Male   \n",
       "3               poor  ...         excellent            poor  Female   \n",
       "4          excellent  ...         excellent       excellent    Male   \n",
       "\n",
       "        CustomerType   Age       TypeTravel Travel_Class Travel_Distance  \\\n",
       "0                NaN  36.0  Business travel     Business             532   \n",
       "1  disloyal Customer  21.0  Business travel     Business            1425   \n",
       "2     Loyal Customer  60.0  Business travel     Business            2832   \n",
       "3     Loyal Customer  29.0  Personal Travel          Eco            1352   \n",
       "4  disloyal Customer  18.0  Business travel     Business            1610   \n",
       "\n",
       "   DepartureDelay_in_Mins ArrivalDelay_in_Mins  \n",
       "0                     0.0                  0.0  \n",
       "1                     9.0                 28.0  \n",
       "2                     0.0                  0.0  \n",
       "3                     0.0                  0.0  \n",
       "4                    17.0                  0.0  \n",
       "\n",
       "[5 rows x 24 columns]"
      ]
     },
     "execution_count": 68,
     "metadata": {},
     "output_type": "execute_result"
    }
   ],
   "source": [
    "tf_test.head()"
   ]
  },
  {
   "cell_type": "code",
   "execution_count": 69,
   "id": "b8185a43",
   "metadata": {},
   "outputs": [
    {
     "data": {
      "text/plain": [
       "(35602, 24)"
      ]
     },
     "execution_count": 69,
     "metadata": {},
     "output_type": "execute_result"
    }
   ],
   "source": [
    "tf_test.shape"
   ]
  },
  {
   "cell_type": "code",
   "execution_count": 70,
   "id": "f6fb4b98",
   "metadata": {},
   "outputs": [
    {
     "name": "stdout",
     "output_type": "stream",
     "text": [
      "<class 'pandas.core.frame.DataFrame'>\n",
      "RangeIndex: 35602 entries, 0 to 35601\n",
      "Data columns (total 24 columns):\n",
      " #   Column                   Non-Null Count  Dtype  \n",
      "---  ------                   --------------  -----  \n",
      " 0   ID                       35602 non-null  int64  \n",
      " 1   Seat_comfort             35580 non-null  object \n",
      " 2   Seat_Class               35602 non-null  object \n",
      " 3   Arrival_time_convenient  32277 non-null  object \n",
      " 4   Catering                 32245 non-null  object \n",
      " 5   Platform_location        35590 non-null  object \n",
      " 6   Onboardwifi_service      35590 non-null  object \n",
      " 7   Onboard_entertainment    35594 non-null  object \n",
      " 8   Online_support           35576 non-null  object \n",
      " 9   Onlinebooking_Ease       35584 non-null  object \n",
      " 10  Onboard_service          32730 non-null  object \n",
      " 11  Leg_room                 35577 non-null  object \n",
      " 12  Baggage_handling         35562 non-null  object \n",
      " 13  Checkin_service          35580 non-null  object \n",
      " 14  Cleanliness              35600 non-null  object \n",
      " 15  Online_boarding          35600 non-null  object \n",
      " 16  Gender                   35572 non-null  object \n",
      " 17  CustomerType             32219 non-null  object \n",
      " 18  Age                      35591 non-null  float64\n",
      " 19  TypeTravel               32154 non-null  object \n",
      " 20  Travel_Class             35602 non-null  object \n",
      " 21  Travel_Distance          35602 non-null  int64  \n",
      " 22  DepartureDelay_in_Mins   35573 non-null  float64\n",
      " 23  ArrivalDelay_in_Mins     35479 non-null  float64\n",
      "dtypes: float64(3), int64(2), object(19)\n",
      "memory usage: 6.5+ MB\n"
     ]
    }
   ],
   "source": [
    "tf_test.info()"
   ]
  },
  {
   "cell_type": "code",
   "execution_count": 71,
   "id": "8df2bce2",
   "metadata": {},
   "outputs": [],
   "source": [
    "tf_test.drop('ID', axis=1, inplace=True)"
   ]
  },
  {
   "cell_type": "code",
   "execution_count": 72,
   "id": "853f63ba",
   "metadata": {},
   "outputs": [
    {
     "name": "stdout",
     "output_type": "stream",
     "text": [
      "<class 'pandas.core.frame.DataFrame'>\n",
      "RangeIndex: 35602 entries, 0 to 35601\n",
      "Data columns (total 23 columns):\n",
      " #   Column                   Non-Null Count  Dtype  \n",
      "---  ------                   --------------  -----  \n",
      " 0   Seat_comfort             35580 non-null  object \n",
      " 1   Seat_Class               35602 non-null  object \n",
      " 2   Arrival_time_convenient  32277 non-null  object \n",
      " 3   Catering                 32245 non-null  object \n",
      " 4   Platform_location        35590 non-null  object \n",
      " 5   Onboardwifi_service      35590 non-null  object \n",
      " 6   Onboard_entertainment    35594 non-null  object \n",
      " 7   Online_support           35576 non-null  object \n",
      " 8   Onlinebooking_Ease       35584 non-null  object \n",
      " 9   Onboard_service          32730 non-null  object \n",
      " 10  Leg_room                 35577 non-null  object \n",
      " 11  Baggage_handling         35562 non-null  object \n",
      " 12  Checkin_service          35580 non-null  object \n",
      " 13  Cleanliness              35600 non-null  object \n",
      " 14  Online_boarding          35600 non-null  object \n",
      " 15  Gender                   35572 non-null  object \n",
      " 16  CustomerType             32219 non-null  object \n",
      " 17  Age                      35591 non-null  float64\n",
      " 18  TypeTravel               32154 non-null  object \n",
      " 19  Travel_Class             35602 non-null  object \n",
      " 20  Travel_Distance          35602 non-null  int64  \n",
      " 21  DepartureDelay_in_Mins   35573 non-null  float64\n",
      " 22  ArrivalDelay_in_Mins     35479 non-null  float64\n",
      "dtypes: float64(3), int64(1), object(19)\n",
      "memory usage: 6.2+ MB\n"
     ]
    }
   ],
   "source": [
    "tf_test.info()"
   ]
  },
  {
   "cell_type": "code",
   "execution_count": 73,
   "id": "a7a92de6",
   "metadata": {},
   "outputs": [
    {
     "data": {
      "text/plain": [
       "Seat_comfort                 22\n",
       "Seat_Class                    0\n",
       "Arrival_time_convenient    3325\n",
       "Catering                   3357\n",
       "Platform_location            12\n",
       "Onboardwifi_service          12\n",
       "Onboard_entertainment         8\n",
       "Online_support               26\n",
       "Onlinebooking_Ease           18\n",
       "Onboard_service            2872\n",
       "Leg_room                     25\n",
       "Baggage_handling             40\n",
       "Checkin_service              22\n",
       "Cleanliness                   2\n",
       "Online_boarding               2\n",
       "Gender                       30\n",
       "CustomerType               3383\n",
       "Age                          11\n",
       "TypeTravel                 3448\n",
       "Travel_Class                  0\n",
       "Travel_Distance               0\n",
       "DepartureDelay_in_Mins       29\n",
       "ArrivalDelay_in_Mins        123\n",
       "dtype: int64"
      ]
     },
     "execution_count": 73,
     "metadata": {},
     "output_type": "execute_result"
    }
   ],
   "source": [
    "tf_test.isnull().sum()"
   ]
  },
  {
   "cell_type": "code",
   "execution_count": 74,
   "id": "a1a0c89a",
   "metadata": {},
   "outputs": [],
   "source": [
    "#imputing the missing values\n",
    "for i in tf_test.columns:\n",
    "    if (tf_test[i].dtype=='object'):\n",
    "        tf_test[i].fillna(tf_test[i].mode()[0], inplace=True)\n",
    "    elif (tf_test[i].dtype=='float64' or tf_test[i].dtype=='int64'):\n",
    "        tf_test[i].fillna(tf_test[i].mean(), inplace=True)"
   ]
  },
  {
   "cell_type": "code",
   "execution_count": 75,
   "id": "ee97e402",
   "metadata": {},
   "outputs": [
    {
     "name": "stdout",
     "output_type": "stream",
     "text": [
      "<class 'pandas.core.frame.DataFrame'>\n",
      "RangeIndex: 35602 entries, 0 to 35601\n",
      "Data columns (total 23 columns):\n",
      " #   Column                   Non-Null Count  Dtype  \n",
      "---  ------                   --------------  -----  \n",
      " 0   Seat_comfort             35602 non-null  object \n",
      " 1   Seat_Class               35602 non-null  object \n",
      " 2   Arrival_time_convenient  35602 non-null  object \n",
      " 3   Catering                 35602 non-null  object \n",
      " 4   Platform_location        35602 non-null  object \n",
      " 5   Onboardwifi_service      35602 non-null  object \n",
      " 6   Onboard_entertainment    35602 non-null  object \n",
      " 7   Online_support           35602 non-null  object \n",
      " 8   Onlinebooking_Ease       35602 non-null  object \n",
      " 9   Onboard_service          35602 non-null  object \n",
      " 10  Leg_room                 35602 non-null  object \n",
      " 11  Baggage_handling         35602 non-null  object \n",
      " 12  Checkin_service          35602 non-null  object \n",
      " 13  Cleanliness              35602 non-null  object \n",
      " 14  Online_boarding          35602 non-null  object \n",
      " 15  Gender                   35602 non-null  object \n",
      " 16  CustomerType             35602 non-null  object \n",
      " 17  Age                      35602 non-null  float64\n",
      " 18  TypeTravel               35602 non-null  object \n",
      " 19  Travel_Class             35602 non-null  object \n",
      " 20  Travel_Distance          35602 non-null  int64  \n",
      " 21  DepartureDelay_in_Mins   35602 non-null  float64\n",
      " 22  ArrivalDelay_in_Mins     35602 non-null  float64\n",
      "dtypes: float64(3), int64(1), object(19)\n",
      "memory usage: 6.2+ MB\n"
     ]
    }
   ],
   "source": [
    "tf_test.info()"
   ]
  },
  {
   "cell_type": "code",
   "execution_count": 76,
   "id": "027c7af4",
   "metadata": {},
   "outputs": [
    {
     "data": {
      "text/plain": [
       "good                13423\n",
       "excellent            9900\n",
       "acceptable           6534\n",
       "need improvement     3607\n",
       "poor                 2138\n",
       "Name: Cleanliness, dtype: int64"
      ]
     },
     "execution_count": 76,
     "metadata": {},
     "output_type": "execute_result"
    }
   ],
   "source": [
    "tf_test[\"Cleanliness\"].value_counts()"
   ]
  },
  {
   "cell_type": "code",
   "execution_count": 77,
   "id": "f74cef52",
   "metadata": {},
   "outputs": [
    {
     "data": {
      "text/plain": [
       "good                10004\n",
       "acceptable           9740\n",
       "excellent            7375\n",
       "need improvement     4262\n",
       "poor                 4221\n",
       "Name: Checkin_service, dtype: int64"
      ]
     },
     "execution_count": 77,
     "metadata": {},
     "output_type": "execute_result"
    }
   ],
   "source": [
    "tf_test[\"Checkin_service\"].value_counts()"
   ]
  },
  {
   "cell_type": "code",
   "execution_count": 78,
   "id": "4fff8319",
   "metadata": {},
   "outputs": [
    {
     "data": {
      "text/plain": [
       "good                13094\n",
       "excellent            7941\n",
       "acceptable           6770\n",
       "need improvement     4385\n",
       "poor                 3412\n",
       "Name: Onboard_service, dtype: int64"
      ]
     },
     "execution_count": 78,
     "metadata": {},
     "output_type": "execute_result"
    }
   ],
   "source": [
    "tf_test[\"Onboard_service\"].value_counts()"
   ]
  },
  {
   "cell_type": "code",
   "execution_count": 79,
   "id": "0bb84092",
   "metadata": {},
   "outputs": [
    {
     "data": {
      "text/plain": [
       "good                11513\n",
       "excellent            9665\n",
       "acceptable           5902\n",
       "need improvement     4755\n",
       "poor                 3767\n",
       "Name: Online_support, dtype: int64"
      ]
     },
     "execution_count": 79,
     "metadata": {},
     "output_type": "execute_result"
    }
   ],
   "source": [
    "tf_test[\"Online_support\"].value_counts()"
   ]
  },
  {
   "cell_type": "code",
   "execution_count": 80,
   "id": "04542c85",
   "metadata": {},
   "outputs": [
    {
     "data": {
      "text/plain": [
       "manageable          9376\n",
       "Convinient          8178\n",
       "need improvement    6703\n",
       "Inconvinient        6134\n",
       "very convinient     5211\n",
       "Name: Platform_location, dtype: int64"
      ]
     },
     "execution_count": 80,
     "metadata": {},
     "output_type": "execute_result"
    }
   ],
   "source": [
    "tf_test[\"Platform_location\"].value_counts()"
   ]
  },
  {
   "cell_type": "code",
   "execution_count": 81,
   "id": "90a986a8",
   "metadata": {},
   "outputs": [],
   "source": [
    "#creating a list of categorical variables\n",
    "categoricals1 = []\n",
    "for col, value in tf_test.iteritems():\n",
    "    if value.dtype == 'object':\n",
    "        categoricals1.append(col)"
   ]
  },
  {
   "cell_type": "code",
   "execution_count": 82,
   "id": "7edd616c",
   "metadata": {},
   "outputs": [
    {
     "data": {
      "text/plain": [
       "['Seat_comfort',\n",
       " 'Seat_Class',\n",
       " 'Arrival_time_convenient',\n",
       " 'Catering',\n",
       " 'Platform_location',\n",
       " 'Onboardwifi_service',\n",
       " 'Onboard_entertainment',\n",
       " 'Online_support',\n",
       " 'Onlinebooking_Ease',\n",
       " 'Onboard_service',\n",
       " 'Leg_room',\n",
       " 'Baggage_handling',\n",
       " 'Checkin_service',\n",
       " 'Cleanliness',\n",
       " 'Online_boarding',\n",
       " 'Gender',\n",
       " 'CustomerType',\n",
       " 'TypeTravel',\n",
       " 'Travel_Class']"
      ]
     },
     "execution_count": 82,
     "metadata": {},
     "output_type": "execute_result"
    }
   ],
   "source": [
    "categoricals1"
   ]
  },
  {
   "cell_type": "code",
   "execution_count": 83,
   "id": "7a267649",
   "metadata": {},
   "outputs": [],
   "source": [
    "numericals1 = tf_test.columns.difference(categoricals1)\n",
    "tf_test_num = tf_test[numericals1]"
   ]
  },
  {
   "cell_type": "code",
   "execution_count": 84,
   "id": "24d8e29d",
   "metadata": {},
   "outputs": [
    {
     "data": {
      "image/png": "[encoded data removed]",
      "text/plain": [
       "<Figure size 720x720 with 1 Axes>"
      ]
     },
     "metadata": {
      "needs_background": "light"
     },
     "output_type": "display_data"
    }
   ],
   "source": [
    "# construct box plot for continuous variables\n",
    "plt.figure(figsize=(10,10))\n",
    "tf_test_num.boxplot(vert=0)\n",
    "plt.show()"
   ]
  },
  {
   "cell_type": "code",
   "execution_count": 85,
   "id": "131eca7c",
   "metadata": {},
   "outputs": [],
   "source": [
    "for column in tf_test_num.columns:\n",
    "    lr,ur=remove_outlier(tf_test_num[column])\n",
    "    tf_test_num[column]=np.where(tf_test_num[column]>ur,ur,tf_test_num[column])\n",
    "    tf_test_num[column]=np.where(tf_test_num[column]<lr,lr,tf_test_num[column])"
   ]
  },
  {
   "cell_type": "code",
   "execution_count": 86,
   "id": "9d4af605",
   "metadata": {},
   "outputs": [
    {
     "data": {
      "image/png": "[encoded data removed]",
      "text/plain": [
       "<Figure size 720x720 with 1 Axes>"
      ]
     },
     "metadata": {
      "needs_background": "light"
     },
     "output_type": "display_data"
    }
   ],
   "source": [
    "plt.figure(figsize=(10,10))\n",
    "tf_test_num.boxplot(vert=0)\n",
    "plt.show()"
   ]
  },
  {
   "cell_type": "code",
   "execution_count": 87,
   "id": "6c4ec4c0",
   "metadata": {},
   "outputs": [],
   "source": [
    "tf_test_num= tf_test_num.apply(lambda x:(x-x.min()) / (x.max()-x.min()))"
   ]
  },
  {
   "cell_type": "code",
   "execution_count": 88,
   "id": "eb10eee1",
   "metadata": {},
   "outputs": [
    {
     "data": {
      "image/png": "[encoded data removed]",
      "text/plain": [
       "<Figure size 720x720 with 1 Axes>"
      ]
     },
     "metadata": {
      "needs_background": "light"
     },
     "output_type": "display_data"
    }
   ],
   "source": [
    "plt.figure(figsize=(10,10))\n",
    "tf_test_num.boxplot(vert=0)\n",
    "plt.show()"
   ]
  },
  {
   "cell_type": "code",
   "execution_count": 89,
   "id": "9e5bf910",
   "metadata": {},
   "outputs": [],
   "source": [
    "tf_test_cat = tf_test[categoricals1]"
   ]
  },
  {
   "cell_type": "code",
   "execution_count": 90,
   "id": "8b94da5b",
   "metadata": {},
   "outputs": [
    {
     "data": {
      "text/plain": [
       "(35602, 19)"
      ]
     },
     "execution_count": 90,
     "metadata": {},
     "output_type": "execute_result"
    }
   ],
   "source": [
    "tf_test_cat.shape"
   ]
  },
  {
   "cell_type": "code",
   "execution_count": 91,
   "id": "dcbfb9f7",
   "metadata": {},
   "outputs": [],
   "source": [
    "tf_test_cat = pd.get_dummies(tf_test_cat)"
   ]
  },
  {
   "cell_type": "code",
   "execution_count": 92,
   "id": "911fbbda",
   "metadata": {},
   "outputs": [
    {
     "data": {
      "text/plain": [
       "(35602, 88)"
      ]
     },
     "execution_count": 92,
     "metadata": {},
     "output_type": "execute_result"
    }
   ],
   "source": [
    "tf_test_cat.shape"
   ]
  },
  {
   "cell_type": "code",
   "execution_count": 93,
   "id": "b0f9fa61",
   "metadata": {},
   "outputs": [
    {
     "name": "stdout",
     "output_type": "stream",
     "text": [
      "<class 'pandas.core.frame.DataFrame'>\n",
      "RangeIndex: 35602 entries, 0 to 35601\n",
      "Data columns (total 88 columns):\n",
      " #   Column                                    Non-Null Count  Dtype\n",
      "---  ------                                    --------------  -----\n",
      " 0   Seat_comfort_acceptable                   35602 non-null  uint8\n",
      " 1   Seat_comfort_excellent                    35602 non-null  uint8\n",
      " 2   Seat_comfort_extremely poor               35602 non-null  uint8\n",
      " 3   Seat_comfort_good                         35602 non-null  uint8\n",
      " 4   Seat_comfort_need improvement             35602 non-null  uint8\n",
      " 5   Seat_comfort_poor                         35602 non-null  uint8\n",
      " 6   Seat_Class_Green Car                      35602 non-null  uint8\n",
      " 7   Seat_Class_Ordinary                       35602 non-null  uint8\n",
      " 8   Arrival_time_convenient_acceptable        35602 non-null  uint8\n",
      " 9   Arrival_time_convenient_excellent         35602 non-null  uint8\n",
      " 10  Arrival_time_convenient_extremely poor    35602 non-null  uint8\n",
      " 11  Arrival_time_convenient_good              35602 non-null  uint8\n",
      " 12  Arrival_time_convenient_need improvement  35602 non-null  uint8\n",
      " 13  Arrival_time_convenient_poor              35602 non-null  uint8\n",
      " 14  Catering_acceptable                       35602 non-null  uint8\n",
      " 15  Catering_excellent                        35602 non-null  uint8\n",
      " 16  Catering_extremely poor                   35602 non-null  uint8\n",
      " 17  Catering_good                             35602 non-null  uint8\n",
      " 18  Catering_need improvement                 35602 non-null  uint8\n",
      " 19  Catering_poor                             35602 non-null  uint8\n",
      " 20  Platform_location_Convinient              35602 non-null  uint8\n",
      " 21  Platform_location_Inconvinient            35602 non-null  uint8\n",
      " 22  Platform_location_manageable              35602 non-null  uint8\n",
      " 23  Platform_location_need improvement        35602 non-null  uint8\n",
      " 24  Platform_location_very convinient         35602 non-null  uint8\n",
      " 25  Onboardwifi_service_acceptable            35602 non-null  uint8\n",
      " 26  Onboardwifi_service_excellent             35602 non-null  uint8\n",
      " 27  Onboardwifi_service_extremely poor        35602 non-null  uint8\n",
      " 28  Onboardwifi_service_good                  35602 non-null  uint8\n",
      " 29  Onboardwifi_service_need improvement      35602 non-null  uint8\n",
      " 30  Onboardwifi_service_poor                  35602 non-null  uint8\n",
      " 31  Onboard_entertainment_acceptable          35602 non-null  uint8\n",
      " 32  Onboard_entertainment_excellent           35602 non-null  uint8\n",
      " 33  Onboard_entertainment_extremely poor      35602 non-null  uint8\n",
      " 34  Onboard_entertainment_good                35602 non-null  uint8\n",
      " 35  Onboard_entertainment_need improvement    35602 non-null  uint8\n",
      " 36  Onboard_entertainment_poor                35602 non-null  uint8\n",
      " 37  Online_support_acceptable                 35602 non-null  uint8\n",
      " 38  Online_support_excellent                  35602 non-null  uint8\n",
      " 39  Online_support_good                       35602 non-null  uint8\n",
      " 40  Online_support_need improvement           35602 non-null  uint8\n",
      " 41  Online_support_poor                       35602 non-null  uint8\n",
      " 42  Onlinebooking_Ease_acceptable             35602 non-null  uint8\n",
      " 43  Onlinebooking_Ease_excellent              35602 non-null  uint8\n",
      " 44  Onlinebooking_Ease_extremely poor         35602 non-null  uint8\n",
      " 45  Onlinebooking_Ease_good                   35602 non-null  uint8\n",
      " 46  Onlinebooking_Ease_need improvement       35602 non-null  uint8\n",
      " 47  Onlinebooking_Ease_poor                   35602 non-null  uint8\n",
      " 48  Onboard_service_acceptable                35602 non-null  uint8\n",
      " 49  Onboard_service_excellent                 35602 non-null  uint8\n",
      " 50  Onboard_service_good                      35602 non-null  uint8\n",
      " 51  Onboard_service_need improvement          35602 non-null  uint8\n",
      " 52  Onboard_service_poor                      35602 non-null  uint8\n",
      " 53  Leg_room_acceptable                       35602 non-null  uint8\n",
      " 54  Leg_room_excellent                        35602 non-null  uint8\n",
      " 55  Leg_room_extremely poor                   35602 non-null  uint8\n",
      " 56  Leg_room_good                             35602 non-null  uint8\n",
      " 57  Leg_room_need improvement                 35602 non-null  uint8\n",
      " 58  Leg_room_poor                             35602 non-null  uint8\n",
      " 59  Baggage_handling_acceptable               35602 non-null  uint8\n",
      " 60  Baggage_handling_excellent                35602 non-null  uint8\n",
      " 61  Baggage_handling_good                     35602 non-null  uint8\n",
      " 62  Baggage_handling_need improvement         35602 non-null  uint8\n",
      " 63  Baggage_handling_poor                     35602 non-null  uint8\n",
      " 64  Checkin_service_acceptable                35602 non-null  uint8\n",
      " 65  Checkin_service_excellent                 35602 non-null  uint8\n",
      " 66  Checkin_service_good                      35602 non-null  uint8\n",
      " 67  Checkin_service_need improvement          35602 non-null  uint8\n",
      " 68  Checkin_service_poor                      35602 non-null  uint8\n",
      " 69  Cleanliness_acceptable                    35602 non-null  uint8\n",
      " 70  Cleanliness_excellent                     35602 non-null  uint8\n",
      " 71  Cleanliness_good                          35602 non-null  uint8\n",
      " 72  Cleanliness_need improvement              35602 non-null  uint8\n",
      " 73  Cleanliness_poor                          35602 non-null  uint8\n",
      " 74  Online_boarding_acceptable                35602 non-null  uint8\n",
      " 75  Online_boarding_excellent                 35602 non-null  uint8\n",
      " 76  Online_boarding_extremely poor            35602 non-null  uint8\n",
      " 77  Online_boarding_good                      35602 non-null  uint8\n",
      " 78  Online_boarding_need improvement          35602 non-null  uint8\n",
      " 79  Online_boarding_poor                      35602 non-null  uint8\n",
      " 80  Gender_Female                             35602 non-null  uint8\n",
      " 81  Gender_Male                               35602 non-null  uint8\n",
      " 82  CustomerType_Loyal Customer               35602 non-null  uint8\n",
      " 83  CustomerType_disloyal Customer            35602 non-null  uint8\n",
      " 84  TypeTravel_Business travel                35602 non-null  uint8\n",
      " 85  TypeTravel_Personal Travel                35602 non-null  uint8\n",
      " 86  Travel_Class_Business                     35602 non-null  uint8\n",
      " 87  Travel_Class_Eco                          35602 non-null  uint8\n",
      "dtypes: uint8(88)\n",
      "memory usage: 3.0 MB\n"
     ]
    }
   ],
   "source": [
    "tf_test_cat.info()"
   ]
  },
  {
   "cell_type": "code",
   "execution_count": 94,
   "id": "bc6773b8",
   "metadata": {},
   "outputs": [
    {
     "data": {
      "text/html": [
       "<div>\n",
       "<style scoped>\n",
       "    .dataframe tbody tr th:only-of-type {\n",
       "        vertical-align: middle;\n",
       "    }\n",
       "\n",
       "    .dataframe tbody tr th {\n",
       "        vertical-align: top;\n",
       "    }\n",
       "\n",
       "    .dataframe thead th {\n",
       "        text-align: right;\n",
       "    }\n",
       "</style>\n",
       "<table border=\"1\" class=\"dataframe\">\n",
       "  <thead>\n",
       "    <tr style=\"text-align: right;\">\n",
       "      <th></th>\n",
       "      <th>Seat_comfort_acceptable</th>\n",
       "      <th>Seat_comfort_excellent</th>\n",
       "      <th>Seat_comfort_extremely poor</th>\n",
       "      <th>Seat_comfort_good</th>\n",
       "      <th>Seat_comfort_need improvement</th>\n",
       "      <th>Seat_comfort_poor</th>\n",
       "      <th>Seat_Class_Green Car</th>\n",
       "      <th>Seat_Class_Ordinary</th>\n",
       "      <th>Arrival_time_convenient_acceptable</th>\n",
       "      <th>Arrival_time_convenient_excellent</th>\n",
       "      <th>...</th>\n",
       "      <th>Online_boarding_need improvement</th>\n",
       "      <th>Online_boarding_poor</th>\n",
       "      <th>Gender_Female</th>\n",
       "      <th>Gender_Male</th>\n",
       "      <th>CustomerType_Loyal Customer</th>\n",
       "      <th>CustomerType_disloyal Customer</th>\n",
       "      <th>TypeTravel_Business travel</th>\n",
       "      <th>TypeTravel_Personal Travel</th>\n",
       "      <th>Travel_Class_Business</th>\n",
       "      <th>Travel_Class_Eco</th>\n",
       "    </tr>\n",
       "  </thead>\n",
       "  <tbody>\n",
       "    <tr>\n",
       "      <th>0</th>\n",
       "      <td>1</td>\n",
       "      <td>0</td>\n",
       "      <td>0</td>\n",
       "      <td>0</td>\n",
       "      <td>0</td>\n",
       "      <td>0</td>\n",
       "      <td>1</td>\n",
       "      <td>0</td>\n",
       "      <td>1</td>\n",
       "      <td>0</td>\n",
       "      <td>...</td>\n",
       "      <td>0</td>\n",
       "      <td>1</td>\n",
       "      <td>1</td>\n",
       "      <td>0</td>\n",
       "      <td>1</td>\n",
       "      <td>0</td>\n",
       "      <td>1</td>\n",
       "      <td>0</td>\n",
       "      <td>1</td>\n",
       "      <td>0</td>\n",
       "    </tr>\n",
       "    <tr>\n",
       "      <th>1</th>\n",
       "      <td>0</td>\n",
       "      <td>0</td>\n",
       "      <td>1</td>\n",
       "      <td>0</td>\n",
       "      <td>0</td>\n",
       "      <td>0</td>\n",
       "      <td>0</td>\n",
       "      <td>1</td>\n",
       "      <td>0</td>\n",
       "      <td>0</td>\n",
       "      <td>...</td>\n",
       "      <td>0</td>\n",
       "      <td>0</td>\n",
       "      <td>1</td>\n",
       "      <td>0</td>\n",
       "      <td>0</td>\n",
       "      <td>1</td>\n",
       "      <td>1</td>\n",
       "      <td>0</td>\n",
       "      <td>1</td>\n",
       "      <td>0</td>\n",
       "    </tr>\n",
       "    <tr>\n",
       "      <th>2</th>\n",
       "      <td>0</td>\n",
       "      <td>1</td>\n",
       "      <td>0</td>\n",
       "      <td>0</td>\n",
       "      <td>0</td>\n",
       "      <td>0</td>\n",
       "      <td>0</td>\n",
       "      <td>1</td>\n",
       "      <td>0</td>\n",
       "      <td>1</td>\n",
       "      <td>...</td>\n",
       "      <td>0</td>\n",
       "      <td>0</td>\n",
       "      <td>0</td>\n",
       "      <td>1</td>\n",
       "      <td>1</td>\n",
       "      <td>0</td>\n",
       "      <td>1</td>\n",
       "      <td>0</td>\n",
       "      <td>1</td>\n",
       "      <td>0</td>\n",
       "    </tr>\n",
       "    <tr>\n",
       "      <th>3</th>\n",
       "      <td>1</td>\n",
       "      <td>0</td>\n",
       "      <td>0</td>\n",
       "      <td>0</td>\n",
       "      <td>0</td>\n",
       "      <td>0</td>\n",
       "      <td>1</td>\n",
       "      <td>0</td>\n",
       "      <td>0</td>\n",
       "      <td>1</td>\n",
       "      <td>...</td>\n",
       "      <td>0</td>\n",
       "      <td>1</td>\n",
       "      <td>1</td>\n",
       "      <td>0</td>\n",
       "      <td>1</td>\n",
       "      <td>0</td>\n",
       "      <td>0</td>\n",
       "      <td>1</td>\n",
       "      <td>0</td>\n",
       "      <td>1</td>\n",
       "    </tr>\n",
       "    <tr>\n",
       "      <th>4</th>\n",
       "      <td>0</td>\n",
       "      <td>1</td>\n",
       "      <td>0</td>\n",
       "      <td>0</td>\n",
       "      <td>0</td>\n",
       "      <td>0</td>\n",
       "      <td>0</td>\n",
       "      <td>1</td>\n",
       "      <td>0</td>\n",
       "      <td>0</td>\n",
       "      <td>...</td>\n",
       "      <td>0</td>\n",
       "      <td>0</td>\n",
       "      <td>0</td>\n",
       "      <td>1</td>\n",
       "      <td>0</td>\n",
       "      <td>1</td>\n",
       "      <td>1</td>\n",
       "      <td>0</td>\n",
       "      <td>1</td>\n",
       "      <td>0</td>\n",
       "    </tr>\n",
       "  </tbody>\n",
       "</table>\n",
       "<p>5 rows × 88 columns</p>\n",
       "</div>"
      ],
      "text/plain": [
       "   Seat_comfort_acceptable  Seat_comfort_excellent  \\\n",
       "0                        1                       0   \n",
       "1                        0                       0   \n",
       "2                        0                       1   \n",
       "3                        1                       0   \n",
       "4                        0                       1   \n",
       "\n",
       "   Seat_comfort_extremely poor  Seat_comfort_good  \\\n",
       "0                            0                  0   \n",
       "1                            1                  0   \n",
       "2                            0                  0   \n",
       "3                            0                  0   \n",
       "4                            0                  0   \n",
       "\n",
       "   Seat_comfort_need improvement  Seat_comfort_poor  Seat_Class_Green Car  \\\n",
       "0                              0                  0                     1   \n",
       "1                              0                  0                     0   \n",
       "2                              0                  0                     0   \n",
       "3                              0                  0                     1   \n",
       "4                              0                  0                     0   \n",
       "\n",
       "   Seat_Class_Ordinary  Arrival_time_convenient_acceptable  \\\n",
       "0                    0                                   1   \n",
       "1                    1                                   0   \n",
       "2                    1                                   0   \n",
       "3                    0                                   0   \n",
       "4                    1                                   0   \n",
       "\n",
       "   Arrival_time_convenient_excellent  ...  Online_boarding_need improvement  \\\n",
       "0                                  0  ...                                 0   \n",
       "1                                  0  ...                                 0   \n",
       "2                                  1  ...                                 0   \n",
       "3                                  1  ...                                 0   \n",
       "4                                  0  ...                                 0   \n",
       "\n",
       "   Online_boarding_poor  Gender_Female  Gender_Male  \\\n",
       "0                     1              1            0   \n",
       "1                     0              1            0   \n",
       "2                     0              0            1   \n",
       "3                     1              1            0   \n",
       "4                     0              0            1   \n",
       "\n",
       "   CustomerType_Loyal Customer  CustomerType_disloyal Customer  \\\n",
       "0                            1                               0   \n",
       "1                            0                               1   \n",
       "2                            1                               0   \n",
       "3                            1                               0   \n",
       "4                            0                               1   \n",
       "\n",
       "   TypeTravel_Business travel  TypeTravel_Personal Travel  \\\n",
       "0                           1                           0   \n",
       "1                           1                           0   \n",
       "2                           1                           0   \n",
       "3                           0                           1   \n",
       "4                           1                           0   \n",
       "\n",
       "   Travel_Class_Business  Travel_Class_Eco  \n",
       "0                      1                 0  \n",
       "1                      1                 0  \n",
       "2                      1                 0  \n",
       "3                      0                 1  \n",
       "4                      1                 0  \n",
       "\n",
       "[5 rows x 88 columns]"
      ]
     },
     "execution_count": 94,
     "metadata": {},
     "output_type": "execute_result"
    }
   ],
   "source": [
    "tf_test_cat.head()"
   ]
  },
  {
   "cell_type": "code",
   "execution_count": 95,
   "id": "13d352ab",
   "metadata": {},
   "outputs": [],
   "source": [
    "tf_test_final = pd.concat([tf_test_num, tf_test_cat], axis=1)"
   ]
  },
  {
   "cell_type": "code",
   "execution_count": 96,
   "id": "1cc7d80e",
   "metadata": {},
   "outputs": [],
   "source": [
    "x_test=tf_test_final"
   ]
  },
  {
   "cell_type": "code",
   "execution_count": 97,
   "id": "6625aae9",
   "metadata": {},
   "outputs": [
    {
     "data": {
      "text/plain": [
       "(35602, 92)"
      ]
     },
     "execution_count": 97,
     "metadata": {},
     "output_type": "execute_result"
    }
   ],
   "source": [
    "x_test.shape"
   ]
  },
  {
   "cell_type": "markdown",
   "id": "83c60ddd",
   "metadata": {},
   "source": [
    "### Model Building"
   ]
  },
  {
   "cell_type": "markdown",
   "id": "19b5a962",
   "metadata": {},
   "source": [
    "### 1.Random Forest"
   ]
  },
  {
   "cell_type": "code",
   "execution_count": 117,
   "id": "d593ddc3",
   "metadata": {},
   "outputs": [
    {
     "data": {
      "text/html": [
       "<style>#sk-container-id-4 {color: black;background-color: white;}#sk-container-id-4 pre{padding: 0;}#sk-container-id-4 div.sk-toggleable {background-color: white;}#sk-container-id-4 label.sk-toggleable__label {cursor: pointer;display: block;width: 100%;margin-bottom: 0;padding: 0.3em;box-sizing: border-box;text-align: center;}#sk-container-id-4 label.sk-toggleable__label-arrow:before {content: \"▸\";float: left;margin-right: 0.25em;color: #696969;}#sk-container-id-4 label.sk-toggleable__label-arrow:hover:before {color: black;}#sk-container-id-4 div.sk-estimator:hover label.sk-toggleable__label-arrow:before {color: black;}#sk-container-id-4 div.sk-toggleable__content {max-height: 0;max-width: 0;overflow: hidden;text-align: left;background-color: #f0f8ff;}#sk-container-id-4 div.sk-toggleable__content pre {margin: 0.2em;color: black;border-radius: 0.25em;background-color: #f0f8ff;}#sk-container-id-4 input.sk-toggleable__control:checked~div.sk-toggleable__content {max-height: 200px;max-width: 100%;overflow: auto;}#sk-container-id-4 input.sk-toggleable__control:checked~label.sk-toggleable__label-arrow:before {content: \"▾\";}#sk-container-id-4 div.sk-estimator input.sk-toggleable__control:checked~label.sk-toggleable__label {background-color: #d4ebff;}#sk-container-id-4 div.sk-label input.sk-toggleable__control:checked~label.sk-toggleable__label {background-color: #d4ebff;}#sk-container-id-4 input.sk-hidden--visually {border: 0;clip: rect(1px 1px 1px 1px);clip: rect(1px, 1px, 1px, 1px);height: 1px;margin: -1px;overflow: hidden;padding: 0;position: absolute;width: 1px;}#sk-container-id-4 div.sk-estimator {font-family: monospace;background-color: #f0f8ff;border: 1px dotted black;border-radius: 0.25em;box-sizing: border-box;margin-bottom: 0.5em;}#sk-container-id-4 div.sk-estimator:hover {background-color: #d4ebff;}#sk-container-id-4 div.sk-parallel-item::after {content: \"\";width: 100%;border-bottom: 1px solid gray;flex-grow: 1;}#sk-container-id-4 div.sk-label:hover label.sk-toggleable__label {background-color: #d4ebff;}#sk-container-id-4 div.sk-serial::before {content: \"\";position: absolute;border-left: 1px solid gray;box-sizing: border-box;top: 0;bottom: 0;left: 50%;z-index: 0;}#sk-container-id-4 div.sk-serial {display: flex;flex-direction: column;align-items: center;background-color: white;padding-right: 0.2em;padding-left: 0.2em;position: relative;}#sk-container-id-4 div.sk-item {position: relative;z-index: 1;}#sk-container-id-4 div.sk-parallel {display: flex;align-items: stretch;justify-content: center;background-color: white;position: relative;}#sk-container-id-4 div.sk-item::before, #sk-container-id-4 div.sk-parallel-item::before {content: \"\";position: absolute;border-left: 1px solid gray;box-sizing: border-box;top: 0;bottom: 0;left: 50%;z-index: -1;}#sk-container-id-4 div.sk-parallel-item {display: flex;flex-direction: column;z-index: 1;position: relative;background-color: white;}#sk-container-id-4 div.sk-parallel-item:first-child::after {align-self: flex-end;width: 50%;}#sk-container-id-4 div.sk-parallel-item:last-child::after {align-self: flex-start;width: 50%;}#sk-container-id-4 div.sk-parallel-item:only-child::after {width: 0;}#sk-container-id-4 div.sk-dashed-wrapped {border: 1px dashed gray;margin: 0 0.4em 0.5em 0.4em;box-sizing: border-box;padding-bottom: 0.4em;background-color: white;}#sk-container-id-4 div.sk-label label {font-family: monospace;font-weight: bold;display: inline-block;line-height: 1.2em;}#sk-container-id-4 div.sk-label-container {text-align: center;}#sk-container-id-4 div.sk-container {/* jupyter's `normalize.less` sets `[hidden] { display: none; }` but bootstrap.min.css set `[hidden] { display: none !important; }` so we also need the `!important` here to be able to override the default hidden behavior on the sphinx rendered scikit-learn.org. See: https://github.com/scikit-learn/scikit-learn/issues/21755 */display: inline-block !important;position: relative;}#sk-container-id-4 div.sk-text-repr-fallback {display: none;}</style><div id=\"sk-container-id-4\" class=\"sk-top-container\"><div class=\"sk-text-repr-fallback\"><pre>RandomForestClassifier(max_depth=20, max_features=15, n_estimators=300,\n",
       "                       random_state=1)</pre><b>In a Jupyter environment, please rerun this cell to show the HTML representation or trust the notebook. <br />On GitHub, the HTML representation is unable to render, please try loading this page with nbviewer.org.</b></div><div class=\"sk-container\" hidden><div class=\"sk-item\"><div class=\"sk-estimator sk-toggleable\"><input class=\"sk-toggleable__control sk-hidden--visually\" id=\"sk-estimator-id-8\" type=\"checkbox\" checked><label for=\"sk-estimator-id-8\" class=\"sk-toggleable__label sk-toggleable__label-arrow\">RandomForestClassifier</label><div class=\"sk-toggleable__content\"><pre>RandomForestClassifier(max_depth=20, max_features=15, n_estimators=300,\n",
       "                       random_state=1)</pre></div></div></div></div></div>"
      ],
      "text/plain": [
       "RandomForestClassifier(max_depth=20, max_features=15, n_estimators=300,\n",
       "                       random_state=1)"
      ]
     },
     "execution_count": 117,
     "metadata": {},
     "output_type": "execute_result"
    }
   ],
   "source": [
    "from sklearn.ensemble import RandomForestClassifier\n",
    "\n",
    "rf1 = RandomForestClassifier(n_estimators=300, max_depth= 20, max_features= 15, random_state = 1)\n",
    "rf1.fit(x_train, y_train)"
   ]
  },
  {
   "cell_type": "code",
   "execution_count": 100,
   "id": "24534ab1",
   "metadata": {},
   "outputs": [
    {
     "name": "stdout",
     "output_type": "stream",
     "text": [
      "0.999989404422594\n",
      "[[42786     0]\n",
      " [    1 51592]]\n",
      "              precision    recall  f1-score   support\n",
      "\n",
      "           0       1.00      1.00      1.00     42786\n",
      "           1       1.00      1.00      1.00     51593\n",
      "\n",
      "    accuracy                           1.00     94379\n",
      "   macro avg       1.00      1.00      1.00     94379\n",
      "weighted avg       1.00      1.00      1.00     94379\n",
      "\n"
     ]
    }
   ],
   "source": [
    "## Performance Matrix on train data set\n",
    "y_train_predict = rf1.predict(x_train)\n",
    "model_score =rf1.score(x_train, y_train)\n",
    "print(model_score)\n",
    "print(metrics.confusion_matrix(y_train, y_train_predict))\n",
    "print(metrics.classification_report(y_train, y_train_predict))"
   ]
  },
  {
   "cell_type": "markdown",
   "id": "942c00bf",
   "metadata": {},
   "source": [
    "### 2.Random Forest with Grid Search CV"
   ]
  },
  {
   "cell_type": "code",
   "execution_count": 111,
   "id": "ad26230c",
   "metadata": {},
   "outputs": [],
   "source": [
    "from sklearn.model_selection import GridSearchCV #it allows us to give different values for each parameter\n",
    "\n",
    "param_grid = {\n",
    "    'max_depth': [7, 10], #each decision tree will have max 10 levels\n",
    "    'max_features': [4, 8], #total no of features to be used for spliting each node\n",
    "    'min_samples_leaf': [100, 1000], \n",
    "    'min_samples_split': [200, 300],\n",
    "    'n_estimators': [1000, 5000]\n",
    "}\n",
    "\n",
    "RF_model = RandomForestClassifier()\n",
    "\n",
    "grid_search = GridSearchCV(estimator = RF_model, param_grid = param_grid, cv = 3) #cv is cross validation cv is 3 means there will be 32*3 different combinations of parameters\n",
    "\n"
   ]
  },
  {
   "cell_type": "code",
   "execution_count": 112,
   "id": "628e5bf5",
   "metadata": {},
   "outputs": [
    {
     "data": {
      "text/html": [
       "<style>#sk-container-id-3 {color: black;background-color: white;}#sk-container-id-3 pre{padding: 0;}#sk-container-id-3 div.sk-toggleable {background-color: white;}#sk-container-id-3 label.sk-toggleable__label {cursor: pointer;display: block;width: 100%;margin-bottom: 0;padding: 0.3em;box-sizing: border-box;text-align: center;}#sk-container-id-3 label.sk-toggleable__label-arrow:before {content: \"▸\";float: left;margin-right: 0.25em;color: #696969;}#sk-container-id-3 label.sk-toggleable__label-arrow:hover:before {color: black;}#sk-container-id-3 div.sk-estimator:hover label.sk-toggleable__label-arrow:before {color: black;}#sk-container-id-3 div.sk-toggleable__content {max-height: 0;max-width: 0;overflow: hidden;text-align: left;background-color: #f0f8ff;}#sk-container-id-3 div.sk-toggleable__content pre {margin: 0.2em;color: black;border-radius: 0.25em;background-color: #f0f8ff;}#sk-container-id-3 input.sk-toggleable__control:checked~div.sk-toggleable__content {max-height: 200px;max-width: 100%;overflow: auto;}#sk-container-id-3 input.sk-toggleable__control:checked~label.sk-toggleable__label-arrow:before {content: \"▾\";}#sk-container-id-3 div.sk-estimator input.sk-toggleable__control:checked~label.sk-toggleable__label {background-color: #d4ebff;}#sk-container-id-3 div.sk-label input.sk-toggleable__control:checked~label.sk-toggleable__label {background-color: #d4ebff;}#sk-container-id-3 input.sk-hidden--visually {border: 0;clip: rect(1px 1px 1px 1px);clip: rect(1px, 1px, 1px, 1px);height: 1px;margin: -1px;overflow: hidden;padding: 0;position: absolute;width: 1px;}#sk-container-id-3 div.sk-estimator {font-family: monospace;background-color: #f0f8ff;border: 1px dotted black;border-radius: 0.25em;box-sizing: border-box;margin-bottom: 0.5em;}#sk-container-id-3 div.sk-estimator:hover {background-color: #d4ebff;}#sk-container-id-3 div.sk-parallel-item::after {content: \"\";width: 100%;border-bottom: 1px solid gray;flex-grow: 1;}#sk-container-id-3 div.sk-label:hover label.sk-toggleable__label {background-color: #d4ebff;}#sk-container-id-3 div.sk-serial::before {content: \"\";position: absolute;border-left: 1px solid gray;box-sizing: border-box;top: 0;bottom: 0;left: 50%;z-index: 0;}#sk-container-id-3 div.sk-serial {display: flex;flex-direction: column;align-items: center;background-color: white;padding-right: 0.2em;padding-left: 0.2em;position: relative;}#sk-container-id-3 div.sk-item {position: relative;z-index: 1;}#sk-container-id-3 div.sk-parallel {display: flex;align-items: stretch;justify-content: center;background-color: white;position: relative;}#sk-container-id-3 div.sk-item::before, #sk-container-id-3 div.sk-parallel-item::before {content: \"\";position: absolute;border-left: 1px solid gray;box-sizing: border-box;top: 0;bottom: 0;left: 50%;z-index: -1;}#sk-container-id-3 div.sk-parallel-item {display: flex;flex-direction: column;z-index: 1;position: relative;background-color: white;}#sk-container-id-3 div.sk-parallel-item:first-child::after {align-self: flex-end;width: 50%;}#sk-container-id-3 div.sk-parallel-item:last-child::after {align-self: flex-start;width: 50%;}#sk-container-id-3 div.sk-parallel-item:only-child::after {width: 0;}#sk-container-id-3 div.sk-dashed-wrapped {border: 1px dashed gray;margin: 0 0.4em 0.5em 0.4em;box-sizing: border-box;padding-bottom: 0.4em;background-color: white;}#sk-container-id-3 div.sk-label label {font-family: monospace;font-weight: bold;display: inline-block;line-height: 1.2em;}#sk-container-id-3 div.sk-label-container {text-align: center;}#sk-container-id-3 div.sk-container {/* jupyter's `normalize.less` sets `[hidden] { display: none; }` but bootstrap.min.css set `[hidden] { display: none !important; }` so we also need the `!important` here to be able to override the default hidden behavior on the sphinx rendered scikit-learn.org. See: https://github.com/scikit-learn/scikit-learn/issues/21755 */display: inline-block !important;position: relative;}#sk-container-id-3 div.sk-text-repr-fallback {display: none;}</style><div id=\"sk-container-id-3\" class=\"sk-top-container\"><div class=\"sk-text-repr-fallback\"><pre>GridSearchCV(cv=3, estimator=RandomForestClassifier(),\n",
       "             param_grid={&#x27;max_depth&#x27;: [7, 10], &#x27;max_features&#x27;: [4, 8],\n",
       "                         &#x27;min_samples_leaf&#x27;: [100, 1000],\n",
       "                         &#x27;min_samples_split&#x27;: [200, 300],\n",
       "                         &#x27;n_estimators&#x27;: [1000, 5000]})</pre><b>In a Jupyter environment, please rerun this cell to show the HTML representation or trust the notebook. <br />On GitHub, the HTML representation is unable to render, please try loading this page with nbviewer.org.</b></div><div class=\"sk-container\" hidden><div class=\"sk-item sk-dashed-wrapped\"><div class=\"sk-label-container\"><div class=\"sk-label sk-toggleable\"><input class=\"sk-toggleable__control sk-hidden--visually\" id=\"sk-estimator-id-5\" type=\"checkbox\" ><label for=\"sk-estimator-id-5\" class=\"sk-toggleable__label sk-toggleable__label-arrow\">GridSearchCV</label><div class=\"sk-toggleable__content\"><pre>GridSearchCV(cv=3, estimator=RandomForestClassifier(),\n",
       "             param_grid={&#x27;max_depth&#x27;: [7, 10], &#x27;max_features&#x27;: [4, 8],\n",
       "                         &#x27;min_samples_leaf&#x27;: [100, 1000],\n",
       "                         &#x27;min_samples_split&#x27;: [200, 300],\n",
       "                         &#x27;n_estimators&#x27;: [1000, 5000]})</pre></div></div></div><div class=\"sk-parallel\"><div class=\"sk-parallel-item\"><div class=\"sk-item\"><div class=\"sk-label-container\"><div class=\"sk-label sk-toggleable\"><input class=\"sk-toggleable__control sk-hidden--visually\" id=\"sk-estimator-id-6\" type=\"checkbox\" ><label for=\"sk-estimator-id-6\" class=\"sk-toggleable__label sk-toggleable__label-arrow\">estimator: RandomForestClassifier</label><div class=\"sk-toggleable__content\"><pre>RandomForestClassifier()</pre></div></div></div><div class=\"sk-serial\"><div class=\"sk-item\"><div class=\"sk-estimator sk-toggleable\"><input class=\"sk-toggleable__control sk-hidden--visually\" id=\"sk-estimator-id-7\" type=\"checkbox\" ><label for=\"sk-estimator-id-7\" class=\"sk-toggleable__label sk-toggleable__label-arrow\">RandomForestClassifier</label><div class=\"sk-toggleable__content\"><pre>RandomForestClassifier()</pre></div></div></div></div></div></div></div></div></div></div>"
      ],
      "text/plain": [
       "GridSearchCV(cv=3, estimator=RandomForestClassifier(),\n",
       "             param_grid={'max_depth': [7, 10], 'max_features': [4, 8],\n",
       "                         'min_samples_leaf': [100, 1000],\n",
       "                         'min_samples_split': [200, 300],\n",
       "                         'n_estimators': [1000, 5000]})"
      ]
     },
     "execution_count": 112,
     "metadata": {},
     "output_type": "execute_result"
    }
   ],
   "source": [
    "grid_search.fit(x_train, y_train) #model fitted with the training dataset"
   ]
  },
  {
   "cell_type": "code",
   "execution_count": 113,
   "id": "e3b1123c",
   "metadata": {},
   "outputs": [
    {
     "data": {
      "text/plain": [
       "{'max_depth': 10,\n",
       " 'max_features': 8,\n",
       " 'min_samples_leaf': 100,\n",
       " 'min_samples_split': 200,\n",
       " 'n_estimators': 5000}"
      ]
     },
     "execution_count": 113,
     "metadata": {},
     "output_type": "execute_result"
    }
   ],
   "source": [
    "grid_search.best_params_ #best parameters for the model"
   ]
  },
  {
   "cell_type": "code",
   "execution_count": 114,
   "id": "3b2228b7",
   "metadata": {},
   "outputs": [],
   "source": [
    "best_grid = grid_search.best_estimator_ #the best model that uses the best parameters"
   ]
  },
  {
   "cell_type": "code",
   "execution_count": 108,
   "id": "4f8295d8",
   "metadata": {},
   "outputs": [
    {
     "name": "stdout",
     "output_type": "stream",
     "text": [
      "0.9163161296474851\n",
      "[[38440  4346]\n",
      " [ 3552 48041]]\n",
      "              precision    recall  f1-score   support\n",
      "\n",
      "           0       0.92      0.90      0.91     42786\n",
      "           1       0.92      0.93      0.92     51593\n",
      "\n",
      "    accuracy                           0.92     94379\n",
      "   macro avg       0.92      0.91      0.92     94379\n",
      "weighted avg       0.92      0.92      0.92     94379\n",
      "\n"
     ]
    }
   ],
   "source": [
    "## Performance Matrix on train data set\n",
    "y_train_predict = best_grid.predict(x_train)\n",
    "model_score =best_grid.score(x_train, y_train)\n",
    "print(model_score)\n",
    "print(metrics.confusion_matrix(y_train, y_train_predict))\n",
    "print(metrics.classification_report(y_train, y_train_predict))"
   ]
  },
  {
   "cell_type": "markdown",
   "id": "e13d4907",
   "metadata": {},
   "source": [
    "### 3. Bagging"
   ]
  },
  {
   "cell_type": "code",
   "execution_count": 99,
   "id": "d42314f0",
   "metadata": {},
   "outputs": [
    {
     "data": {
      "text/html": [
       "<style>#sk-container-id-1 {color: black;background-color: white;}#sk-container-id-1 pre{padding: 0;}#sk-container-id-1 div.sk-toggleable {background-color: white;}#sk-container-id-1 label.sk-toggleable__label {cursor: pointer;display: block;width: 100%;margin-bottom: 0;padding: 0.3em;box-sizing: border-box;text-align: center;}#sk-container-id-1 label.sk-toggleable__label-arrow:before {content: \"▸\";float: left;margin-right: 0.25em;color: #696969;}#sk-container-id-1 label.sk-toggleable__label-arrow:hover:before {color: black;}#sk-container-id-1 div.sk-estimator:hover label.sk-toggleable__label-arrow:before {color: black;}#sk-container-id-1 div.sk-toggleable__content {max-height: 0;max-width: 0;overflow: hidden;text-align: left;background-color: #f0f8ff;}#sk-container-id-1 div.sk-toggleable__content pre {margin: 0.2em;color: black;border-radius: 0.25em;background-color: #f0f8ff;}#sk-container-id-1 input.sk-toggleable__control:checked~div.sk-toggleable__content {max-height: 200px;max-width: 100%;overflow: auto;}#sk-container-id-1 input.sk-toggleable__control:checked~label.sk-toggleable__label-arrow:before {content: \"▾\";}#sk-container-id-1 div.sk-estimator input.sk-toggleable__control:checked~label.sk-toggleable__label {background-color: #d4ebff;}#sk-container-id-1 div.sk-label input.sk-toggleable__control:checked~label.sk-toggleable__label {background-color: #d4ebff;}#sk-container-id-1 input.sk-hidden--visually {border: 0;clip: rect(1px 1px 1px 1px);clip: rect(1px, 1px, 1px, 1px);height: 1px;margin: -1px;overflow: hidden;padding: 0;position: absolute;width: 1px;}#sk-container-id-1 div.sk-estimator {font-family: monospace;background-color: #f0f8ff;border: 1px dotted black;border-radius: 0.25em;box-sizing: border-box;margin-bottom: 0.5em;}#sk-container-id-1 div.sk-estimator:hover {background-color: #d4ebff;}#sk-container-id-1 div.sk-parallel-item::after {content: \"\";width: 100%;border-bottom: 1px solid gray;flex-grow: 1;}#sk-container-id-1 div.sk-label:hover label.sk-toggleable__label {background-color: #d4ebff;}#sk-container-id-1 div.sk-serial::before {content: \"\";position: absolute;border-left: 1px solid gray;box-sizing: border-box;top: 0;bottom: 0;left: 50%;z-index: 0;}#sk-container-id-1 div.sk-serial {display: flex;flex-direction: column;align-items: center;background-color: white;padding-right: 0.2em;padding-left: 0.2em;position: relative;}#sk-container-id-1 div.sk-item {position: relative;z-index: 1;}#sk-container-id-1 div.sk-parallel {display: flex;align-items: stretch;justify-content: center;background-color: white;position: relative;}#sk-container-id-1 div.sk-item::before, #sk-container-id-1 div.sk-parallel-item::before {content: \"\";position: absolute;border-left: 1px solid gray;box-sizing: border-box;top: 0;bottom: 0;left: 50%;z-index: -1;}#sk-container-id-1 div.sk-parallel-item {display: flex;flex-direction: column;z-index: 1;position: relative;background-color: white;}#sk-container-id-1 div.sk-parallel-item:first-child::after {align-self: flex-end;width: 50%;}#sk-container-id-1 div.sk-parallel-item:last-child::after {align-self: flex-start;width: 50%;}#sk-container-id-1 div.sk-parallel-item:only-child::after {width: 0;}#sk-container-id-1 div.sk-dashed-wrapped {border: 1px dashed gray;margin: 0 0.4em 0.5em 0.4em;box-sizing: border-box;padding-bottom: 0.4em;background-color: white;}#sk-container-id-1 div.sk-label label {font-family: monospace;font-weight: bold;display: inline-block;line-height: 1.2em;}#sk-container-id-1 div.sk-label-container {text-align: center;}#sk-container-id-1 div.sk-container {/* jupyter's `normalize.less` sets `[hidden] { display: none; }` but bootstrap.min.css set `[hidden] { display: none !important; }` so we also need the `!important` here to be able to override the default hidden behavior on the sphinx rendered scikit-learn.org. See: https://github.com/scikit-learn/scikit-learn/issues/21755 */display: inline-block !important;position: relative;}#sk-container-id-1 div.sk-text-repr-fallback {display: none;}</style><div id=\"sk-container-id-1\" class=\"sk-top-container\"><div class=\"sk-text-repr-fallback\"><pre>BaggingClassifier(base_estimator=RandomForestClassifier(max_depth=25,\n",
       "                                                        max_features=15,\n",
       "                                                        n_estimators=280,\n",
       "                                                        n_jobs=-1,\n",
       "                                                        random_state=1),\n",
       "                  n_estimators=22, random_state=1)</pre><b>In a Jupyter environment, please rerun this cell to show the HTML representation or trust the notebook. <br />On GitHub, the HTML representation is unable to render, please try loading this page with nbviewer.org.</b></div><div class=\"sk-container\" hidden><div class=\"sk-item sk-dashed-wrapped\"><div class=\"sk-label-container\"><div class=\"sk-label sk-toggleable\"><input class=\"sk-toggleable__control sk-hidden--visually\" id=\"sk-estimator-id-1\" type=\"checkbox\" ><label for=\"sk-estimator-id-1\" class=\"sk-toggleable__label sk-toggleable__label-arrow\">BaggingClassifier</label><div class=\"sk-toggleable__content\"><pre>BaggingClassifier(base_estimator=RandomForestClassifier(max_depth=25,\n",
       "                                                        max_features=15,\n",
       "                                                        n_estimators=280,\n",
       "                                                        n_jobs=-1,\n",
       "                                                        random_state=1),\n",
       "                  n_estimators=22, random_state=1)</pre></div></div></div><div class=\"sk-parallel\"><div class=\"sk-parallel-item\"><div class=\"sk-item\"><div class=\"sk-label-container\"><div class=\"sk-label sk-toggleable\"><input class=\"sk-toggleable__control sk-hidden--visually\" id=\"sk-estimator-id-2\" type=\"checkbox\" ><label for=\"sk-estimator-id-2\" class=\"sk-toggleable__label sk-toggleable__label-arrow\">base_estimator: RandomForestClassifier</label><div class=\"sk-toggleable__content\"><pre>RandomForestClassifier(max_depth=25, max_features=15, n_estimators=280,\n",
       "                       n_jobs=-1, random_state=1)</pre></div></div></div><div class=\"sk-serial\"><div class=\"sk-item\"><div class=\"sk-estimator sk-toggleable\"><input class=\"sk-toggleable__control sk-hidden--visually\" id=\"sk-estimator-id-3\" type=\"checkbox\" ><label for=\"sk-estimator-id-3\" class=\"sk-toggleable__label sk-toggleable__label-arrow\">RandomForestClassifier</label><div class=\"sk-toggleable__content\"><pre>RandomForestClassifier(max_depth=25, max_features=15, n_estimators=280,\n",
       "                       n_jobs=-1, random_state=1)</pre></div></div></div></div></div></div></div></div></div></div>"
      ],
      "text/plain": [
       "BaggingClassifier(base_estimator=RandomForestClassifier(max_depth=25,\n",
       "                                                        max_features=15,\n",
       "                                                        n_estimators=280,\n",
       "                                                        n_jobs=-1,\n",
       "                                                        random_state=1),\n",
       "                  n_estimators=22, random_state=1)"
      ]
     },
     "execution_count": 99,
     "metadata": {},
     "output_type": "execute_result"
    }
   ],
   "source": [
    "from sklearn.ensemble import BaggingClassifier\n",
    "from sklearn.ensemble import RandomForestClassifier\n",
    "rf2 = RandomForestClassifier(n_estimators=280, max_depth= 25, \n",
    "                             max_features= 15, random_state = 1,\n",
    "                             n_jobs = -1)\n",
    "Bagging_model=BaggingClassifier(base_estimator=rf2,n_estimators=22,random_state=1)\n",
    "Bagging_model.fit(x_train, y_train)"
   ]
  },
  {
   "cell_type": "code",
   "execution_count": 100,
   "id": "c00501c6",
   "metadata": {},
   "outputs": [],
   "source": [
    "y_pred14=Bagging_model.predict(x_test)\n",
    "my_submission = pd.DataFrame({'ID': submit.ID, 'Overall_Experience': y_pred14})\n",
    "\n",
    "my_submission.to_csv('Shinkansen submission-14.csv', index=False)"
   ]
  },
  {
   "cell_type": "markdown",
   "id": "53e2e21b",
   "metadata": {},
   "source": [
    "### AdaBoost 1.0"
   ]
  },
  {
   "cell_type": "code",
   "execution_count": 102,
   "id": "5d1d20de",
   "metadata": {},
   "outputs": [
    {
     "data": {
      "text/html": [
       "<style>#sk-container-id-2 {color: black;background-color: white;}#sk-container-id-2 pre{padding: 0;}#sk-container-id-2 div.sk-toggleable {background-color: white;}#sk-container-id-2 label.sk-toggleable__label {cursor: pointer;display: block;width: 100%;margin-bottom: 0;padding: 0.3em;box-sizing: border-box;text-align: center;}#sk-container-id-2 label.sk-toggleable__label-arrow:before {content: \"▸\";float: left;margin-right: 0.25em;color: #696969;}#sk-container-id-2 label.sk-toggleable__label-arrow:hover:before {color: black;}#sk-container-id-2 div.sk-estimator:hover label.sk-toggleable__label-arrow:before {color: black;}#sk-container-id-2 div.sk-toggleable__content {max-height: 0;max-width: 0;overflow: hidden;text-align: left;background-color: #f0f8ff;}#sk-container-id-2 div.sk-toggleable__content pre {margin: 0.2em;color: black;border-radius: 0.25em;background-color: #f0f8ff;}#sk-container-id-2 input.sk-toggleable__control:checked~div.sk-toggleable__content {max-height: 200px;max-width: 100%;overflow: auto;}#sk-container-id-2 input.sk-toggleable__control:checked~label.sk-toggleable__label-arrow:before {content: \"▾\";}#sk-container-id-2 div.sk-estimator input.sk-toggleable__control:checked~label.sk-toggleable__label {background-color: #d4ebff;}#sk-container-id-2 div.sk-label input.sk-toggleable__control:checked~label.sk-toggleable__label {background-color: #d4ebff;}#sk-container-id-2 input.sk-hidden--visually {border: 0;clip: rect(1px 1px 1px 1px);clip: rect(1px, 1px, 1px, 1px);height: 1px;margin: -1px;overflow: hidden;padding: 0;position: absolute;width: 1px;}#sk-container-id-2 div.sk-estimator {font-family: monospace;background-color: #f0f8ff;border: 1px dotted black;border-radius: 0.25em;box-sizing: border-box;margin-bottom: 0.5em;}#sk-container-id-2 div.sk-estimator:hover {background-color: #d4ebff;}#sk-container-id-2 div.sk-parallel-item::after {content: \"\";width: 100%;border-bottom: 1px solid gray;flex-grow: 1;}#sk-container-id-2 div.sk-label:hover label.sk-toggleable__label {background-color: #d4ebff;}#sk-container-id-2 div.sk-serial::before {content: \"\";position: absolute;border-left: 1px solid gray;box-sizing: border-box;top: 0;bottom: 0;left: 50%;z-index: 0;}#sk-container-id-2 div.sk-serial {display: flex;flex-direction: column;align-items: center;background-color: white;padding-right: 0.2em;padding-left: 0.2em;position: relative;}#sk-container-id-2 div.sk-item {position: relative;z-index: 1;}#sk-container-id-2 div.sk-parallel {display: flex;align-items: stretch;justify-content: center;background-color: white;position: relative;}#sk-container-id-2 div.sk-item::before, #sk-container-id-2 div.sk-parallel-item::before {content: \"\";position: absolute;border-left: 1px solid gray;box-sizing: border-box;top: 0;bottom: 0;left: 50%;z-index: -1;}#sk-container-id-2 div.sk-parallel-item {display: flex;flex-direction: column;z-index: 1;position: relative;background-color: white;}#sk-container-id-2 div.sk-parallel-item:first-child::after {align-self: flex-end;width: 50%;}#sk-container-id-2 div.sk-parallel-item:last-child::after {align-self: flex-start;width: 50%;}#sk-container-id-2 div.sk-parallel-item:only-child::after {width: 0;}#sk-container-id-2 div.sk-dashed-wrapped {border: 1px dashed gray;margin: 0 0.4em 0.5em 0.4em;box-sizing: border-box;padding-bottom: 0.4em;background-color: white;}#sk-container-id-2 div.sk-label label {font-family: monospace;font-weight: bold;display: inline-block;line-height: 1.2em;}#sk-container-id-2 div.sk-label-container {text-align: center;}#sk-container-id-2 div.sk-container {/* jupyter's `normalize.less` sets `[hidden] { display: none; }` but bootstrap.min.css set `[hidden] { display: none !important; }` so we also need the `!important` here to be able to override the default hidden behavior on the sphinx rendered scikit-learn.org. See: https://github.com/scikit-learn/scikit-learn/issues/21755 */display: inline-block !important;position: relative;}#sk-container-id-2 div.sk-text-repr-fallback {display: none;}</style><div id=\"sk-container-id-2\" class=\"sk-top-container\"><div class=\"sk-text-repr-fallback\"><pre>AdaBoostClassifier(base_estimator=RandomForestClassifier(max_depth=25,\n",
       "                                                         max_features=15,\n",
       "                                                         n_estimators=280,\n",
       "                                                         random_state=1),\n",
       "                   n_estimators=35, random_state=0)</pre><b>In a Jupyter environment, please rerun this cell to show the HTML representation or trust the notebook. <br />On GitHub, the HTML representation is unable to render, please try loading this page with nbviewer.org.</b></div><div class=\"sk-container\" hidden><div class=\"sk-item sk-dashed-wrapped\"><div class=\"sk-label-container\"><div class=\"sk-label sk-toggleable\"><input class=\"sk-toggleable__control sk-hidden--visually\" id=\"sk-estimator-id-4\" type=\"checkbox\" ><label for=\"sk-estimator-id-4\" class=\"sk-toggleable__label sk-toggleable__label-arrow\">AdaBoostClassifier</label><div class=\"sk-toggleable__content\"><pre>AdaBoostClassifier(base_estimator=RandomForestClassifier(max_depth=25,\n",
       "                                                         max_features=15,\n",
       "                                                         n_estimators=280,\n",
       "                                                         random_state=1),\n",
       "                   n_estimators=35, random_state=0)</pre></div></div></div><div class=\"sk-parallel\"><div class=\"sk-parallel-item\"><div class=\"sk-item\"><div class=\"sk-label-container\"><div class=\"sk-label sk-toggleable\"><input class=\"sk-toggleable__control sk-hidden--visually\" id=\"sk-estimator-id-5\" type=\"checkbox\" ><label for=\"sk-estimator-id-5\" class=\"sk-toggleable__label sk-toggleable__label-arrow\">base_estimator: RandomForestClassifier</label><div class=\"sk-toggleable__content\"><pre>RandomForestClassifier(max_depth=25, max_features=15, n_estimators=280,\n",
       "                       random_state=1)</pre></div></div></div><div class=\"sk-serial\"><div class=\"sk-item\"><div class=\"sk-estimator sk-toggleable\"><input class=\"sk-toggleable__control sk-hidden--visually\" id=\"sk-estimator-id-6\" type=\"checkbox\" ><label for=\"sk-estimator-id-6\" class=\"sk-toggleable__label sk-toggleable__label-arrow\">RandomForestClassifier</label><div class=\"sk-toggleable__content\"><pre>RandomForestClassifier(max_depth=25, max_features=15, n_estimators=280,\n",
       "                       random_state=1)</pre></div></div></div></div></div></div></div></div></div></div>"
      ],
      "text/plain": [
       "AdaBoostClassifier(base_estimator=RandomForestClassifier(max_depth=25,\n",
       "                                                         max_features=15,\n",
       "                                                         n_estimators=280,\n",
       "                                                         random_state=1),\n",
       "                   n_estimators=35, random_state=0)"
      ]
     },
     "execution_count": 102,
     "metadata": {},
     "output_type": "execute_result"
    }
   ],
   "source": [
    "rf3 = RandomForestClassifier(n_estimators=280, max_depth= 25, max_features= 15, random_state = 1)\n",
    "rf3.fit(x_train, y_train)\n",
    "from sklearn.ensemble import AdaBoostClassifier\n",
    "ada7 = AdaBoostClassifier(base_estimator=rf3, n_estimators=35, learning_rate=1.0, random_state= 0)\n",
    "ada7.fit(x_train,y_train)"
   ]
  },
  {
   "cell_type": "markdown",
   "id": "0bf2b696",
   "metadata": {},
   "source": [
    "### AdaBoost 1.1"
   ]
  },
  {
   "cell_type": "code",
   "execution_count": 106,
   "id": "8ef9db86",
   "metadata": {},
   "outputs": [
    {
     "data": {
      "text/html": [
       "<style>#sk-container-id-3 {color: black;background-color: white;}#sk-container-id-3 pre{padding: 0;}#sk-container-id-3 div.sk-toggleable {background-color: white;}#sk-container-id-3 label.sk-toggleable__label {cursor: pointer;display: block;width: 100%;margin-bottom: 0;padding: 0.3em;box-sizing: border-box;text-align: center;}#sk-container-id-3 label.sk-toggleable__label-arrow:before {content: \"▸\";float: left;margin-right: 0.25em;color: #696969;}#sk-container-id-3 label.sk-toggleable__label-arrow:hover:before {color: black;}#sk-container-id-3 div.sk-estimator:hover label.sk-toggleable__label-arrow:before {color: black;}#sk-container-id-3 div.sk-toggleable__content {max-height: 0;max-width: 0;overflow: hidden;text-align: left;background-color: #f0f8ff;}#sk-container-id-3 div.sk-toggleable__content pre {margin: 0.2em;color: black;border-radius: 0.25em;background-color: #f0f8ff;}#sk-container-id-3 input.sk-toggleable__control:checked~div.sk-toggleable__content {max-height: 200px;max-width: 100%;overflow: auto;}#sk-container-id-3 input.sk-toggleable__control:checked~label.sk-toggleable__label-arrow:before {content: \"▾\";}#sk-container-id-3 div.sk-estimator input.sk-toggleable__control:checked~label.sk-toggleable__label {background-color: #d4ebff;}#sk-container-id-3 div.sk-label input.sk-toggleable__control:checked~label.sk-toggleable__label {background-color: #d4ebff;}#sk-container-id-3 input.sk-hidden--visually {border: 0;clip: rect(1px 1px 1px 1px);clip: rect(1px, 1px, 1px, 1px);height: 1px;margin: -1px;overflow: hidden;padding: 0;position: absolute;width: 1px;}#sk-container-id-3 div.sk-estimator {font-family: monospace;background-color: #f0f8ff;border: 1px dotted black;border-radius: 0.25em;box-sizing: border-box;margin-bottom: 0.5em;}#sk-container-id-3 div.sk-estimator:hover {background-color: #d4ebff;}#sk-container-id-3 div.sk-parallel-item::after {content: \"\";width: 100%;border-bottom: 1px solid gray;flex-grow: 1;}#sk-container-id-3 div.sk-label:hover label.sk-toggleable__label {background-color: #d4ebff;}#sk-container-id-3 div.sk-serial::before {content: \"\";position: absolute;border-left: 1px solid gray;box-sizing: border-box;top: 0;bottom: 0;left: 50%;z-index: 0;}#sk-container-id-3 div.sk-serial {display: flex;flex-direction: column;align-items: center;background-color: white;padding-right: 0.2em;padding-left: 0.2em;position: relative;}#sk-container-id-3 div.sk-item {position: relative;z-index: 1;}#sk-container-id-3 div.sk-parallel {display: flex;align-items: stretch;justify-content: center;background-color: white;position: relative;}#sk-container-id-3 div.sk-item::before, #sk-container-id-3 div.sk-parallel-item::before {content: \"\";position: absolute;border-left: 1px solid gray;box-sizing: border-box;top: 0;bottom: 0;left: 50%;z-index: -1;}#sk-container-id-3 div.sk-parallel-item {display: flex;flex-direction: column;z-index: 1;position: relative;background-color: white;}#sk-container-id-3 div.sk-parallel-item:first-child::after {align-self: flex-end;width: 50%;}#sk-container-id-3 div.sk-parallel-item:last-child::after {align-self: flex-start;width: 50%;}#sk-container-id-3 div.sk-parallel-item:only-child::after {width: 0;}#sk-container-id-3 div.sk-dashed-wrapped {border: 1px dashed gray;margin: 0 0.4em 0.5em 0.4em;box-sizing: border-box;padding-bottom: 0.4em;background-color: white;}#sk-container-id-3 div.sk-label label {font-family: monospace;font-weight: bold;display: inline-block;line-height: 1.2em;}#sk-container-id-3 div.sk-label-container {text-align: center;}#sk-container-id-3 div.sk-container {/* jupyter's `normalize.less` sets `[hidden] { display: none; }` but bootstrap.min.css set `[hidden] { display: none !important; }` so we also need the `!important` here to be able to override the default hidden behavior on the sphinx rendered scikit-learn.org. See: https://github.com/scikit-learn/scikit-learn/issues/21755 */display: inline-block !important;position: relative;}#sk-container-id-3 div.sk-text-repr-fallback {display: none;}</style><div id=\"sk-container-id-3\" class=\"sk-top-container\"><div class=\"sk-text-repr-fallback\"><pre>AdaBoostClassifier(base_estimator=RandomForestClassifier(max_depth=30,\n",
       "                                                         max_features=20,\n",
       "                                                         n_estimators=285,\n",
       "                                                         random_state=1),\n",
       "                   n_estimators=40, random_state=1)</pre><b>In a Jupyter environment, please rerun this cell to show the HTML representation or trust the notebook. <br />On GitHub, the HTML representation is unable to render, please try loading this page with nbviewer.org.</b></div><div class=\"sk-container\" hidden><div class=\"sk-item sk-dashed-wrapped\"><div class=\"sk-label-container\"><div class=\"sk-label sk-toggleable\"><input class=\"sk-toggleable__control sk-hidden--visually\" id=\"sk-estimator-id-7\" type=\"checkbox\" ><label for=\"sk-estimator-id-7\" class=\"sk-toggleable__label sk-toggleable__label-arrow\">AdaBoostClassifier</label><div class=\"sk-toggleable__content\"><pre>AdaBoostClassifier(base_estimator=RandomForestClassifier(max_depth=30,\n",
       "                                                         max_features=20,\n",
       "                                                         n_estimators=285,\n",
       "                                                         random_state=1),\n",
       "                   n_estimators=40, random_state=1)</pre></div></div></div><div class=\"sk-parallel\"><div class=\"sk-parallel-item\"><div class=\"sk-item\"><div class=\"sk-label-container\"><div class=\"sk-label sk-toggleable\"><input class=\"sk-toggleable__control sk-hidden--visually\" id=\"sk-estimator-id-8\" type=\"checkbox\" ><label for=\"sk-estimator-id-8\" class=\"sk-toggleable__label sk-toggleable__label-arrow\">base_estimator: RandomForestClassifier</label><div class=\"sk-toggleable__content\"><pre>RandomForestClassifier(max_depth=30, max_features=20, n_estimators=285,\n",
       "                       random_state=1)</pre></div></div></div><div class=\"sk-serial\"><div class=\"sk-item\"><div class=\"sk-estimator sk-toggleable\"><input class=\"sk-toggleable__control sk-hidden--visually\" id=\"sk-estimator-id-9\" type=\"checkbox\" ><label for=\"sk-estimator-id-9\" class=\"sk-toggleable__label sk-toggleable__label-arrow\">RandomForestClassifier</label><div class=\"sk-toggleable__content\"><pre>RandomForestClassifier(max_depth=30, max_features=20, n_estimators=285,\n",
       "                       random_state=1)</pre></div></div></div></div></div></div></div></div></div></div>"
      ],
      "text/plain": [
       "AdaBoostClassifier(base_estimator=RandomForestClassifier(max_depth=30,\n",
       "                                                         max_features=20,\n",
       "                                                         n_estimators=285,\n",
       "                                                         random_state=1),\n",
       "                   n_estimators=40, random_state=1)"
      ]
     },
     "execution_count": 106,
     "metadata": {},
     "output_type": "execute_result"
    }
   ],
   "source": [
    "rf4 = RandomForestClassifier(n_estimators=285, max_depth= 30, max_features= 20, random_state = 1) # 2nd best model\n",
    "rf4.fit(x_train, y_train)\n",
    "from sklearn.ensemble import AdaBoostClassifier\n",
    "ada8 = AdaBoostClassifier(base_estimator=rf4, n_estimators=40, learning_rate=1.0, random_state= 1)\n",
    "ada8.fit(x_train,y_train)"
   ]
  },
  {
   "cell_type": "markdown",
   "id": "f57168b6",
   "metadata": {},
   "source": [
    "### AdaBoost 1.2"
   ]
  },
  {
   "cell_type": "code",
   "execution_count": 108,
   "id": "2b2b5bfe",
   "metadata": {},
   "outputs": [
    {
     "data": {
      "text/html": [
       "<style>#sk-container-id-4 {color: black;background-color: white;}#sk-container-id-4 pre{padding: 0;}#sk-container-id-4 div.sk-toggleable {background-color: white;}#sk-container-id-4 label.sk-toggleable__label {cursor: pointer;display: block;width: 100%;margin-bottom: 0;padding: 0.3em;box-sizing: border-box;text-align: center;}#sk-container-id-4 label.sk-toggleable__label-arrow:before {content: \"▸\";float: left;margin-right: 0.25em;color: #696969;}#sk-container-id-4 label.sk-toggleable__label-arrow:hover:before {color: black;}#sk-container-id-4 div.sk-estimator:hover label.sk-toggleable__label-arrow:before {color: black;}#sk-container-id-4 div.sk-toggleable__content {max-height: 0;max-width: 0;overflow: hidden;text-align: left;background-color: #f0f8ff;}#sk-container-id-4 div.sk-toggleable__content pre {margin: 0.2em;color: black;border-radius: 0.25em;background-color: #f0f8ff;}#sk-container-id-4 input.sk-toggleable__control:checked~div.sk-toggleable__content {max-height: 200px;max-width: 100%;overflow: auto;}#sk-container-id-4 input.sk-toggleable__control:checked~label.sk-toggleable__label-arrow:before {content: \"▾\";}#sk-container-id-4 div.sk-estimator input.sk-toggleable__control:checked~label.sk-toggleable__label {background-color: #d4ebff;}#sk-container-id-4 div.sk-label input.sk-toggleable__control:checked~label.sk-toggleable__label {background-color: #d4ebff;}#sk-container-id-4 input.sk-hidden--visually {border: 0;clip: rect(1px 1px 1px 1px);clip: rect(1px, 1px, 1px, 1px);height: 1px;margin: -1px;overflow: hidden;padding: 0;position: absolute;width: 1px;}#sk-container-id-4 div.sk-estimator {font-family: monospace;background-color: #f0f8ff;border: 1px dotted black;border-radius: 0.25em;box-sizing: border-box;margin-bottom: 0.5em;}#sk-container-id-4 div.sk-estimator:hover {background-color: #d4ebff;}#sk-container-id-4 div.sk-parallel-item::after {content: \"\";width: 100%;border-bottom: 1px solid gray;flex-grow: 1;}#sk-container-id-4 div.sk-label:hover label.sk-toggleable__label {background-color: #d4ebff;}#sk-container-id-4 div.sk-serial::before {content: \"\";position: absolute;border-left: 1px solid gray;box-sizing: border-box;top: 0;bottom: 0;left: 50%;z-index: 0;}#sk-container-id-4 div.sk-serial {display: flex;flex-direction: column;align-items: center;background-color: white;padding-right: 0.2em;padding-left: 0.2em;position: relative;}#sk-container-id-4 div.sk-item {position: relative;z-index: 1;}#sk-container-id-4 div.sk-parallel {display: flex;align-items: stretch;justify-content: center;background-color: white;position: relative;}#sk-container-id-4 div.sk-item::before, #sk-container-id-4 div.sk-parallel-item::before {content: \"\";position: absolute;border-left: 1px solid gray;box-sizing: border-box;top: 0;bottom: 0;left: 50%;z-index: -1;}#sk-container-id-4 div.sk-parallel-item {display: flex;flex-direction: column;z-index: 1;position: relative;background-color: white;}#sk-container-id-4 div.sk-parallel-item:first-child::after {align-self: flex-end;width: 50%;}#sk-container-id-4 div.sk-parallel-item:last-child::after {align-self: flex-start;width: 50%;}#sk-container-id-4 div.sk-parallel-item:only-child::after {width: 0;}#sk-container-id-4 div.sk-dashed-wrapped {border: 1px dashed gray;margin: 0 0.4em 0.5em 0.4em;box-sizing: border-box;padding-bottom: 0.4em;background-color: white;}#sk-container-id-4 div.sk-label label {font-family: monospace;font-weight: bold;display: inline-block;line-height: 1.2em;}#sk-container-id-4 div.sk-label-container {text-align: center;}#sk-container-id-4 div.sk-container {/* jupyter's `normalize.less` sets `[hidden] { display: none; }` but bootstrap.min.css set `[hidden] { display: none !important; }` so we also need the `!important` here to be able to override the default hidden behavior on the sphinx rendered scikit-learn.org. See: https://github.com/scikit-learn/scikit-learn/issues/21755 */display: inline-block !important;position: relative;}#sk-container-id-4 div.sk-text-repr-fallback {display: none;}</style><div id=\"sk-container-id-4\" class=\"sk-top-container\"><div class=\"sk-text-repr-fallback\"><pre>AdaBoostClassifier(base_estimator=RandomForestClassifier(max_depth=32,\n",
       "                                                         max_features=22,\n",
       "                                                         n_estimators=285,\n",
       "                                                         random_state=1),\n",
       "                   n_estimators=42, random_state=1)</pre><b>In a Jupyter environment, please rerun this cell to show the HTML representation or trust the notebook. <br />On GitHub, the HTML representation is unable to render, please try loading this page with nbviewer.org.</b></div><div class=\"sk-container\" hidden><div class=\"sk-item sk-dashed-wrapped\"><div class=\"sk-label-container\"><div class=\"sk-label sk-toggleable\"><input class=\"sk-toggleable__control sk-hidden--visually\" id=\"sk-estimator-id-10\" type=\"checkbox\" ><label for=\"sk-estimator-id-10\" class=\"sk-toggleable__label sk-toggleable__label-arrow\">AdaBoostClassifier</label><div class=\"sk-toggleable__content\"><pre>AdaBoostClassifier(base_estimator=RandomForestClassifier(max_depth=32,\n",
       "                                                         max_features=22,\n",
       "                                                         n_estimators=285,\n",
       "                                                         random_state=1),\n",
       "                   n_estimators=42, random_state=1)</pre></div></div></div><div class=\"sk-parallel\"><div class=\"sk-parallel-item\"><div class=\"sk-item\"><div class=\"sk-label-container\"><div class=\"sk-label sk-toggleable\"><input class=\"sk-toggleable__control sk-hidden--visually\" id=\"sk-estimator-id-11\" type=\"checkbox\" ><label for=\"sk-estimator-id-11\" class=\"sk-toggleable__label sk-toggleable__label-arrow\">base_estimator: RandomForestClassifier</label><div class=\"sk-toggleable__content\"><pre>RandomForestClassifier(max_depth=32, max_features=22, n_estimators=285,\n",
       "                       random_state=1)</pre></div></div></div><div class=\"sk-serial\"><div class=\"sk-item\"><div class=\"sk-estimator sk-toggleable\"><input class=\"sk-toggleable__control sk-hidden--visually\" id=\"sk-estimator-id-12\" type=\"checkbox\" ><label for=\"sk-estimator-id-12\" class=\"sk-toggleable__label sk-toggleable__label-arrow\">RandomForestClassifier</label><div class=\"sk-toggleable__content\"><pre>RandomForestClassifier(max_depth=32, max_features=22, n_estimators=285,\n",
       "                       random_state=1)</pre></div></div></div></div></div></div></div></div></div></div>"
      ],
      "text/plain": [
       "AdaBoostClassifier(base_estimator=RandomForestClassifier(max_depth=32,\n",
       "                                                         max_features=22,\n",
       "                                                         n_estimators=285,\n",
       "                                                         random_state=1),\n",
       "                   n_estimators=42, random_state=1)"
      ]
     },
     "execution_count": 108,
     "metadata": {},
     "output_type": "execute_result"
    }
   ],
   "source": [
    "rf5 = RandomForestClassifier(n_estimators=285, max_depth= 32, max_features= 22, random_state = 1)\n",
    "rf5.fit(x_train, y_train)\n",
    "from sklearn.ensemble import AdaBoostClassifier\n",
    "ada9 = AdaBoostClassifier(base_estimator=rf5, n_estimators=42, learning_rate=1.0, random_state= 1)\n",
    "ada9.fit(x_train,y_train)"
   ]
  },
  {
   "cell_type": "markdown",
   "id": "b50a0ae4",
   "metadata": {},
   "source": [
    "### AdaBoost 1.3"
   ]
  },
  {
   "cell_type": "code",
   "execution_count": 110,
   "id": "7ba38bde",
   "metadata": {},
   "outputs": [
    {
     "data": {
      "text/html": [
       "<style>#sk-container-id-5 {color: black;background-color: white;}#sk-container-id-5 pre{padding: 0;}#sk-container-id-5 div.sk-toggleable {background-color: white;}#sk-container-id-5 label.sk-toggleable__label {cursor: pointer;display: block;width: 100%;margin-bottom: 0;padding: 0.3em;box-sizing: border-box;text-align: center;}#sk-container-id-5 label.sk-toggleable__label-arrow:before {content: \"▸\";float: left;margin-right: 0.25em;color: #696969;}#sk-container-id-5 label.sk-toggleable__label-arrow:hover:before {color: black;}#sk-container-id-5 div.sk-estimator:hover label.sk-toggleable__label-arrow:before {color: black;}#sk-container-id-5 div.sk-toggleable__content {max-height: 0;max-width: 0;overflow: hidden;text-align: left;background-color: #f0f8ff;}#sk-container-id-5 div.sk-toggleable__content pre {margin: 0.2em;color: black;border-radius: 0.25em;background-color: #f0f8ff;}#sk-container-id-5 input.sk-toggleable__control:checked~div.sk-toggleable__content {max-height: 200px;max-width: 100%;overflow: auto;}#sk-container-id-5 input.sk-toggleable__control:checked~label.sk-toggleable__label-arrow:before {content: \"▾\";}#sk-container-id-5 div.sk-estimator input.sk-toggleable__control:checked~label.sk-toggleable__label {background-color: #d4ebff;}#sk-container-id-5 div.sk-label input.sk-toggleable__control:checked~label.sk-toggleable__label {background-color: #d4ebff;}#sk-container-id-5 input.sk-hidden--visually {border: 0;clip: rect(1px 1px 1px 1px);clip: rect(1px, 1px, 1px, 1px);height: 1px;margin: -1px;overflow: hidden;padding: 0;position: absolute;width: 1px;}#sk-container-id-5 div.sk-estimator {font-family: monospace;background-color: #f0f8ff;border: 1px dotted black;border-radius: 0.25em;box-sizing: border-box;margin-bottom: 0.5em;}#sk-container-id-5 div.sk-estimator:hover {background-color: #d4ebff;}#sk-container-id-5 div.sk-parallel-item::after {content: \"\";width: 100%;border-bottom: 1px solid gray;flex-grow: 1;}#sk-container-id-5 div.sk-label:hover label.sk-toggleable__label {background-color: #d4ebff;}#sk-container-id-5 div.sk-serial::before {content: \"\";position: absolute;border-left: 1px solid gray;box-sizing: border-box;top: 0;bottom: 0;left: 50%;z-index: 0;}#sk-container-id-5 div.sk-serial {display: flex;flex-direction: column;align-items: center;background-color: white;padding-right: 0.2em;padding-left: 0.2em;position: relative;}#sk-container-id-5 div.sk-item {position: relative;z-index: 1;}#sk-container-id-5 div.sk-parallel {display: flex;align-items: stretch;justify-content: center;background-color: white;position: relative;}#sk-container-id-5 div.sk-item::before, #sk-container-id-5 div.sk-parallel-item::before {content: \"\";position: absolute;border-left: 1px solid gray;box-sizing: border-box;top: 0;bottom: 0;left: 50%;z-index: -1;}#sk-container-id-5 div.sk-parallel-item {display: flex;flex-direction: column;z-index: 1;position: relative;background-color: white;}#sk-container-id-5 div.sk-parallel-item:first-child::after {align-self: flex-end;width: 50%;}#sk-container-id-5 div.sk-parallel-item:last-child::after {align-self: flex-start;width: 50%;}#sk-container-id-5 div.sk-parallel-item:only-child::after {width: 0;}#sk-container-id-5 div.sk-dashed-wrapped {border: 1px dashed gray;margin: 0 0.4em 0.5em 0.4em;box-sizing: border-box;padding-bottom: 0.4em;background-color: white;}#sk-container-id-5 div.sk-label label {font-family: monospace;font-weight: bold;display: inline-block;line-height: 1.2em;}#sk-container-id-5 div.sk-label-container {text-align: center;}#sk-container-id-5 div.sk-container {/* jupyter's `normalize.less` sets `[hidden] { display: none; }` but bootstrap.min.css set `[hidden] { display: none !important; }` so we also need the `!important` here to be able to override the default hidden behavior on the sphinx rendered scikit-learn.org. See: https://github.com/scikit-learn/scikit-learn/issues/21755 */display: inline-block !important;position: relative;}#sk-container-id-5 div.sk-text-repr-fallback {display: none;}</style><div id=\"sk-container-id-5\" class=\"sk-top-container\"><div class=\"sk-text-repr-fallback\"><pre>AdaBoostClassifier(base_estimator=RandomForestClassifier(max_depth=32,\n",
       "                                                         max_features=20,\n",
       "                                                         n_estimators=285,\n",
       "                                                         random_state=1),\n",
       "                   n_estimators=40, random_state=1)</pre><b>In a Jupyter environment, please rerun this cell to show the HTML representation or trust the notebook. <br />On GitHub, the HTML representation is unable to render, please try loading this page with nbviewer.org.</b></div><div class=\"sk-container\" hidden><div class=\"sk-item sk-dashed-wrapped\"><div class=\"sk-label-container\"><div class=\"sk-label sk-toggleable\"><input class=\"sk-toggleable__control sk-hidden--visually\" id=\"sk-estimator-id-13\" type=\"checkbox\" ><label for=\"sk-estimator-id-13\" class=\"sk-toggleable__label sk-toggleable__label-arrow\">AdaBoostClassifier</label><div class=\"sk-toggleable__content\"><pre>AdaBoostClassifier(base_estimator=RandomForestClassifier(max_depth=32,\n",
       "                                                         max_features=20,\n",
       "                                                         n_estimators=285,\n",
       "                                                         random_state=1),\n",
       "                   n_estimators=40, random_state=1)</pre></div></div></div><div class=\"sk-parallel\"><div class=\"sk-parallel-item\"><div class=\"sk-item\"><div class=\"sk-label-container\"><div class=\"sk-label sk-toggleable\"><input class=\"sk-toggleable__control sk-hidden--visually\" id=\"sk-estimator-id-14\" type=\"checkbox\" ><label for=\"sk-estimator-id-14\" class=\"sk-toggleable__label sk-toggleable__label-arrow\">base_estimator: RandomForestClassifier</label><div class=\"sk-toggleable__content\"><pre>RandomForestClassifier(max_depth=32, max_features=20, n_estimators=285,\n",
       "                       random_state=1)</pre></div></div></div><div class=\"sk-serial\"><div class=\"sk-item\"><div class=\"sk-estimator sk-toggleable\"><input class=\"sk-toggleable__control sk-hidden--visually\" id=\"sk-estimator-id-15\" type=\"checkbox\" ><label for=\"sk-estimator-id-15\" class=\"sk-toggleable__label sk-toggleable__label-arrow\">RandomForestClassifier</label><div class=\"sk-toggleable__content\"><pre>RandomForestClassifier(max_depth=32, max_features=20, n_estimators=285,\n",
       "                       random_state=1)</pre></div></div></div></div></div></div></div></div></div></div>"
      ],
      "text/plain": [
       "AdaBoostClassifier(base_estimator=RandomForestClassifier(max_depth=32,\n",
       "                                                         max_features=20,\n",
       "                                                         n_estimators=285,\n",
       "                                                         random_state=1),\n",
       "                   n_estimators=40, random_state=1)"
      ]
     },
     "execution_count": 110,
     "metadata": {},
     "output_type": "execute_result"
    }
   ],
   "source": [
    "rf6 = RandomForestClassifier(n_estimators=285, max_depth= 32, max_features= 20, random_state = 1)\n",
    "rf6.fit(x_train, y_train)\n",
    "from sklearn.ensemble import AdaBoostClassifier\n",
    "ada10 = AdaBoostClassifier(base_estimator=rf6, n_estimators=40, learning_rate=1.0, random_state= 1)\n",
    "ada10.fit(x_train,y_train)"
   ]
  },
  {
   "cell_type": "markdown",
   "id": "ad6cfb90",
   "metadata": {},
   "source": [
    "### AdaBoost 1.4"
   ]
  },
  {
   "cell_type": "code",
   "execution_count": 112,
   "id": "39f84297",
   "metadata": {},
   "outputs": [
    {
     "data": {
      "text/html": [
       "<style>#sk-container-id-6 {color: black;background-color: white;}#sk-container-id-6 pre{padding: 0;}#sk-container-id-6 div.sk-toggleable {background-color: white;}#sk-container-id-6 label.sk-toggleable__label {cursor: pointer;display: block;width: 100%;margin-bottom: 0;padding: 0.3em;box-sizing: border-box;text-align: center;}#sk-container-id-6 label.sk-toggleable__label-arrow:before {content: \"▸\";float: left;margin-right: 0.25em;color: #696969;}#sk-container-id-6 label.sk-toggleable__label-arrow:hover:before {color: black;}#sk-container-id-6 div.sk-estimator:hover label.sk-toggleable__label-arrow:before {color: black;}#sk-container-id-6 div.sk-toggleable__content {max-height: 0;max-width: 0;overflow: hidden;text-align: left;background-color: #f0f8ff;}#sk-container-id-6 div.sk-toggleable__content pre {margin: 0.2em;color: black;border-radius: 0.25em;background-color: #f0f8ff;}#sk-container-id-6 input.sk-toggleable__control:checked~div.sk-toggleable__content {max-height: 200px;max-width: 100%;overflow: auto;}#sk-container-id-6 input.sk-toggleable__control:checked~label.sk-toggleable__label-arrow:before {content: \"▾\";}#sk-container-id-6 div.sk-estimator input.sk-toggleable__control:checked~label.sk-toggleable__label {background-color: #d4ebff;}#sk-container-id-6 div.sk-label input.sk-toggleable__control:checked~label.sk-toggleable__label {background-color: #d4ebff;}#sk-container-id-6 input.sk-hidden--visually {border: 0;clip: rect(1px 1px 1px 1px);clip: rect(1px, 1px, 1px, 1px);height: 1px;margin: -1px;overflow: hidden;padding: 0;position: absolute;width: 1px;}#sk-container-id-6 div.sk-estimator {font-family: monospace;background-color: #f0f8ff;border: 1px dotted black;border-radius: 0.25em;box-sizing: border-box;margin-bottom: 0.5em;}#sk-container-id-6 div.sk-estimator:hover {background-color: #d4ebff;}#sk-container-id-6 div.sk-parallel-item::after {content: \"\";width: 100%;border-bottom: 1px solid gray;flex-grow: 1;}#sk-container-id-6 div.sk-label:hover label.sk-toggleable__label {background-color: #d4ebff;}#sk-container-id-6 div.sk-serial::before {content: \"\";position: absolute;border-left: 1px solid gray;box-sizing: border-box;top: 0;bottom: 0;left: 50%;z-index: 0;}#sk-container-id-6 div.sk-serial {display: flex;flex-direction: column;align-items: center;background-color: white;padding-right: 0.2em;padding-left: 0.2em;position: relative;}#sk-container-id-6 div.sk-item {position: relative;z-index: 1;}#sk-container-id-6 div.sk-parallel {display: flex;align-items: stretch;justify-content: center;background-color: white;position: relative;}#sk-container-id-6 div.sk-item::before, #sk-container-id-6 div.sk-parallel-item::before {content: \"\";position: absolute;border-left: 1px solid gray;box-sizing: border-box;top: 0;bottom: 0;left: 50%;z-index: -1;}#sk-container-id-6 div.sk-parallel-item {display: flex;flex-direction: column;z-index: 1;position: relative;background-color: white;}#sk-container-id-6 div.sk-parallel-item:first-child::after {align-self: flex-end;width: 50%;}#sk-container-id-6 div.sk-parallel-item:last-child::after {align-self: flex-start;width: 50%;}#sk-container-id-6 div.sk-parallel-item:only-child::after {width: 0;}#sk-container-id-6 div.sk-dashed-wrapped {border: 1px dashed gray;margin: 0 0.4em 0.5em 0.4em;box-sizing: border-box;padding-bottom: 0.4em;background-color: white;}#sk-container-id-6 div.sk-label label {font-family: monospace;font-weight: bold;display: inline-block;line-height: 1.2em;}#sk-container-id-6 div.sk-label-container {text-align: center;}#sk-container-id-6 div.sk-container {/* jupyter's `normalize.less` sets `[hidden] { display: none; }` but bootstrap.min.css set `[hidden] { display: none !important; }` so we also need the `!important` here to be able to override the default hidden behavior on the sphinx rendered scikit-learn.org. See: https://github.com/scikit-learn/scikit-learn/issues/21755 */display: inline-block !important;position: relative;}#sk-container-id-6 div.sk-text-repr-fallback {display: none;}</style><div id=\"sk-container-id-6\" class=\"sk-top-container\"><div class=\"sk-text-repr-fallback\"><pre>AdaBoostClassifier(base_estimator=RandomForestClassifier(max_depth=30,\n",
       "                                                         max_features=22,\n",
       "                                                         n_estimators=285,\n",
       "                                                         random_state=1),\n",
       "                   n_estimators=40, random_state=1)</pre><b>In a Jupyter environment, please rerun this cell to show the HTML representation or trust the notebook. <br />On GitHub, the HTML representation is unable to render, please try loading this page with nbviewer.org.</b></div><div class=\"sk-container\" hidden><div class=\"sk-item sk-dashed-wrapped\"><div class=\"sk-label-container\"><div class=\"sk-label sk-toggleable\"><input class=\"sk-toggleable__control sk-hidden--visually\" id=\"sk-estimator-id-16\" type=\"checkbox\" ><label for=\"sk-estimator-id-16\" class=\"sk-toggleable__label sk-toggleable__label-arrow\">AdaBoostClassifier</label><div class=\"sk-toggleable__content\"><pre>AdaBoostClassifier(base_estimator=RandomForestClassifier(max_depth=30,\n",
       "                                                         max_features=22,\n",
       "                                                         n_estimators=285,\n",
       "                                                         random_state=1),\n",
       "                   n_estimators=40, random_state=1)</pre></div></div></div><div class=\"sk-parallel\"><div class=\"sk-parallel-item\"><div class=\"sk-item\"><div class=\"sk-label-container\"><div class=\"sk-label sk-toggleable\"><input class=\"sk-toggleable__control sk-hidden--visually\" id=\"sk-estimator-id-17\" type=\"checkbox\" ><label for=\"sk-estimator-id-17\" class=\"sk-toggleable__label sk-toggleable__label-arrow\">base_estimator: RandomForestClassifier</label><div class=\"sk-toggleable__content\"><pre>RandomForestClassifier(max_depth=30, max_features=22, n_estimators=285,\n",
       "                       random_state=1)</pre></div></div></div><div class=\"sk-serial\"><div class=\"sk-item\"><div class=\"sk-estimator sk-toggleable\"><input class=\"sk-toggleable__control sk-hidden--visually\" id=\"sk-estimator-id-18\" type=\"checkbox\" ><label for=\"sk-estimator-id-18\" class=\"sk-toggleable__label sk-toggleable__label-arrow\">RandomForestClassifier</label><div class=\"sk-toggleable__content\"><pre>RandomForestClassifier(max_depth=30, max_features=22, n_estimators=285,\n",
       "                       random_state=1)</pre></div></div></div></div></div></div></div></div></div></div>"
      ],
      "text/plain": [
       "AdaBoostClassifier(base_estimator=RandomForestClassifier(max_depth=30,\n",
       "                                                         max_features=22,\n",
       "                                                         n_estimators=285,\n",
       "                                                         random_state=1),\n",
       "                   n_estimators=40, random_state=1)"
      ]
     },
     "execution_count": 112,
     "metadata": {},
     "output_type": "execute_result"
    }
   ],
   "source": [
    "rf7 = RandomForestClassifier(n_estimators=285, max_depth= 30, max_features= 22, random_state = 1) #best model\n",
    "rf7.fit(x_train, y_train)\n",
    "from sklearn.ensemble import AdaBoostClassifier\n",
    "ada11 = AdaBoostClassifier(base_estimator=rf7, n_estimators=40, learning_rate=1.0, random_state= 1)\n",
    "ada11.fit(x_train,y_train)"
   ]
  },
  {
   "cell_type": "markdown",
   "id": "976bc781",
   "metadata": {},
   "source": [
    "### AdaBoost 1.5"
   ]
  },
  {
   "cell_type": "code",
   "execution_count": 114,
   "id": "b4ce1021",
   "metadata": {},
   "outputs": [
    {
     "data": {
      "text/html": [
       "<style>#sk-container-id-7 {color: black;background-color: white;}#sk-container-id-7 pre{padding: 0;}#sk-container-id-7 div.sk-toggleable {background-color: white;}#sk-container-id-7 label.sk-toggleable__label {cursor: pointer;display: block;width: 100%;margin-bottom: 0;padding: 0.3em;box-sizing: border-box;text-align: center;}#sk-container-id-7 label.sk-toggleable__label-arrow:before {content: \"▸\";float: left;margin-right: 0.25em;color: #696969;}#sk-container-id-7 label.sk-toggleable__label-arrow:hover:before {color: black;}#sk-container-id-7 div.sk-estimator:hover label.sk-toggleable__label-arrow:before {color: black;}#sk-container-id-7 div.sk-toggleable__content {max-height: 0;max-width: 0;overflow: hidden;text-align: left;background-color: #f0f8ff;}#sk-container-id-7 div.sk-toggleable__content pre {margin: 0.2em;color: black;border-radius: 0.25em;background-color: #f0f8ff;}#sk-container-id-7 input.sk-toggleable__control:checked~div.sk-toggleable__content {max-height: 200px;max-width: 100%;overflow: auto;}#sk-container-id-7 input.sk-toggleable__control:checked~label.sk-toggleable__label-arrow:before {content: \"▾\";}#sk-container-id-7 div.sk-estimator input.sk-toggleable__control:checked~label.sk-toggleable__label {background-color: #d4ebff;}#sk-container-id-7 div.sk-label input.sk-toggleable__control:checked~label.sk-toggleable__label {background-color: #d4ebff;}#sk-container-id-7 input.sk-hidden--visually {border: 0;clip: rect(1px 1px 1px 1px);clip: rect(1px, 1px, 1px, 1px);height: 1px;margin: -1px;overflow: hidden;padding: 0;position: absolute;width: 1px;}#sk-container-id-7 div.sk-estimator {font-family: monospace;background-color: #f0f8ff;border: 1px dotted black;border-radius: 0.25em;box-sizing: border-box;margin-bottom: 0.5em;}#sk-container-id-7 div.sk-estimator:hover {background-color: #d4ebff;}#sk-container-id-7 div.sk-parallel-item::after {content: \"\";width: 100%;border-bottom: 1px solid gray;flex-grow: 1;}#sk-container-id-7 div.sk-label:hover label.sk-toggleable__label {background-color: #d4ebff;}#sk-container-id-7 div.sk-serial::before {content: \"\";position: absolute;border-left: 1px solid gray;box-sizing: border-box;top: 0;bottom: 0;left: 50%;z-index: 0;}#sk-container-id-7 div.sk-serial {display: flex;flex-direction: column;align-items: center;background-color: white;padding-right: 0.2em;padding-left: 0.2em;position: relative;}#sk-container-id-7 div.sk-item {position: relative;z-index: 1;}#sk-container-id-7 div.sk-parallel {display: flex;align-items: stretch;justify-content: center;background-color: white;position: relative;}#sk-container-id-7 div.sk-item::before, #sk-container-id-7 div.sk-parallel-item::before {content: \"\";position: absolute;border-left: 1px solid gray;box-sizing: border-box;top: 0;bottom: 0;left: 50%;z-index: -1;}#sk-container-id-7 div.sk-parallel-item {display: flex;flex-direction: column;z-index: 1;position: relative;background-color: white;}#sk-container-id-7 div.sk-parallel-item:first-child::after {align-self: flex-end;width: 50%;}#sk-container-id-7 div.sk-parallel-item:last-child::after {align-self: flex-start;width: 50%;}#sk-container-id-7 div.sk-parallel-item:only-child::after {width: 0;}#sk-container-id-7 div.sk-dashed-wrapped {border: 1px dashed gray;margin: 0 0.4em 0.5em 0.4em;box-sizing: border-box;padding-bottom: 0.4em;background-color: white;}#sk-container-id-7 div.sk-label label {font-family: monospace;font-weight: bold;display: inline-block;line-height: 1.2em;}#sk-container-id-7 div.sk-label-container {text-align: center;}#sk-container-id-7 div.sk-container {/* jupyter's `normalize.less` sets `[hidden] { display: none; }` but bootstrap.min.css set `[hidden] { display: none !important; }` so we also need the `!important` here to be able to override the default hidden behavior on the sphinx rendered scikit-learn.org. See: https://github.com/scikit-learn/scikit-learn/issues/21755 */display: inline-block !important;position: relative;}#sk-container-id-7 div.sk-text-repr-fallback {display: none;}</style><div id=\"sk-container-id-7\" class=\"sk-top-container\"><div class=\"sk-text-repr-fallback\"><pre>AdaBoostClassifier(base_estimator=RandomForestClassifier(max_depth=30,\n",
       "                                                         max_features=23,\n",
       "                                                         n_estimators=285,\n",
       "                                                         random_state=1),\n",
       "                   n_estimators=40, random_state=1)</pre><b>In a Jupyter environment, please rerun this cell to show the HTML representation or trust the notebook. <br />On GitHub, the HTML representation is unable to render, please try loading this page with nbviewer.org.</b></div><div class=\"sk-container\" hidden><div class=\"sk-item sk-dashed-wrapped\"><div class=\"sk-label-container\"><div class=\"sk-label sk-toggleable\"><input class=\"sk-toggleable__control sk-hidden--visually\" id=\"sk-estimator-id-19\" type=\"checkbox\" ><label for=\"sk-estimator-id-19\" class=\"sk-toggleable__label sk-toggleable__label-arrow\">AdaBoostClassifier</label><div class=\"sk-toggleable__content\"><pre>AdaBoostClassifier(base_estimator=RandomForestClassifier(max_depth=30,\n",
       "                                                         max_features=23,\n",
       "                                                         n_estimators=285,\n",
       "                                                         random_state=1),\n",
       "                   n_estimators=40, random_state=1)</pre></div></div></div><div class=\"sk-parallel\"><div class=\"sk-parallel-item\"><div class=\"sk-item\"><div class=\"sk-label-container\"><div class=\"sk-label sk-toggleable\"><input class=\"sk-toggleable__control sk-hidden--visually\" id=\"sk-estimator-id-20\" type=\"checkbox\" ><label for=\"sk-estimator-id-20\" class=\"sk-toggleable__label sk-toggleable__label-arrow\">base_estimator: RandomForestClassifier</label><div class=\"sk-toggleable__content\"><pre>RandomForestClassifier(max_depth=30, max_features=23, n_estimators=285,\n",
       "                       random_state=1)</pre></div></div></div><div class=\"sk-serial\"><div class=\"sk-item\"><div class=\"sk-estimator sk-toggleable\"><input class=\"sk-toggleable__control sk-hidden--visually\" id=\"sk-estimator-id-21\" type=\"checkbox\" ><label for=\"sk-estimator-id-21\" class=\"sk-toggleable__label sk-toggleable__label-arrow\">RandomForestClassifier</label><div class=\"sk-toggleable__content\"><pre>RandomForestClassifier(max_depth=30, max_features=23, n_estimators=285,\n",
       "                       random_state=1)</pre></div></div></div></div></div></div></div></div></div></div>"
      ],
      "text/plain": [
       "AdaBoostClassifier(base_estimator=RandomForestClassifier(max_depth=30,\n",
       "                                                         max_features=23,\n",
       "                                                         n_estimators=285,\n",
       "                                                         random_state=1),\n",
       "                   n_estimators=40, random_state=1)"
      ]
     },
     "execution_count": 114,
     "metadata": {},
     "output_type": "execute_result"
    }
   ],
   "source": [
    "rf8 = RandomForestClassifier(n_estimators=285, max_depth= 30, max_features= 23, random_state = 1) \n",
    "rf8.fit(x_train, y_train)\n",
    "from sklearn.ensemble import AdaBoostClassifier\n",
    "ada12 = AdaBoostClassifier(base_estimator=rf8, n_estimators=40, learning_rate=1.0, random_state= 1)\n",
    "ada12.fit(x_train,y_train)"
   ]
  },
  {
   "cell_type": "markdown",
   "id": "3f81b4a6",
   "metadata": {},
   "source": [
    "### AdaBoost 1.6"
   ]
  },
  {
   "cell_type": "code",
   "execution_count": 116,
   "id": "97a5cefc",
   "metadata": {},
   "outputs": [
    {
     "data": {
      "text/html": [
       "<style>#sk-container-id-8 {color: black;background-color: white;}#sk-container-id-8 pre{padding: 0;}#sk-container-id-8 div.sk-toggleable {background-color: white;}#sk-container-id-8 label.sk-toggleable__label {cursor: pointer;display: block;width: 100%;margin-bottom: 0;padding: 0.3em;box-sizing: border-box;text-align: center;}#sk-container-id-8 label.sk-toggleable__label-arrow:before {content: \"▸\";float: left;margin-right: 0.25em;color: #696969;}#sk-container-id-8 label.sk-toggleable__label-arrow:hover:before {color: black;}#sk-container-id-8 div.sk-estimator:hover label.sk-toggleable__label-arrow:before {color: black;}#sk-container-id-8 div.sk-toggleable__content {max-height: 0;max-width: 0;overflow: hidden;text-align: left;background-color: #f0f8ff;}#sk-container-id-8 div.sk-toggleable__content pre {margin: 0.2em;color: black;border-radius: 0.25em;background-color: #f0f8ff;}#sk-container-id-8 input.sk-toggleable__control:checked~div.sk-toggleable__content {max-height: 200px;max-width: 100%;overflow: auto;}#sk-container-id-8 input.sk-toggleable__control:checked~label.sk-toggleable__label-arrow:before {content: \"▾\";}#sk-container-id-8 div.sk-estimator input.sk-toggleable__control:checked~label.sk-toggleable__label {background-color: #d4ebff;}#sk-container-id-8 div.sk-label input.sk-toggleable__control:checked~label.sk-toggleable__label {background-color: #d4ebff;}#sk-container-id-8 input.sk-hidden--visually {border: 0;clip: rect(1px 1px 1px 1px);clip: rect(1px, 1px, 1px, 1px);height: 1px;margin: -1px;overflow: hidden;padding: 0;position: absolute;width: 1px;}#sk-container-id-8 div.sk-estimator {font-family: monospace;background-color: #f0f8ff;border: 1px dotted black;border-radius: 0.25em;box-sizing: border-box;margin-bottom: 0.5em;}#sk-container-id-8 div.sk-estimator:hover {background-color: #d4ebff;}#sk-container-id-8 div.sk-parallel-item::after {content: \"\";width: 100%;border-bottom: 1px solid gray;flex-grow: 1;}#sk-container-id-8 div.sk-label:hover label.sk-toggleable__label {background-color: #d4ebff;}#sk-container-id-8 div.sk-serial::before {content: \"\";position: absolute;border-left: 1px solid gray;box-sizing: border-box;top: 0;bottom: 0;left: 50%;z-index: 0;}#sk-container-id-8 div.sk-serial {display: flex;flex-direction: column;align-items: center;background-color: white;padding-right: 0.2em;padding-left: 0.2em;position: relative;}#sk-container-id-8 div.sk-item {position: relative;z-index: 1;}#sk-container-id-8 div.sk-parallel {display: flex;align-items: stretch;justify-content: center;background-color: white;position: relative;}#sk-container-id-8 div.sk-item::before, #sk-container-id-8 div.sk-parallel-item::before {content: \"\";position: absolute;border-left: 1px solid gray;box-sizing: border-box;top: 0;bottom: 0;left: 50%;z-index: -1;}#sk-container-id-8 div.sk-parallel-item {display: flex;flex-direction: column;z-index: 1;position: relative;background-color: white;}#sk-container-id-8 div.sk-parallel-item:first-child::after {align-self: flex-end;width: 50%;}#sk-container-id-8 div.sk-parallel-item:last-child::after {align-self: flex-start;width: 50%;}#sk-container-id-8 div.sk-parallel-item:only-child::after {width: 0;}#sk-container-id-8 div.sk-dashed-wrapped {border: 1px dashed gray;margin: 0 0.4em 0.5em 0.4em;box-sizing: border-box;padding-bottom: 0.4em;background-color: white;}#sk-container-id-8 div.sk-label label {font-family: monospace;font-weight: bold;display: inline-block;line-height: 1.2em;}#sk-container-id-8 div.sk-label-container {text-align: center;}#sk-container-id-8 div.sk-container {/* jupyter's `normalize.less` sets `[hidden] { display: none; }` but bootstrap.min.css set `[hidden] { display: none !important; }` so we also need the `!important` here to be able to override the default hidden behavior on the sphinx rendered scikit-learn.org. See: https://github.com/scikit-learn/scikit-learn/issues/21755 */display: inline-block !important;position: relative;}#sk-container-id-8 div.sk-text-repr-fallback {display: none;}</style><div id=\"sk-container-id-8\" class=\"sk-top-container\"><div class=\"sk-text-repr-fallback\"><pre>AdaBoostClassifier(base_estimator=RandomForestClassifier(max_depth=30,\n",
       "                                                         max_features=22,\n",
       "                                                         n_estimators=285,\n",
       "                                                         random_state=1),\n",
       "                   n_estimators=42, random_state=1)</pre><b>In a Jupyter environment, please rerun this cell to show the HTML representation or trust the notebook. <br />On GitHub, the HTML representation is unable to render, please try loading this page with nbviewer.org.</b></div><div class=\"sk-container\" hidden><div class=\"sk-item sk-dashed-wrapped\"><div class=\"sk-label-container\"><div class=\"sk-label sk-toggleable\"><input class=\"sk-toggleable__control sk-hidden--visually\" id=\"sk-estimator-id-22\" type=\"checkbox\" ><label for=\"sk-estimator-id-22\" class=\"sk-toggleable__label sk-toggleable__label-arrow\">AdaBoostClassifier</label><div class=\"sk-toggleable__content\"><pre>AdaBoostClassifier(base_estimator=RandomForestClassifier(max_depth=30,\n",
       "                                                         max_features=22,\n",
       "                                                         n_estimators=285,\n",
       "                                                         random_state=1),\n",
       "                   n_estimators=42, random_state=1)</pre></div></div></div><div class=\"sk-parallel\"><div class=\"sk-parallel-item\"><div class=\"sk-item\"><div class=\"sk-label-container\"><div class=\"sk-label sk-toggleable\"><input class=\"sk-toggleable__control sk-hidden--visually\" id=\"sk-estimator-id-23\" type=\"checkbox\" ><label for=\"sk-estimator-id-23\" class=\"sk-toggleable__label sk-toggleable__label-arrow\">base_estimator: RandomForestClassifier</label><div class=\"sk-toggleable__content\"><pre>RandomForestClassifier(max_depth=30, max_features=22, n_estimators=285,\n",
       "                       random_state=1)</pre></div></div></div><div class=\"sk-serial\"><div class=\"sk-item\"><div class=\"sk-estimator sk-toggleable\"><input class=\"sk-toggleable__control sk-hidden--visually\" id=\"sk-estimator-id-24\" type=\"checkbox\" ><label for=\"sk-estimator-id-24\" class=\"sk-toggleable__label sk-toggleable__label-arrow\">RandomForestClassifier</label><div class=\"sk-toggleable__content\"><pre>RandomForestClassifier(max_depth=30, max_features=22, n_estimators=285,\n",
       "                       random_state=1)</pre></div></div></div></div></div></div></div></div></div></div>"
      ],
      "text/plain": [
       "AdaBoostClassifier(base_estimator=RandomForestClassifier(max_depth=30,\n",
       "                                                         max_features=22,\n",
       "                                                         n_estimators=285,\n",
       "                                                         random_state=1),\n",
       "                   n_estimators=42, random_state=1)"
      ]
     },
     "execution_count": 116,
     "metadata": {},
     "output_type": "execute_result"
    }
   ],
   "source": [
    "rf9 = RandomForestClassifier(n_estimators=285, max_depth= 30, max_features= 22, random_state = 1) \n",
    "rf9.fit(x_train, y_train)\n",
    "from sklearn.ensemble import AdaBoostClassifier\n",
    "ada13 = AdaBoostClassifier(base_estimator=rf9, n_estimators=42, learning_rate=1.0, random_state= 1)\n",
    "ada13.fit(x_train,y_train)"
   ]
  },
  {
   "cell_type": "markdown",
   "id": "0913d9d7",
   "metadata": {},
   "source": [
    "### AdaBoost 1.7"
   ]
  },
  {
   "cell_type": "code",
   "execution_count": 118,
   "id": "dd03b9a6",
   "metadata": {},
   "outputs": [
    {
     "data": {
      "text/html": [
       "<style>#sk-container-id-9 {color: black;background-color: white;}#sk-container-id-9 pre{padding: 0;}#sk-container-id-9 div.sk-toggleable {background-color: white;}#sk-container-id-9 label.sk-toggleable__label {cursor: pointer;display: block;width: 100%;margin-bottom: 0;padding: 0.3em;box-sizing: border-box;text-align: center;}#sk-container-id-9 label.sk-toggleable__label-arrow:before {content: \"▸\";float: left;margin-right: 0.25em;color: #696969;}#sk-container-id-9 label.sk-toggleable__label-arrow:hover:before {color: black;}#sk-container-id-9 div.sk-estimator:hover label.sk-toggleable__label-arrow:before {color: black;}#sk-container-id-9 div.sk-toggleable__content {max-height: 0;max-width: 0;overflow: hidden;text-align: left;background-color: #f0f8ff;}#sk-container-id-9 div.sk-toggleable__content pre {margin: 0.2em;color: black;border-radius: 0.25em;background-color: #f0f8ff;}#sk-container-id-9 input.sk-toggleable__control:checked~div.sk-toggleable__content {max-height: 200px;max-width: 100%;overflow: auto;}#sk-container-id-9 input.sk-toggleable__control:checked~label.sk-toggleable__label-arrow:before {content: \"▾\";}#sk-container-id-9 div.sk-estimator input.sk-toggleable__control:checked~label.sk-toggleable__label {background-color: #d4ebff;}#sk-container-id-9 div.sk-label input.sk-toggleable__control:checked~label.sk-toggleable__label {background-color: #d4ebff;}#sk-container-id-9 input.sk-hidden--visually {border: 0;clip: rect(1px 1px 1px 1px);clip: rect(1px, 1px, 1px, 1px);height: 1px;margin: -1px;overflow: hidden;padding: 0;position: absolute;width: 1px;}#sk-container-id-9 div.sk-estimator {font-family: monospace;background-color: #f0f8ff;border: 1px dotted black;border-radius: 0.25em;box-sizing: border-box;margin-bottom: 0.5em;}#sk-container-id-9 div.sk-estimator:hover {background-color: #d4ebff;}#sk-container-id-9 div.sk-parallel-item::after {content: \"\";width: 100%;border-bottom: 1px solid gray;flex-grow: 1;}#sk-container-id-9 div.sk-label:hover label.sk-toggleable__label {background-color: #d4ebff;}#sk-container-id-9 div.sk-serial::before {content: \"\";position: absolute;border-left: 1px solid gray;box-sizing: border-box;top: 0;bottom: 0;left: 50%;z-index: 0;}#sk-container-id-9 div.sk-serial {display: flex;flex-direction: column;align-items: center;background-color: white;padding-right: 0.2em;padding-left: 0.2em;position: relative;}#sk-container-id-9 div.sk-item {position: relative;z-index: 1;}#sk-container-id-9 div.sk-parallel {display: flex;align-items: stretch;justify-content: center;background-color: white;position: relative;}#sk-container-id-9 div.sk-item::before, #sk-container-id-9 div.sk-parallel-item::before {content: \"\";position: absolute;border-left: 1px solid gray;box-sizing: border-box;top: 0;bottom: 0;left: 50%;z-index: -1;}#sk-container-id-9 div.sk-parallel-item {display: flex;flex-direction: column;z-index: 1;position: relative;background-color: white;}#sk-container-id-9 div.sk-parallel-item:first-child::after {align-self: flex-end;width: 50%;}#sk-container-id-9 div.sk-parallel-item:last-child::after {align-self: flex-start;width: 50%;}#sk-container-id-9 div.sk-parallel-item:only-child::after {width: 0;}#sk-container-id-9 div.sk-dashed-wrapped {border: 1px dashed gray;margin: 0 0.4em 0.5em 0.4em;box-sizing: border-box;padding-bottom: 0.4em;background-color: white;}#sk-container-id-9 div.sk-label label {font-family: monospace;font-weight: bold;display: inline-block;line-height: 1.2em;}#sk-container-id-9 div.sk-label-container {text-align: center;}#sk-container-id-9 div.sk-container {/* jupyter's `normalize.less` sets `[hidden] { display: none; }` but bootstrap.min.css set `[hidden] { display: none !important; }` so we also need the `!important` here to be able to override the default hidden behavior on the sphinx rendered scikit-learn.org. See: https://github.com/scikit-learn/scikit-learn/issues/21755 */display: inline-block !important;position: relative;}#sk-container-id-9 div.sk-text-repr-fallback {display: none;}</style><div id=\"sk-container-id-9\" class=\"sk-top-container\"><div class=\"sk-text-repr-fallback\"><pre>AdaBoostClassifier(base_estimator=RandomForestClassifier(max_depth=30,\n",
       "                                                         max_features=22,\n",
       "                                                         n_estimators=285,\n",
       "                                                         random_state=1),\n",
       "                   n_estimators=44, random_state=1)</pre><b>In a Jupyter environment, please rerun this cell to show the HTML representation or trust the notebook. <br />On GitHub, the HTML representation is unable to render, please try loading this page with nbviewer.org.</b></div><div class=\"sk-container\" hidden><div class=\"sk-item sk-dashed-wrapped\"><div class=\"sk-label-container\"><div class=\"sk-label sk-toggleable\"><input class=\"sk-toggleable__control sk-hidden--visually\" id=\"sk-estimator-id-25\" type=\"checkbox\" ><label for=\"sk-estimator-id-25\" class=\"sk-toggleable__label sk-toggleable__label-arrow\">AdaBoostClassifier</label><div class=\"sk-toggleable__content\"><pre>AdaBoostClassifier(base_estimator=RandomForestClassifier(max_depth=30,\n",
       "                                                         max_features=22,\n",
       "                                                         n_estimators=285,\n",
       "                                                         random_state=1),\n",
       "                   n_estimators=44, random_state=1)</pre></div></div></div><div class=\"sk-parallel\"><div class=\"sk-parallel-item\"><div class=\"sk-item\"><div class=\"sk-label-container\"><div class=\"sk-label sk-toggleable\"><input class=\"sk-toggleable__control sk-hidden--visually\" id=\"sk-estimator-id-26\" type=\"checkbox\" ><label for=\"sk-estimator-id-26\" class=\"sk-toggleable__label sk-toggleable__label-arrow\">base_estimator: RandomForestClassifier</label><div class=\"sk-toggleable__content\"><pre>RandomForestClassifier(max_depth=30, max_features=22, n_estimators=285,\n",
       "                       random_state=1)</pre></div></div></div><div class=\"sk-serial\"><div class=\"sk-item\"><div class=\"sk-estimator sk-toggleable\"><input class=\"sk-toggleable__control sk-hidden--visually\" id=\"sk-estimator-id-27\" type=\"checkbox\" ><label for=\"sk-estimator-id-27\" class=\"sk-toggleable__label sk-toggleable__label-arrow\">RandomForestClassifier</label><div class=\"sk-toggleable__content\"><pre>RandomForestClassifier(max_depth=30, max_features=22, n_estimators=285,\n",
       "                       random_state=1)</pre></div></div></div></div></div></div></div></div></div></div>"
      ],
      "text/plain": [
       "AdaBoostClassifier(base_estimator=RandomForestClassifier(max_depth=30,\n",
       "                                                         max_features=22,\n",
       "                                                         n_estimators=285,\n",
       "                                                         random_state=1),\n",
       "                   n_estimators=44, random_state=1)"
      ]
     },
     "execution_count": 118,
     "metadata": {},
     "output_type": "execute_result"
    }
   ],
   "source": [
    "rf10 = RandomForestClassifier(n_estimators=285, max_depth= 30, max_features= 22, random_state = 1) \n",
    "rf10.fit(x_train, y_train)\n",
    "from sklearn.ensemble import AdaBoostClassifier\n",
    "ada14 = AdaBoostClassifier(base_estimator=rf10, n_estimators=44, learning_rate=1.0, random_state= 1)\n",
    "ada14.fit(x_train,y_train)"
   ]
  },
  {
   "cell_type": "markdown",
   "id": "c6b8d025",
   "metadata": {},
   "source": [
    "### AdaBoost 1.8"
   ]
  },
  {
   "cell_type": "code",
   "execution_count": 122,
   "id": "93600d0c",
   "metadata": {},
   "outputs": [
    {
     "data": {
      "text/html": [
       "<style>#sk-container-id-10 {color: black;background-color: white;}#sk-container-id-10 pre{padding: 0;}#sk-container-id-10 div.sk-toggleable {background-color: white;}#sk-container-id-10 label.sk-toggleable__label {cursor: pointer;display: block;width: 100%;margin-bottom: 0;padding: 0.3em;box-sizing: border-box;text-align: center;}#sk-container-id-10 label.sk-toggleable__label-arrow:before {content: \"▸\";float: left;margin-right: 0.25em;color: #696969;}#sk-container-id-10 label.sk-toggleable__label-arrow:hover:before {color: black;}#sk-container-id-10 div.sk-estimator:hover label.sk-toggleable__label-arrow:before {color: black;}#sk-container-id-10 div.sk-toggleable__content {max-height: 0;max-width: 0;overflow: hidden;text-align: left;background-color: #f0f8ff;}#sk-container-id-10 div.sk-toggleable__content pre {margin: 0.2em;color: black;border-radius: 0.25em;background-color: #f0f8ff;}#sk-container-id-10 input.sk-toggleable__control:checked~div.sk-toggleable__content {max-height: 200px;max-width: 100%;overflow: auto;}#sk-container-id-10 input.sk-toggleable__control:checked~label.sk-toggleable__label-arrow:before {content: \"▾\";}#sk-container-id-10 div.sk-estimator input.sk-toggleable__control:checked~label.sk-toggleable__label {background-color: #d4ebff;}#sk-container-id-10 div.sk-label input.sk-toggleable__control:checked~label.sk-toggleable__label {background-color: #d4ebff;}#sk-container-id-10 input.sk-hidden--visually {border: 0;clip: rect(1px 1px 1px 1px);clip: rect(1px, 1px, 1px, 1px);height: 1px;margin: -1px;overflow: hidden;padding: 0;position: absolute;width: 1px;}#sk-container-id-10 div.sk-estimator {font-family: monospace;background-color: #f0f8ff;border: 1px dotted black;border-radius: 0.25em;box-sizing: border-box;margin-bottom: 0.5em;}#sk-container-id-10 div.sk-estimator:hover {background-color: #d4ebff;}#sk-container-id-10 div.sk-parallel-item::after {content: \"\";width: 100%;border-bottom: 1px solid gray;flex-grow: 1;}#sk-container-id-10 div.sk-label:hover label.sk-toggleable__label {background-color: #d4ebff;}#sk-container-id-10 div.sk-serial::before {content: \"\";position: absolute;border-left: 1px solid gray;box-sizing: border-box;top: 0;bottom: 0;left: 50%;z-index: 0;}#sk-container-id-10 div.sk-serial {display: flex;flex-direction: column;align-items: center;background-color: white;padding-right: 0.2em;padding-left: 0.2em;position: relative;}#sk-container-id-10 div.sk-item {position: relative;z-index: 1;}#sk-container-id-10 div.sk-parallel {display: flex;align-items: stretch;justify-content: center;background-color: white;position: relative;}#sk-container-id-10 div.sk-item::before, #sk-container-id-10 div.sk-parallel-item::before {content: \"\";position: absolute;border-left: 1px solid gray;box-sizing: border-box;top: 0;bottom: 0;left: 50%;z-index: -1;}#sk-container-id-10 div.sk-parallel-item {display: flex;flex-direction: column;z-index: 1;position: relative;background-color: white;}#sk-container-id-10 div.sk-parallel-item:first-child::after {align-self: flex-end;width: 50%;}#sk-container-id-10 div.sk-parallel-item:last-child::after {align-self: flex-start;width: 50%;}#sk-container-id-10 div.sk-parallel-item:only-child::after {width: 0;}#sk-container-id-10 div.sk-dashed-wrapped {border: 1px dashed gray;margin: 0 0.4em 0.5em 0.4em;box-sizing: border-box;padding-bottom: 0.4em;background-color: white;}#sk-container-id-10 div.sk-label label {font-family: monospace;font-weight: bold;display: inline-block;line-height: 1.2em;}#sk-container-id-10 div.sk-label-container {text-align: center;}#sk-container-id-10 div.sk-container {/* jupyter's `normalize.less` sets `[hidden] { display: none; }` but bootstrap.min.css set `[hidden] { display: none !important; }` so we also need the `!important` here to be able to override the default hidden behavior on the sphinx rendered scikit-learn.org. See: https://github.com/scikit-learn/scikit-learn/issues/21755 */display: inline-block !important;position: relative;}#sk-container-id-10 div.sk-text-repr-fallback {display: none;}</style><div id=\"sk-container-id-10\" class=\"sk-top-container\"><div class=\"sk-text-repr-fallback\"><pre>AdaBoostClassifier(base_estimator=RandomForestClassifier(max_depth=30,\n",
       "                                                         max_features=22,\n",
       "                                                         n_estimators=290,\n",
       "                                                         random_state=1),\n",
       "                   n_estimators=44, random_state=1)</pre><b>In a Jupyter environment, please rerun this cell to show the HTML representation or trust the notebook. <br />On GitHub, the HTML representation is unable to render, please try loading this page with nbviewer.org.</b></div><div class=\"sk-container\" hidden><div class=\"sk-item sk-dashed-wrapped\"><div class=\"sk-label-container\"><div class=\"sk-label sk-toggleable\"><input class=\"sk-toggleable__control sk-hidden--visually\" id=\"sk-estimator-id-28\" type=\"checkbox\" ><label for=\"sk-estimator-id-28\" class=\"sk-toggleable__label sk-toggleable__label-arrow\">AdaBoostClassifier</label><div class=\"sk-toggleable__content\"><pre>AdaBoostClassifier(base_estimator=RandomForestClassifier(max_depth=30,\n",
       "                                                         max_features=22,\n",
       "                                                         n_estimators=290,\n",
       "                                                         random_state=1),\n",
       "                   n_estimators=44, random_state=1)</pre></div></div></div><div class=\"sk-parallel\"><div class=\"sk-parallel-item\"><div class=\"sk-item\"><div class=\"sk-label-container\"><div class=\"sk-label sk-toggleable\"><input class=\"sk-toggleable__control sk-hidden--visually\" id=\"sk-estimator-id-29\" type=\"checkbox\" ><label for=\"sk-estimator-id-29\" class=\"sk-toggleable__label sk-toggleable__label-arrow\">base_estimator: RandomForestClassifier</label><div class=\"sk-toggleable__content\"><pre>RandomForestClassifier(max_depth=30, max_features=22, n_estimators=290,\n",
       "                       random_state=1)</pre></div></div></div><div class=\"sk-serial\"><div class=\"sk-item\"><div class=\"sk-estimator sk-toggleable\"><input class=\"sk-toggleable__control sk-hidden--visually\" id=\"sk-estimator-id-30\" type=\"checkbox\" ><label for=\"sk-estimator-id-30\" class=\"sk-toggleable__label sk-toggleable__label-arrow\">RandomForestClassifier</label><div class=\"sk-toggleable__content\"><pre>RandomForestClassifier(max_depth=30, max_features=22, n_estimators=290,\n",
       "                       random_state=1)</pre></div></div></div></div></div></div></div></div></div></div>"
      ],
      "text/plain": [
       "AdaBoostClassifier(base_estimator=RandomForestClassifier(max_depth=30,\n",
       "                                                         max_features=22,\n",
       "                                                         n_estimators=290,\n",
       "                                                         random_state=1),\n",
       "                   n_estimators=44, random_state=1)"
      ]
     },
     "execution_count": 122,
     "metadata": {},
     "output_type": "execute_result"
    }
   ],
   "source": [
    "rf11 = RandomForestClassifier(n_estimators=290, max_depth= 30, max_features= 22, random_state = 1) \n",
    "rf11.fit(x_train, y_train)\n",
    "from sklearn.ensemble import AdaBoostClassifier\n",
    "ada15 = AdaBoostClassifier(base_estimator=rf11, n_estimators=44, learning_rate=1.0, random_state= 1)\n",
    "ada15.fit(x_train,y_train)"
   ]
  },
  {
   "cell_type": "markdown",
   "id": "7cf6d5a4",
   "metadata": {},
   "source": [
    "### AdaBoost 1.9"
   ]
  },
  {
   "cell_type": "code",
   "execution_count": 124,
   "id": "e739f4f8",
   "metadata": {},
   "outputs": [
    {
     "data": {
      "text/html": [
       "<style>#sk-container-id-11 {color: black;background-color: white;}#sk-container-id-11 pre{padding: 0;}#sk-container-id-11 div.sk-toggleable {background-color: white;}#sk-container-id-11 label.sk-toggleable__label {cursor: pointer;display: block;width: 100%;margin-bottom: 0;padding: 0.3em;box-sizing: border-box;text-align: center;}#sk-container-id-11 label.sk-toggleable__label-arrow:before {content: \"▸\";float: left;margin-right: 0.25em;color: #696969;}#sk-container-id-11 label.sk-toggleable__label-arrow:hover:before {color: black;}#sk-container-id-11 div.sk-estimator:hover label.sk-toggleable__label-arrow:before {color: black;}#sk-container-id-11 div.sk-toggleable__content {max-height: 0;max-width: 0;overflow: hidden;text-align: left;background-color: #f0f8ff;}#sk-container-id-11 div.sk-toggleable__content pre {margin: 0.2em;color: black;border-radius: 0.25em;background-color: #f0f8ff;}#sk-container-id-11 input.sk-toggleable__control:checked~div.sk-toggleable__content {max-height: 200px;max-width: 100%;overflow: auto;}#sk-container-id-11 input.sk-toggleable__control:checked~label.sk-toggleable__label-arrow:before {content: \"▾\";}#sk-container-id-11 div.sk-estimator input.sk-toggleable__control:checked~label.sk-toggleable__label {background-color: #d4ebff;}#sk-container-id-11 div.sk-label input.sk-toggleable__control:checked~label.sk-toggleable__label {background-color: #d4ebff;}#sk-container-id-11 input.sk-hidden--visually {border: 0;clip: rect(1px 1px 1px 1px);clip: rect(1px, 1px, 1px, 1px);height: 1px;margin: -1px;overflow: hidden;padding: 0;position: absolute;width: 1px;}#sk-container-id-11 div.sk-estimator {font-family: monospace;background-color: #f0f8ff;border: 1px dotted black;border-radius: 0.25em;box-sizing: border-box;margin-bottom: 0.5em;}#sk-container-id-11 div.sk-estimator:hover {background-color: #d4ebff;}#sk-container-id-11 div.sk-parallel-item::after {content: \"\";width: 100%;border-bottom: 1px solid gray;flex-grow: 1;}#sk-container-id-11 div.sk-label:hover label.sk-toggleable__label {background-color: #d4ebff;}#sk-container-id-11 div.sk-serial::before {content: \"\";position: absolute;border-left: 1px solid gray;box-sizing: border-box;top: 0;bottom: 0;left: 50%;z-index: 0;}#sk-container-id-11 div.sk-serial {display: flex;flex-direction: column;align-items: center;background-color: white;padding-right: 0.2em;padding-left: 0.2em;position: relative;}#sk-container-id-11 div.sk-item {position: relative;z-index: 1;}#sk-container-id-11 div.sk-parallel {display: flex;align-items: stretch;justify-content: center;background-color: white;position: relative;}#sk-container-id-11 div.sk-item::before, #sk-container-id-11 div.sk-parallel-item::before {content: \"\";position: absolute;border-left: 1px solid gray;box-sizing: border-box;top: 0;bottom: 0;left: 50%;z-index: -1;}#sk-container-id-11 div.sk-parallel-item {display: flex;flex-direction: column;z-index: 1;position: relative;background-color: white;}#sk-container-id-11 div.sk-parallel-item:first-child::after {align-self: flex-end;width: 50%;}#sk-container-id-11 div.sk-parallel-item:last-child::after {align-self: flex-start;width: 50%;}#sk-container-id-11 div.sk-parallel-item:only-child::after {width: 0;}#sk-container-id-11 div.sk-dashed-wrapped {border: 1px dashed gray;margin: 0 0.4em 0.5em 0.4em;box-sizing: border-box;padding-bottom: 0.4em;background-color: white;}#sk-container-id-11 div.sk-label label {font-family: monospace;font-weight: bold;display: inline-block;line-height: 1.2em;}#sk-container-id-11 div.sk-label-container {text-align: center;}#sk-container-id-11 div.sk-container {/* jupyter's `normalize.less` sets `[hidden] { display: none; }` but bootstrap.min.css set `[hidden] { display: none !important; }` so we also need the `!important` here to be able to override the default hidden behavior on the sphinx rendered scikit-learn.org. See: https://github.com/scikit-learn/scikit-learn/issues/21755 */display: inline-block !important;position: relative;}#sk-container-id-11 div.sk-text-repr-fallback {display: none;}</style><div id=\"sk-container-id-11\" class=\"sk-top-container\"><div class=\"sk-text-repr-fallback\"><pre>AdaBoostClassifier(base_estimator=RandomForestClassifier(max_depth=30,\n",
       "                                                         max_features=22,\n",
       "                                                         n_estimators=290,\n",
       "                                                         random_state=1),\n",
       "                   n_estimators=44, random_state=1)</pre><b>In a Jupyter environment, please rerun this cell to show the HTML representation or trust the notebook. <br />On GitHub, the HTML representation is unable to render, please try loading this page with nbviewer.org.</b></div><div class=\"sk-container\" hidden><div class=\"sk-item sk-dashed-wrapped\"><div class=\"sk-label-container\"><div class=\"sk-label sk-toggleable\"><input class=\"sk-toggleable__control sk-hidden--visually\" id=\"sk-estimator-id-31\" type=\"checkbox\" ><label for=\"sk-estimator-id-31\" class=\"sk-toggleable__label sk-toggleable__label-arrow\">AdaBoostClassifier</label><div class=\"sk-toggleable__content\"><pre>AdaBoostClassifier(base_estimator=RandomForestClassifier(max_depth=30,\n",
       "                                                         max_features=22,\n",
       "                                                         n_estimators=290,\n",
       "                                                         random_state=1),\n",
       "                   n_estimators=44, random_state=1)</pre></div></div></div><div class=\"sk-parallel\"><div class=\"sk-parallel-item\"><div class=\"sk-item\"><div class=\"sk-label-container\"><div class=\"sk-label sk-toggleable\"><input class=\"sk-toggleable__control sk-hidden--visually\" id=\"sk-estimator-id-32\" type=\"checkbox\" ><label for=\"sk-estimator-id-32\" class=\"sk-toggleable__label sk-toggleable__label-arrow\">base_estimator: RandomForestClassifier</label><div class=\"sk-toggleable__content\"><pre>RandomForestClassifier(max_depth=30, max_features=22, n_estimators=290,\n",
       "                       random_state=1)</pre></div></div></div><div class=\"sk-serial\"><div class=\"sk-item\"><div class=\"sk-estimator sk-toggleable\"><input class=\"sk-toggleable__control sk-hidden--visually\" id=\"sk-estimator-id-33\" type=\"checkbox\" ><label for=\"sk-estimator-id-33\" class=\"sk-toggleable__label sk-toggleable__label-arrow\">RandomForestClassifier</label><div class=\"sk-toggleable__content\"><pre>RandomForestClassifier(max_depth=30, max_features=22, n_estimators=290,\n",
       "                       random_state=1)</pre></div></div></div></div></div></div></div></div></div></div>"
      ],
      "text/plain": [
       "AdaBoostClassifier(base_estimator=RandomForestClassifier(max_depth=30,\n",
       "                                                         max_features=22,\n",
       "                                                         n_estimators=290,\n",
       "                                                         random_state=1),\n",
       "                   n_estimators=44, random_state=1)"
      ]
     },
     "execution_count": 124,
     "metadata": {},
     "output_type": "execute_result"
    }
   ],
   "source": [
    "rf12 = RandomForestClassifier(n_estimators=295, max_depth= 30, max_features= 22, random_state = 1) \n",
    "rf12.fit(x_train, y_train)\n",
    "from sklearn.ensemble import AdaBoostClassifier\n",
    "ada16 = AdaBoostClassifier(base_estimator=rf11, n_estimators=44, learning_rate=1.0, random_state= 1)\n",
    "ada16.fit(x_train,y_train)"
   ]
  },
  {
   "cell_type": "markdown",
   "id": "a9950a8d",
   "metadata": {},
   "source": [
    "### AdaBoost 2.0"
   ]
  },
  {
   "cell_type": "code",
   "execution_count": 126,
   "id": "0f51d2a7",
   "metadata": {},
   "outputs": [
    {
     "data": {
      "text/html": [
       "<style>#sk-container-id-12 {color: black;background-color: white;}#sk-container-id-12 pre{padding: 0;}#sk-container-id-12 div.sk-toggleable {background-color: white;}#sk-container-id-12 label.sk-toggleable__label {cursor: pointer;display: block;width: 100%;margin-bottom: 0;padding: 0.3em;box-sizing: border-box;text-align: center;}#sk-container-id-12 label.sk-toggleable__label-arrow:before {content: \"▸\";float: left;margin-right: 0.25em;color: #696969;}#sk-container-id-12 label.sk-toggleable__label-arrow:hover:before {color: black;}#sk-container-id-12 div.sk-estimator:hover label.sk-toggleable__label-arrow:before {color: black;}#sk-container-id-12 div.sk-toggleable__content {max-height: 0;max-width: 0;overflow: hidden;text-align: left;background-color: #f0f8ff;}#sk-container-id-12 div.sk-toggleable__content pre {margin: 0.2em;color: black;border-radius: 0.25em;background-color: #f0f8ff;}#sk-container-id-12 input.sk-toggleable__control:checked~div.sk-toggleable__content {max-height: 200px;max-width: 100%;overflow: auto;}#sk-container-id-12 input.sk-toggleable__control:checked~label.sk-toggleable__label-arrow:before {content: \"▾\";}#sk-container-id-12 div.sk-estimator input.sk-toggleable__control:checked~label.sk-toggleable__label {background-color: #d4ebff;}#sk-container-id-12 div.sk-label input.sk-toggleable__control:checked~label.sk-toggleable__label {background-color: #d4ebff;}#sk-container-id-12 input.sk-hidden--visually {border: 0;clip: rect(1px 1px 1px 1px);clip: rect(1px, 1px, 1px, 1px);height: 1px;margin: -1px;overflow: hidden;padding: 0;position: absolute;width: 1px;}#sk-container-id-12 div.sk-estimator {font-family: monospace;background-color: #f0f8ff;border: 1px dotted black;border-radius: 0.25em;box-sizing: border-box;margin-bottom: 0.5em;}#sk-container-id-12 div.sk-estimator:hover {background-color: #d4ebff;}#sk-container-id-12 div.sk-parallel-item::after {content: \"\";width: 100%;border-bottom: 1px solid gray;flex-grow: 1;}#sk-container-id-12 div.sk-label:hover label.sk-toggleable__label {background-color: #d4ebff;}#sk-container-id-12 div.sk-serial::before {content: \"\";position: absolute;border-left: 1px solid gray;box-sizing: border-box;top: 0;bottom: 0;left: 50%;z-index: 0;}#sk-container-id-12 div.sk-serial {display: flex;flex-direction: column;align-items: center;background-color: white;padding-right: 0.2em;padding-left: 0.2em;position: relative;}#sk-container-id-12 div.sk-item {position: relative;z-index: 1;}#sk-container-id-12 div.sk-parallel {display: flex;align-items: stretch;justify-content: center;background-color: white;position: relative;}#sk-container-id-12 div.sk-item::before, #sk-container-id-12 div.sk-parallel-item::before {content: \"\";position: absolute;border-left: 1px solid gray;box-sizing: border-box;top: 0;bottom: 0;left: 50%;z-index: -1;}#sk-container-id-12 div.sk-parallel-item {display: flex;flex-direction: column;z-index: 1;position: relative;background-color: white;}#sk-container-id-12 div.sk-parallel-item:first-child::after {align-self: flex-end;width: 50%;}#sk-container-id-12 div.sk-parallel-item:last-child::after {align-self: flex-start;width: 50%;}#sk-container-id-12 div.sk-parallel-item:only-child::after {width: 0;}#sk-container-id-12 div.sk-dashed-wrapped {border: 1px dashed gray;margin: 0 0.4em 0.5em 0.4em;box-sizing: border-box;padding-bottom: 0.4em;background-color: white;}#sk-container-id-12 div.sk-label label {font-family: monospace;font-weight: bold;display: inline-block;line-height: 1.2em;}#sk-container-id-12 div.sk-label-container {text-align: center;}#sk-container-id-12 div.sk-container {/* jupyter's `normalize.less` sets `[hidden] { display: none; }` but bootstrap.min.css set `[hidden] { display: none !important; }` so we also need the `!important` here to be able to override the default hidden behavior on the sphinx rendered scikit-learn.org. See: https://github.com/scikit-learn/scikit-learn/issues/21755 */display: inline-block !important;position: relative;}#sk-container-id-12 div.sk-text-repr-fallback {display: none;}</style><div id=\"sk-container-id-12\" class=\"sk-top-container\"><div class=\"sk-text-repr-fallback\"><pre>AdaBoostClassifier(base_estimator=RandomForestClassifier(max_depth=30,\n",
       "                                                         max_features=22,\n",
       "                                                         n_estimators=300,\n",
       "                                                         random_state=1),\n",
       "                   n_estimators=44, random_state=1)</pre><b>In a Jupyter environment, please rerun this cell to show the HTML representation or trust the notebook. <br />On GitHub, the HTML representation is unable to render, please try loading this page with nbviewer.org.</b></div><div class=\"sk-container\" hidden><div class=\"sk-item sk-dashed-wrapped\"><div class=\"sk-label-container\"><div class=\"sk-label sk-toggleable\"><input class=\"sk-toggleable__control sk-hidden--visually\" id=\"sk-estimator-id-34\" type=\"checkbox\" ><label for=\"sk-estimator-id-34\" class=\"sk-toggleable__label sk-toggleable__label-arrow\">AdaBoostClassifier</label><div class=\"sk-toggleable__content\"><pre>AdaBoostClassifier(base_estimator=RandomForestClassifier(max_depth=30,\n",
       "                                                         max_features=22,\n",
       "                                                         n_estimators=300,\n",
       "                                                         random_state=1),\n",
       "                   n_estimators=44, random_state=1)</pre></div></div></div><div class=\"sk-parallel\"><div class=\"sk-parallel-item\"><div class=\"sk-item\"><div class=\"sk-label-container\"><div class=\"sk-label sk-toggleable\"><input class=\"sk-toggleable__control sk-hidden--visually\" id=\"sk-estimator-id-35\" type=\"checkbox\" ><label for=\"sk-estimator-id-35\" class=\"sk-toggleable__label sk-toggleable__label-arrow\">base_estimator: RandomForestClassifier</label><div class=\"sk-toggleable__content\"><pre>RandomForestClassifier(max_depth=30, max_features=22, n_estimators=300,\n",
       "                       random_state=1)</pre></div></div></div><div class=\"sk-serial\"><div class=\"sk-item\"><div class=\"sk-estimator sk-toggleable\"><input class=\"sk-toggleable__control sk-hidden--visually\" id=\"sk-estimator-id-36\" type=\"checkbox\" ><label for=\"sk-estimator-id-36\" class=\"sk-toggleable__label sk-toggleable__label-arrow\">RandomForestClassifier</label><div class=\"sk-toggleable__content\"><pre>RandomForestClassifier(max_depth=30, max_features=22, n_estimators=300,\n",
       "                       random_state=1)</pre></div></div></div></div></div></div></div></div></div></div>"
      ],
      "text/plain": [
       "AdaBoostClassifier(base_estimator=RandomForestClassifier(max_depth=30,\n",
       "                                                         max_features=22,\n",
       "                                                         n_estimators=300,\n",
       "                                                         random_state=1),\n",
       "                   n_estimators=44, random_state=1)"
      ]
     },
     "execution_count": 126,
     "metadata": {},
     "output_type": "execute_result"
    }
   ],
   "source": [
    "rf13 = RandomForestClassifier(n_estimators=300, max_depth= 30, max_features= 22, random_state = 1) #best model\n",
    "rf13.fit(x_train, y_train)\n",
    "from sklearn.ensemble import AdaBoostClassifier\n",
    "ada17 = AdaBoostClassifier(base_estimator=rf13, n_estimators=44, learning_rate=1.0, random_state= 1)\n",
    "ada17.fit(x_train,y_train)"
   ]
  },
  {
   "cell_type": "markdown",
   "id": "0bebc797",
   "metadata": {},
   "source": [
    "### AdaBoost 2.1"
   ]
  },
  {
   "cell_type": "code",
   "execution_count": 99,
   "id": "4e486689",
   "metadata": {},
   "outputs": [
    {
     "data": {
      "text/html": [
       "<style>#sk-container-id-1 {color: black;background-color: white;}#sk-container-id-1 pre{padding: 0;}#sk-container-id-1 div.sk-toggleable {background-color: white;}#sk-container-id-1 label.sk-toggleable__label {cursor: pointer;display: block;width: 100%;margin-bottom: 0;padding: 0.3em;box-sizing: border-box;text-align: center;}#sk-container-id-1 label.sk-toggleable__label-arrow:before {content: \"▸\";float: left;margin-right: 0.25em;color: #696969;}#sk-container-id-1 label.sk-toggleable__label-arrow:hover:before {color: black;}#sk-container-id-1 div.sk-estimator:hover label.sk-toggleable__label-arrow:before {color: black;}#sk-container-id-1 div.sk-toggleable__content {max-height: 0;max-width: 0;overflow: hidden;text-align: left;background-color: #f0f8ff;}#sk-container-id-1 div.sk-toggleable__content pre {margin: 0.2em;color: black;border-radius: 0.25em;background-color: #f0f8ff;}#sk-container-id-1 input.sk-toggleable__control:checked~div.sk-toggleable__content {max-height: 200px;max-width: 100%;overflow: auto;}#sk-container-id-1 input.sk-toggleable__control:checked~label.sk-toggleable__label-arrow:before {content: \"▾\";}#sk-container-id-1 div.sk-estimator input.sk-toggleable__control:checked~label.sk-toggleable__label {background-color: #d4ebff;}#sk-container-id-1 div.sk-label input.sk-toggleable__control:checked~label.sk-toggleable__label {background-color: #d4ebff;}#sk-container-id-1 input.sk-hidden--visually {border: 0;clip: rect(1px 1px 1px 1px);clip: rect(1px, 1px, 1px, 1px);height: 1px;margin: -1px;overflow: hidden;padding: 0;position: absolute;width: 1px;}#sk-container-id-1 div.sk-estimator {font-family: monospace;background-color: #f0f8ff;border: 1px dotted black;border-radius: 0.25em;box-sizing: border-box;margin-bottom: 0.5em;}#sk-container-id-1 div.sk-estimator:hover {background-color: #d4ebff;}#sk-container-id-1 div.sk-parallel-item::after {content: \"\";width: 100%;border-bottom: 1px solid gray;flex-grow: 1;}#sk-container-id-1 div.sk-label:hover label.sk-toggleable__label {background-color: #d4ebff;}#sk-container-id-1 div.sk-serial::before {content: \"\";position: absolute;border-left: 1px solid gray;box-sizing: border-box;top: 0;bottom: 0;left: 50%;z-index: 0;}#sk-container-id-1 div.sk-serial {display: flex;flex-direction: column;align-items: center;background-color: white;padding-right: 0.2em;padding-left: 0.2em;position: relative;}#sk-container-id-1 div.sk-item {position: relative;z-index: 1;}#sk-container-id-1 div.sk-parallel {display: flex;align-items: stretch;justify-content: center;background-color: white;position: relative;}#sk-container-id-1 div.sk-item::before, #sk-container-id-1 div.sk-parallel-item::before {content: \"\";position: absolute;border-left: 1px solid gray;box-sizing: border-box;top: 0;bottom: 0;left: 50%;z-index: -1;}#sk-container-id-1 div.sk-parallel-item {display: flex;flex-direction: column;z-index: 1;position: relative;background-color: white;}#sk-container-id-1 div.sk-parallel-item:first-child::after {align-self: flex-end;width: 50%;}#sk-container-id-1 div.sk-parallel-item:last-child::after {align-self: flex-start;width: 50%;}#sk-container-id-1 div.sk-parallel-item:only-child::after {width: 0;}#sk-container-id-1 div.sk-dashed-wrapped {border: 1px dashed gray;margin: 0 0.4em 0.5em 0.4em;box-sizing: border-box;padding-bottom: 0.4em;background-color: white;}#sk-container-id-1 div.sk-label label {font-family: monospace;font-weight: bold;display: inline-block;line-height: 1.2em;}#sk-container-id-1 div.sk-label-container {text-align: center;}#sk-container-id-1 div.sk-container {/* jupyter's `normalize.less` sets `[hidden] { display: none; }` but bootstrap.min.css set `[hidden] { display: none !important; }` so we also need the `!important` here to be able to override the default hidden behavior on the sphinx rendered scikit-learn.org. See: https://github.com/scikit-learn/scikit-learn/issues/21755 */display: inline-block !important;position: relative;}#sk-container-id-1 div.sk-text-repr-fallback {display: none;}</style><div id=\"sk-container-id-1\" class=\"sk-top-container\"><div class=\"sk-text-repr-fallback\"><pre>AdaBoostClassifier(base_estimator=RandomForestClassifier(max_depth=30,\n",
       "                                                         max_features=22,\n",
       "                                                         n_estimators=305,\n",
       "                                                         random_state=1),\n",
       "                   n_estimators=44, random_state=1)</pre><b>In a Jupyter environment, please rerun this cell to show the HTML representation or trust the notebook. <br />On GitHub, the HTML representation is unable to render, please try loading this page with nbviewer.org.</b></div><div class=\"sk-container\" hidden><div class=\"sk-item sk-dashed-wrapped\"><div class=\"sk-label-container\"><div class=\"sk-label sk-toggleable\"><input class=\"sk-toggleable__control sk-hidden--visually\" id=\"sk-estimator-id-1\" type=\"checkbox\" ><label for=\"sk-estimator-id-1\" class=\"sk-toggleable__label sk-toggleable__label-arrow\">AdaBoostClassifier</label><div class=\"sk-toggleable__content\"><pre>AdaBoostClassifier(base_estimator=RandomForestClassifier(max_depth=30,\n",
       "                                                         max_features=22,\n",
       "                                                         n_estimators=305,\n",
       "                                                         random_state=1),\n",
       "                   n_estimators=44, random_state=1)</pre></div></div></div><div class=\"sk-parallel\"><div class=\"sk-parallel-item\"><div class=\"sk-item\"><div class=\"sk-label-container\"><div class=\"sk-label sk-toggleable\"><input class=\"sk-toggleable__control sk-hidden--visually\" id=\"sk-estimator-id-2\" type=\"checkbox\" ><label for=\"sk-estimator-id-2\" class=\"sk-toggleable__label sk-toggleable__label-arrow\">base_estimator: RandomForestClassifier</label><div class=\"sk-toggleable__content\"><pre>RandomForestClassifier(max_depth=30, max_features=22, n_estimators=305,\n",
       "                       random_state=1)</pre></div></div></div><div class=\"sk-serial\"><div class=\"sk-item\"><div class=\"sk-estimator sk-toggleable\"><input class=\"sk-toggleable__control sk-hidden--visually\" id=\"sk-estimator-id-3\" type=\"checkbox\" ><label for=\"sk-estimator-id-3\" class=\"sk-toggleable__label sk-toggleable__label-arrow\">RandomForestClassifier</label><div class=\"sk-toggleable__content\"><pre>RandomForestClassifier(max_depth=30, max_features=22, n_estimators=305,\n",
       "                       random_state=1)</pre></div></div></div></div></div></div></div></div></div></div>"
      ],
      "text/plain": [
       "AdaBoostClassifier(base_estimator=RandomForestClassifier(max_depth=30,\n",
       "                                                         max_features=22,\n",
       "                                                         n_estimators=305,\n",
       "                                                         random_state=1),\n",
       "                   n_estimators=44, random_state=1)"
      ]
     },
     "execution_count": 99,
     "metadata": {},
     "output_type": "execute_result"
    }
   ],
   "source": [
    "from sklearn.ensemble import RandomForestClassifier\n",
    "rf14 = RandomForestClassifier(n_estimators=305, max_depth= 30, max_features= 22, random_state = 1) \n",
    "rf14.fit(x_train, y_train)\n",
    "from sklearn.ensemble import AdaBoostClassifier\n",
    "ada18 = AdaBoostClassifier(base_estimator=rf14, n_estimators=44, learning_rate=1.0, random_state= 1)\n",
    "ada18.fit(x_train,y_train)"
   ]
  },
  {
   "cell_type": "markdown",
   "id": "6f8befb8",
   "metadata": {},
   "source": [
    "### AdaBoost 2.2"
   ]
  },
  {
   "cell_type": "code",
   "execution_count": 101,
   "id": "6278fd5c",
   "metadata": {},
   "outputs": [
    {
     "data": {
      "text/html": [
       "<style>#sk-container-id-2 {color: black;background-color: white;}#sk-container-id-2 pre{padding: 0;}#sk-container-id-2 div.sk-toggleable {background-color: white;}#sk-container-id-2 label.sk-toggleable__label {cursor: pointer;display: block;width: 100%;margin-bottom: 0;padding: 0.3em;box-sizing: border-box;text-align: center;}#sk-container-id-2 label.sk-toggleable__label-arrow:before {content: \"▸\";float: left;margin-right: 0.25em;color: #696969;}#sk-container-id-2 label.sk-toggleable__label-arrow:hover:before {color: black;}#sk-container-id-2 div.sk-estimator:hover label.sk-toggleable__label-arrow:before {color: black;}#sk-container-id-2 div.sk-toggleable__content {max-height: 0;max-width: 0;overflow: hidden;text-align: left;background-color: #f0f8ff;}#sk-container-id-2 div.sk-toggleable__content pre {margin: 0.2em;color: black;border-radius: 0.25em;background-color: #f0f8ff;}#sk-container-id-2 input.sk-toggleable__control:checked~div.sk-toggleable__content {max-height: 200px;max-width: 100%;overflow: auto;}#sk-container-id-2 input.sk-toggleable__control:checked~label.sk-toggleable__label-arrow:before {content: \"▾\";}#sk-container-id-2 div.sk-estimator input.sk-toggleable__control:checked~label.sk-toggleable__label {background-color: #d4ebff;}#sk-container-id-2 div.sk-label input.sk-toggleable__control:checked~label.sk-toggleable__label {background-color: #d4ebff;}#sk-container-id-2 input.sk-hidden--visually {border: 0;clip: rect(1px 1px 1px 1px);clip: rect(1px, 1px, 1px, 1px);height: 1px;margin: -1px;overflow: hidden;padding: 0;position: absolute;width: 1px;}#sk-container-id-2 div.sk-estimator {font-family: monospace;background-color: #f0f8ff;border: 1px dotted black;border-radius: 0.25em;box-sizing: border-box;margin-bottom: 0.5em;}#sk-container-id-2 div.sk-estimator:hover {background-color: #d4ebff;}#sk-container-id-2 div.sk-parallel-item::after {content: \"\";width: 100%;border-bottom: 1px solid gray;flex-grow: 1;}#sk-container-id-2 div.sk-label:hover label.sk-toggleable__label {background-color: #d4ebff;}#sk-container-id-2 div.sk-serial::before {content: \"\";position: absolute;border-left: 1px solid gray;box-sizing: border-box;top: 0;bottom: 0;left: 50%;z-index: 0;}#sk-container-id-2 div.sk-serial {display: flex;flex-direction: column;align-items: center;background-color: white;padding-right: 0.2em;padding-left: 0.2em;position: relative;}#sk-container-id-2 div.sk-item {position: relative;z-index: 1;}#sk-container-id-2 div.sk-parallel {display: flex;align-items: stretch;justify-content: center;background-color: white;position: relative;}#sk-container-id-2 div.sk-item::before, #sk-container-id-2 div.sk-parallel-item::before {content: \"\";position: absolute;border-left: 1px solid gray;box-sizing: border-box;top: 0;bottom: 0;left: 50%;z-index: -1;}#sk-container-id-2 div.sk-parallel-item {display: flex;flex-direction: column;z-index: 1;position: relative;background-color: white;}#sk-container-id-2 div.sk-parallel-item:first-child::after {align-self: flex-end;width: 50%;}#sk-container-id-2 div.sk-parallel-item:last-child::after {align-self: flex-start;width: 50%;}#sk-container-id-2 div.sk-parallel-item:only-child::after {width: 0;}#sk-container-id-2 div.sk-dashed-wrapped {border: 1px dashed gray;margin: 0 0.4em 0.5em 0.4em;box-sizing: border-box;padding-bottom: 0.4em;background-color: white;}#sk-container-id-2 div.sk-label label {font-family: monospace;font-weight: bold;display: inline-block;line-height: 1.2em;}#sk-container-id-2 div.sk-label-container {text-align: center;}#sk-container-id-2 div.sk-container {/* jupyter's `normalize.less` sets `[hidden] { display: none; }` but bootstrap.min.css set `[hidden] { display: none !important; }` so we also need the `!important` here to be able to override the default hidden behavior on the sphinx rendered scikit-learn.org. See: https://github.com/scikit-learn/scikit-learn/issues/21755 */display: inline-block !important;position: relative;}#sk-container-id-2 div.sk-text-repr-fallback {display: none;}</style><div id=\"sk-container-id-2\" class=\"sk-top-container\"><div class=\"sk-text-repr-fallback\"><pre>AdaBoostClassifier(base_estimator=RandomForestClassifier(max_depth=30,\n",
       "                                                         max_features=22,\n",
       "                                                         n_estimators=310,\n",
       "                                                         random_state=1),\n",
       "                   random_state=1)</pre><b>In a Jupyter environment, please rerun this cell to show the HTML representation or trust the notebook. <br />On GitHub, the HTML representation is unable to render, please try loading this page with nbviewer.org.</b></div><div class=\"sk-container\" hidden><div class=\"sk-item sk-dashed-wrapped\"><div class=\"sk-label-container\"><div class=\"sk-label sk-toggleable\"><input class=\"sk-toggleable__control sk-hidden--visually\" id=\"sk-estimator-id-4\" type=\"checkbox\" ><label for=\"sk-estimator-id-4\" class=\"sk-toggleable__label sk-toggleable__label-arrow\">AdaBoostClassifier</label><div class=\"sk-toggleable__content\"><pre>AdaBoostClassifier(base_estimator=RandomForestClassifier(max_depth=30,\n",
       "                                                         max_features=22,\n",
       "                                                         n_estimators=310,\n",
       "                                                         random_state=1),\n",
       "                   random_state=1)</pre></div></div></div><div class=\"sk-parallel\"><div class=\"sk-parallel-item\"><div class=\"sk-item\"><div class=\"sk-label-container\"><div class=\"sk-label sk-toggleable\"><input class=\"sk-toggleable__control sk-hidden--visually\" id=\"sk-estimator-id-5\" type=\"checkbox\" ><label for=\"sk-estimator-id-5\" class=\"sk-toggleable__label sk-toggleable__label-arrow\">base_estimator: RandomForestClassifier</label><div class=\"sk-toggleable__content\"><pre>RandomForestClassifier(max_depth=30, max_features=22, n_estimators=310,\n",
       "                       random_state=1)</pre></div></div></div><div class=\"sk-serial\"><div class=\"sk-item\"><div class=\"sk-estimator sk-toggleable\"><input class=\"sk-toggleable__control sk-hidden--visually\" id=\"sk-estimator-id-6\" type=\"checkbox\" ><label for=\"sk-estimator-id-6\" class=\"sk-toggleable__label sk-toggleable__label-arrow\">RandomForestClassifier</label><div class=\"sk-toggleable__content\"><pre>RandomForestClassifier(max_depth=30, max_features=22, n_estimators=310,\n",
       "                       random_state=1)</pre></div></div></div></div></div></div></div></div></div></div>"
      ],
      "text/plain": [
       "AdaBoostClassifier(base_estimator=RandomForestClassifier(max_depth=30,\n",
       "                                                         max_features=22,\n",
       "                                                         n_estimators=310,\n",
       "                                                         random_state=1),\n",
       "                   random_state=1)"
      ]
     },
     "execution_count": 101,
     "metadata": {},
     "output_type": "execute_result"
    }
   ],
   "source": [
    "from sklearn.ensemble import RandomForestClassifier\n",
    "rf15 = RandomForestClassifier(n_estimators=310, max_depth= 30, max_features= 22, random_state = 1) \n",
    "rf15.fit(x_train, y_train)\n",
    "from sklearn.ensemble import AdaBoostClassifier\n",
    "ada19 = AdaBoostClassifier(base_estimator=rf15, n_estimators=50, learning_rate=1.0, random_state= 1)\n",
    "ada19.fit(x_train,y_train)"
   ]
  },
  {
   "cell_type": "markdown",
   "id": "254e0d73",
   "metadata": {},
   "source": [
    "### AdaBoost 2.3"
   ]
  },
  {
   "cell_type": "code",
   "execution_count": 103,
   "id": "42e24403",
   "metadata": {},
   "outputs": [
    {
     "data": {
      "text/html": [
       "<style>#sk-container-id-3 {color: black;background-color: white;}#sk-container-id-3 pre{padding: 0;}#sk-container-id-3 div.sk-toggleable {background-color: white;}#sk-container-id-3 label.sk-toggleable__label {cursor: pointer;display: block;width: 100%;margin-bottom: 0;padding: 0.3em;box-sizing: border-box;text-align: center;}#sk-container-id-3 label.sk-toggleable__label-arrow:before {content: \"▸\";float: left;margin-right: 0.25em;color: #696969;}#sk-container-id-3 label.sk-toggleable__label-arrow:hover:before {color: black;}#sk-container-id-3 div.sk-estimator:hover label.sk-toggleable__label-arrow:before {color: black;}#sk-container-id-3 div.sk-toggleable__content {max-height: 0;max-width: 0;overflow: hidden;text-align: left;background-color: #f0f8ff;}#sk-container-id-3 div.sk-toggleable__content pre {margin: 0.2em;color: black;border-radius: 0.25em;background-color: #f0f8ff;}#sk-container-id-3 input.sk-toggleable__control:checked~div.sk-toggleable__content {max-height: 200px;max-width: 100%;overflow: auto;}#sk-container-id-3 input.sk-toggleable__control:checked~label.sk-toggleable__label-arrow:before {content: \"▾\";}#sk-container-id-3 div.sk-estimator input.sk-toggleable__control:checked~label.sk-toggleable__label {background-color: #d4ebff;}#sk-container-id-3 div.sk-label input.sk-toggleable__control:checked~label.sk-toggleable__label {background-color: #d4ebff;}#sk-container-id-3 input.sk-hidden--visually {border: 0;clip: rect(1px 1px 1px 1px);clip: rect(1px, 1px, 1px, 1px);height: 1px;margin: -1px;overflow: hidden;padding: 0;position: absolute;width: 1px;}#sk-container-id-3 div.sk-estimator {font-family: monospace;background-color: #f0f8ff;border: 1px dotted black;border-radius: 0.25em;box-sizing: border-box;margin-bottom: 0.5em;}#sk-container-id-3 div.sk-estimator:hover {background-color: #d4ebff;}#sk-container-id-3 div.sk-parallel-item::after {content: \"\";width: 100%;border-bottom: 1px solid gray;flex-grow: 1;}#sk-container-id-3 div.sk-label:hover label.sk-toggleable__label {background-color: #d4ebff;}#sk-container-id-3 div.sk-serial::before {content: \"\";position: absolute;border-left: 1px solid gray;box-sizing: border-box;top: 0;bottom: 0;left: 50%;z-index: 0;}#sk-container-id-3 div.sk-serial {display: flex;flex-direction: column;align-items: center;background-color: white;padding-right: 0.2em;padding-left: 0.2em;position: relative;}#sk-container-id-3 div.sk-item {position: relative;z-index: 1;}#sk-container-id-3 div.sk-parallel {display: flex;align-items: stretch;justify-content: center;background-color: white;position: relative;}#sk-container-id-3 div.sk-item::before, #sk-container-id-3 div.sk-parallel-item::before {content: \"\";position: absolute;border-left: 1px solid gray;box-sizing: border-box;top: 0;bottom: 0;left: 50%;z-index: -1;}#sk-container-id-3 div.sk-parallel-item {display: flex;flex-direction: column;z-index: 1;position: relative;background-color: white;}#sk-container-id-3 div.sk-parallel-item:first-child::after {align-self: flex-end;width: 50%;}#sk-container-id-3 div.sk-parallel-item:last-child::after {align-self: flex-start;width: 50%;}#sk-container-id-3 div.sk-parallel-item:only-child::after {width: 0;}#sk-container-id-3 div.sk-dashed-wrapped {border: 1px dashed gray;margin: 0 0.4em 0.5em 0.4em;box-sizing: border-box;padding-bottom: 0.4em;background-color: white;}#sk-container-id-3 div.sk-label label {font-family: monospace;font-weight: bold;display: inline-block;line-height: 1.2em;}#sk-container-id-3 div.sk-label-container {text-align: center;}#sk-container-id-3 div.sk-container {/* jupyter's `normalize.less` sets `[hidden] { display: none; }` but bootstrap.min.css set `[hidden] { display: none !important; }` so we also need the `!important` here to be able to override the default hidden behavior on the sphinx rendered scikit-learn.org. See: https://github.com/scikit-learn/scikit-learn/issues/21755 */display: inline-block !important;position: relative;}#sk-container-id-3 div.sk-text-repr-fallback {display: none;}</style><div id=\"sk-container-id-3\" class=\"sk-top-container\"><div class=\"sk-text-repr-fallback\"><pre>AdaBoostClassifier(base_estimator=RandomForestClassifier(max_depth=30,\n",
       "                                                         max_features=22,\n",
       "                                                         n_estimators=315,\n",
       "                                                         random_state=1),\n",
       "                   n_estimators=55, random_state=1)</pre><b>In a Jupyter environment, please rerun this cell to show the HTML representation or trust the notebook. <br />On GitHub, the HTML representation is unable to render, please try loading this page with nbviewer.org.</b></div><div class=\"sk-container\" hidden><div class=\"sk-item sk-dashed-wrapped\"><div class=\"sk-label-container\"><div class=\"sk-label sk-toggleable\"><input class=\"sk-toggleable__control sk-hidden--visually\" id=\"sk-estimator-id-7\" type=\"checkbox\" ><label for=\"sk-estimator-id-7\" class=\"sk-toggleable__label sk-toggleable__label-arrow\">AdaBoostClassifier</label><div class=\"sk-toggleable__content\"><pre>AdaBoostClassifier(base_estimator=RandomForestClassifier(max_depth=30,\n",
       "                                                         max_features=22,\n",
       "                                                         n_estimators=315,\n",
       "                                                         random_state=1),\n",
       "                   n_estimators=55, random_state=1)</pre></div></div></div><div class=\"sk-parallel\"><div class=\"sk-parallel-item\"><div class=\"sk-item\"><div class=\"sk-label-container\"><div class=\"sk-label sk-toggleable\"><input class=\"sk-toggleable__control sk-hidden--visually\" id=\"sk-estimator-id-8\" type=\"checkbox\" ><label for=\"sk-estimator-id-8\" class=\"sk-toggleable__label sk-toggleable__label-arrow\">base_estimator: RandomForestClassifier</label><div class=\"sk-toggleable__content\"><pre>RandomForestClassifier(max_depth=30, max_features=22, n_estimators=315,\n",
       "                       random_state=1)</pre></div></div></div><div class=\"sk-serial\"><div class=\"sk-item\"><div class=\"sk-estimator sk-toggleable\"><input class=\"sk-toggleable__control sk-hidden--visually\" id=\"sk-estimator-id-9\" type=\"checkbox\" ><label for=\"sk-estimator-id-9\" class=\"sk-toggleable__label sk-toggleable__label-arrow\">RandomForestClassifier</label><div class=\"sk-toggleable__content\"><pre>RandomForestClassifier(max_depth=30, max_features=22, n_estimators=315,\n",
       "                       random_state=1)</pre></div></div></div></div></div></div></div></div></div></div>"
      ],
      "text/plain": [
       "AdaBoostClassifier(base_estimator=RandomForestClassifier(max_depth=30,\n",
       "                                                         max_features=22,\n",
       "                                                         n_estimators=315,\n",
       "                                                         random_state=1),\n",
       "                   n_estimators=55, random_state=1)"
      ]
     },
     "execution_count": 103,
     "metadata": {},
     "output_type": "execute_result"
    }
   ],
   "source": [
    "from sklearn.ensemble import RandomForestClassifier\n",
    "rf16 = RandomForestClassifier(n_estimators=315, max_depth= 30, max_features= 22, random_state = 1) \n",
    "rf16.fit(x_train, y_train)\n",
    "from sklearn.ensemble import AdaBoostClassifier\n",
    "ada20 = AdaBoostClassifier(base_estimator=rf16, n_estimators=55, learning_rate=1.0, random_state= 1)\n",
    "ada20.fit(x_train,y_train)"
   ]
  },
  {
   "cell_type": "markdown",
   "id": "0cf551a4",
   "metadata": {},
   "source": [
    "### Predictions"
   ]
  },
  {
   "cell_type": "code",
   "execution_count": 115,
   "id": "78ce1f20",
   "metadata": {},
   "outputs": [],
   "source": [
    "y_pred2=best_grid.predict(x_test)"
   ]
  },
  {
   "cell_type": "code",
   "execution_count": 116,
   "id": "d426c141",
   "metadata": {},
   "outputs": [],
   "source": [
    "my_submission = pd.DataFrame({'ID': submit.ID, 'Overall_Experience': y_pred2})\n",
    "\n",
    "my_submission.to_csv('Shinkansen submission-2.csv', index=False)"
   ]
  },
  {
   "cell_type": "code",
   "execution_count": 118,
   "id": "20c7a928",
   "metadata": {},
   "outputs": [],
   "source": [
    "y_pred8=rf1.predict(x_test)"
   ]
  },
  {
   "cell_type": "code",
   "execution_count": 119,
   "id": "c95baa83",
   "metadata": {},
   "outputs": [],
   "source": [
    "my_submission = pd.DataFrame({'ID': submit.ID, 'Overall_Experience': y_pred8})\n",
    "\n",
    "my_submission.to_csv('Shinkansen submission-8.csv', index=False)"
   ]
  },
  {
   "cell_type": "code",
   "execution_count": 105,
   "id": "1d8a3de9",
   "metadata": {},
   "outputs": [],
   "source": [
    "y_pred16=ada7.predict(x_test)\n",
    "my_submission = pd.DataFrame({'ID': submit.ID, 'Overall_Experience': y_pred16})\n",
    "\n",
    "my_submission.to_csv('Shinkansen submission-16.csv', index=False) #95.47"
   ]
  },
  {
   "cell_type": "code",
   "execution_count": 107,
   "id": "2dd77a53",
   "metadata": {},
   "outputs": [],
   "source": [
    "y_pred17=ada8.predict(x_test)\n",
    "my_submission = pd.DataFrame({'ID': submit.ID, 'Overall_Experience': y_pred17})\n",
    "\n",
    "my_submission.to_csv('Shinkansen submission-17.csv', index=False) #95.64 "
   ]
  },
  {
   "cell_type": "code",
   "execution_count": 109,
   "id": "3f0c06b0",
   "metadata": {},
   "outputs": [],
   "source": [
    "y_pred18=ada9.predict(x_test)\n",
    "my_submission = pd.DataFrame({'ID': submit.ID, 'Overall_Experience': y_pred18})\n",
    "\n",
    "my_submission.to_csv('Shinkansen submission-18.csv', index=False) #95.57"
   ]
  },
  {
   "cell_type": "code",
   "execution_count": 111,
   "id": "ac0487a9",
   "metadata": {},
   "outputs": [],
   "source": [
    "y_pred19=ada10.predict(x_test)\n",
    "my_submission = pd.DataFrame({'ID': submit.ID, 'Overall_Experience': y_pred19})\n",
    "\n",
    "my_submission.to_csv('Shinkansen submission-19.csv', index=False) #95.57"
   ]
  },
  {
   "cell_type": "code",
   "execution_count": 113,
   "id": "0163d12f",
   "metadata": {},
   "outputs": [],
   "source": [
    "y_pred20=ada11.predict(x_test)\n",
    "my_submission = pd.DataFrame({'ID': submit.ID, 'Overall_Experience': y_pred20})\n",
    "\n",
    "my_submission.to_csv('Shinkansen submission-20.csv', index=False) #95.66878 "
   ]
  },
  {
   "cell_type": "code",
   "execution_count": 115,
   "id": "6d1a0178",
   "metadata": {},
   "outputs": [],
   "source": [
    "y_pred21=ada12.predict(x_test)\n",
    "my_submission = pd.DataFrame({'ID': submit.ID, 'Overall_Experience': y_pred21})\n",
    "\n",
    "my_submission.to_csv('Shinkansen submission-21.csv', index=False) #95.66316"
   ]
  },
  {
   "cell_type": "code",
   "execution_count": 117,
   "id": "6cfcda41",
   "metadata": {},
   "outputs": [],
   "source": [
    "y_pred22=ada13.predict(x_test)\n",
    "my_submission = pd.DataFrame({'ID': submit.ID, 'Overall_Experience': y_pred22})\n",
    "\n",
    "my_submission.to_csv('Shinkansen submission-22.csv', index=False) #95.66878"
   ]
  },
  {
   "cell_type": "code",
   "execution_count": 119,
   "id": "0b9c0b26",
   "metadata": {},
   "outputs": [],
   "source": [
    "y_pred23=ada14.predict(x_test)\n",
    "my_submission = pd.DataFrame({'ID': submit.ID, 'Overall_Experience': y_pred23})\n",
    "\n",
    "my_submission.to_csv('Shinkansen submission-23.csv', index=False) #95.66878"
   ]
  },
  {
   "cell_type": "code",
   "execution_count": 123,
   "id": "d7acb4df",
   "metadata": {},
   "outputs": [],
   "source": [
    "y_pred24=ada15.predict(x_test)\n",
    "my_submission = pd.DataFrame({'ID': submit.ID, 'Overall_Experience': y_pred24})\n",
    "\n",
    "my_submission.to_csv('Shinkansen submission-24.csv', index=False) #95.67"
   ]
  },
  {
   "cell_type": "code",
   "execution_count": 125,
   "id": "0b0dc29d",
   "metadata": {},
   "outputs": [],
   "source": [
    "y_pred25=ada16.predict(x_test)\n",
    "my_submission = pd.DataFrame({'ID': submit.ID, 'Overall_Experience': y_pred25})\n",
    "\n",
    "my_submission.to_csv('Shinkansen submission-25.csv', index=False) #95.67"
   ]
  },
  {
   "cell_type": "code",
   "execution_count": 127,
   "id": "886e640b",
   "metadata": {},
   "outputs": [],
   "source": [
    "y_pred26=ada17.predict(x_test)\n",
    "my_submission = pd.DataFrame({'ID': submit.ID, 'Overall_Experience': y_pred26})\n",
    "\n",
    "my_submission.to_csv('Shinkansen submission-26.csv', index=False) #95.69 Best"
   ]
  },
  {
   "cell_type": "code",
   "execution_count": 100,
   "id": "8a843cf1",
   "metadata": {},
   "outputs": [],
   "source": [
    "y_pred27=ada18.predict(x_test)\n",
    "my_submission = pd.DataFrame({'ID': submit.ID, 'Overall_Experience': y_pred27})\n",
    "\n",
    "my_submission.to_csv('Shinkansen submission-27.csv', index=False)"
   ]
  },
  {
   "cell_type": "code",
   "execution_count": 102,
   "id": "d2c34c81",
   "metadata": {},
   "outputs": [],
   "source": [
    "y_pred28=ada19.predict(x_test)\n",
    "my_submission = pd.DataFrame({'ID': submit.ID, 'Overall_Experience': y_pred28})\n",
    "\n",
    "my_submission.to_csv('Shinkansen submission-28.csv', index=False)"
   ]
  },
  {
   "cell_type": "code",
   "execution_count": 104,
   "id": "555b568f",
   "metadata": {},
   "outputs": [],
   "source": [
    "y_pred29=ada20.predict(x_test)\n",
    "my_submission = pd.DataFrame({'ID': submit.ID, 'Overall_Experience': y_pred29})\n",
    "\n",
    "my_submission.to_csv('Shinkansen submission-29.csv', index=False)"
   ]
  },
  {
   "cell_type": "code",
   "execution_count": null,
   "id": "5453bc66",
   "metadata": {},
   "outputs": [],
   "source": []
  }
 ],
 "metadata": {
  "kernelspec": {
   "display_name": "Python 3 (ipykernel)",
   "language": "python",
   "name": "python3"
  },
  "language_info": {
   "codemirror_mode": {
    "name": "ipython",
    "version": 3
   },
   "file_extension": ".py",
   "mimetype": "text/x-python",
   "name": "python",
   "nbconvert_exporter": "python",
   "pygments_lexer": "ipython3",
   "version": "3.9.7"
  }
 },
 "nbformat": 4,
 "nbformat_minor": 5
}
